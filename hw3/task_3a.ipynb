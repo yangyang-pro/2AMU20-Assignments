{
 "nbformat": 4,
 "nbformat_minor": 0,
 "metadata": {
  "colab": {
   "name": "task_2.ipynb",
   "provenance": [],
   "collapsed_sections": []
  },
  "kernelspec": {
   "name": "python3",
   "language": "python",
   "display_name": "Python 3"
  },
  "language_info": {
   "name": "python"
  },
  "accelerator": "GPU"
 },
 "cells": [
  {
   "cell_type": "code",
   "metadata": {
    "id": "Ti8034dA0VLR"
   },
   "source": [
    "import torch\n",
    "import torch.nn as nn\n",
    "import torch.nn.functional as F\n",
    "import matplotlib.pyplot as plt\n",
    "import torchvision\n",
    "import numpy as np\n",
    "from tqdm import tqdm\n",
    "from torch.utils.data import TensorDataset\n",
    "from torch.utils.data import DataLoader"
   ],
   "execution_count": 1,
   "outputs": []
  },
  {
   "cell_type": "code",
   "metadata": {
    "id": "S8hHbcps0a9T"
   },
   "source": [
    "train_metadata = torchvision.datasets.MNIST(root='./data', train=True, download=True)\n",
    "test_metadata = torchvision.datasets.MNIST(root='./data', train=False, download=True)\n",
    "\n",
    "train_x = train_metadata.data[:50000].unsqueeze(1) / 255\n",
    "val_x = train_metadata.data[-10000:].unsqueeze(1) / 255\n",
    "test_x = test_metadata.data.unsqueeze(1) / 255\n",
    "train_y = train_metadata.targets[:50000]\n",
    "val_y = train_metadata.targets[-10000:]\n",
    "test_y = test_metadata.targets"
   ],
   "execution_count": 2,
   "outputs": []
  },
  {
   "cell_type": "code",
   "metadata": {
    "id": "zs8dXRYx0bHh"
   },
   "source": [
    "DEVICE = 'cuda' if torch.cuda.is_available() else 'cpu'\n",
    "# DEVICE = 'cpu'\n",
    "BATCH_SIZE = 256\n",
    "NUM_TRAIN = 50000\n",
    "NUM_VAL = 10000\n",
    "IMG_C = train_x.shape[-3]\n",
    "IMG_H = train_x.shape[-2]\n",
    "IMG_W = train_x.shape[-1]\n",
    "\n",
    "train_data = TensorDataset(train_x, train_y)\n",
    "val_data = TensorDataset(val_x, val_y)\n",
    "test_data = TensorDataset(test_x, test_y)\n",
    "\n",
    "train_dataloader = DataLoader(train_data, batch_size=BATCH_SIZE, shuffle=True)\n",
    "val_dataloader = DataLoader(val_data, batch_size=BATCH_SIZE, shuffle=True)\n",
    "test_dataloader = DataLoader(test_data, batch_size=1000)"
   ],
   "execution_count": 3,
   "outputs": []
  },
  {
   "cell_type": "code",
   "metadata": {
    "id": "7YIqJB2V0r-6"
   },
   "source": [
    "class Encoder(nn.Module):\n",
    "    def __init__(self, input_dim, latent_dim):\n",
    "        super(Encoder, self).__init__()\n",
    "        self.encode = nn.Sequential(\n",
    "          nn.Conv2d(input_dim, 32, kernel_size=(5, 5), stride=(1, 1), padding=(2, 2)),\n",
    "          nn.ReLU(inplace=True),\n",
    "          nn.MaxPool2d(kernel_size=2, stride=2),\n",
    "\n",
    "          nn.Conv2d(32, 64, kernel_size=(5, 5), stride=(1, 1), padding=(2, 2)),\n",
    "          nn.ReLU(inplace=True),\n",
    "          nn.MaxPool2d(kernel_size=2, stride=2),\n",
    "\n",
    "          nn.Conv2d(64, 128, kernel_size=(3, 3), stride=(1, 1), padding=(1, 1)),\n",
    "          nn.ReLU(inplace=True),\n",
    "          nn.MaxPool2d(kernel_size=2, stride=2),\n",
    "\n",
    "          nn.Flatten()\n",
    "        )\n",
    "        self.fc_mu = nn.Linear(128 * 3 * 3, latent_dim)\n",
    "        self.fc_var = nn.Linear(128 * 3 * 3, latent_dim)\n",
    "\n",
    "    def forward(self, x):\n",
    "        encoded = self.encode(x)\n",
    "        mu = self.fc_mu(encoded)\n",
    "        log_var = self.fc_var(encoded)\n",
    "        z = self.reparameterization(mu, log_var)\n",
    "        return z, mu, log_var\n",
    "\n",
    "    def reparameterization(self, mu, log_var):\n",
    "        std = torch.exp(0.5 * log_var)\n",
    "        epsilon = torch.randn_like(std).to(DEVICE)\n",
    "        z = mu + std * epsilon\n",
    "        return z\n",
    "\n",
    "class Decoder(nn.Module):\n",
    "    def __init__(self, latent_dim, output_dim):\n",
    "        super(Decoder, self).__init__()\n",
    "        self.decode = nn.Sequential(\n",
    "            nn.ConvTranspose2d(latent_dim, 128, kernel_size=(5, 5), stride=(2, 2), padding=(1, 1)),\n",
    "            nn.BatchNorm2d(128),\n",
    "            nn.ReLU(inplace=True),\n",
    "\n",
    "            nn.ConvTranspose2d(128, 64, kernel_size=(5, 5), stride=(2, 2), padding=(1, 1)),\n",
    "            nn.BatchNorm2d(64),\n",
    "            nn.ReLU(inplace=True),\n",
    "\n",
    "            nn.ConvTranspose2d(64, 32, kernel_size=(5, 5), stride=(2, 2), padding=(1, 1)),\n",
    "            nn.BatchNorm2d(32),\n",
    "            nn.ReLU(inplace=True),\n",
    "\n",
    "            nn.ConvTranspose2d(32, output_dim, kernel_size=(5, 5), stride=(2, 2), padding=(1, 1)),\n",
    "            nn.Flatten()\n",
    "        )\n",
    "        self.fc_probs = nn.Linear(31 * 31, IMG_H * IMG_W)\n",
    "\n",
    "    def forward(self, x):\n",
    "        x = x.unsqueeze(-1).unsqueeze(-1)\n",
    "        x = self.decode(x)\n",
    "        probs = torch.sigmoid(self.fc_probs(x))\n",
    "        return probs\n",
    "\n",
    "class VAE(nn.Module):\n",
    "    def __init__(self, encoder, decoder):\n",
    "        super(VAE, self).__init__()\n",
    "        self.encoder = encoder\n",
    "        self.decoder = decoder\n",
    "\n",
    "    def forward(self, x):\n",
    "        z, mu_z, log_var_z = self.encoder(x)\n",
    "        probs_x = self.decoder(z)\n",
    "        return mu_z, log_var_z, probs_x\n",
    "\n",
    "    def reconstruct(self, probs_x):\n",
    "        bern_dist = torch.distributions.Bernoulli(probs_x)\n",
    "        x_recon = bern_dist.sample()\n",
    "        return x_recon.view(x_recon.shape[0], IMG_C, IMG_H, IMG_W)"
   ],
   "execution_count": 4,
   "outputs": []
  },
  {
   "cell_type": "code",
   "metadata": {
    "colab": {
     "base_uri": "https://localhost:8080/"
    },
    "id": "X9L31WKJ4FYf",
    "outputId": "fb50a16d-a18b-4e17-f3ac-b4c538588d3f"
   },
   "source": [
    "LATENT_DIM = 2\n",
    "\n",
    "encoder = Encoder(input_dim=IMG_C, latent_dim=LATENT_DIM)\n",
    "decoder = Decoder(latent_dim=LATENT_DIM, output_dim=IMG_C)\n",
    "vae = VAE(encoder, decoder).to(DEVICE)\n",
    "print(vae)"
   ],
   "execution_count": 5,
   "outputs": [
    {
     "name": "stdout",
     "output_type": "stream",
     "text": [
      "VAE(\n",
      "  (encoder): Encoder(\n",
      "    (encode): Sequential(\n",
      "      (0): Conv2d(1, 32, kernel_size=(5, 5), stride=(1, 1), padding=(2, 2))\n",
      "      (1): ReLU(inplace=True)\n",
      "      (2): MaxPool2d(kernel_size=2, stride=2, padding=0, dilation=1, ceil_mode=False)\n",
      "      (3): Conv2d(32, 64, kernel_size=(5, 5), stride=(1, 1), padding=(2, 2))\n",
      "      (4): ReLU(inplace=True)\n",
      "      (5): MaxPool2d(kernel_size=2, stride=2, padding=0, dilation=1, ceil_mode=False)\n",
      "      (6): Conv2d(64, 128, kernel_size=(3, 3), stride=(1, 1), padding=(1, 1))\n",
      "      (7): ReLU(inplace=True)\n",
      "      (8): MaxPool2d(kernel_size=2, stride=2, padding=0, dilation=1, ceil_mode=False)\n",
      "      (9): Flatten(start_dim=1, end_dim=-1)\n",
      "    )\n",
      "    (fc_mu): Linear(in_features=1152, out_features=2, bias=True)\n",
      "    (fc_var): Linear(in_features=1152, out_features=2, bias=True)\n",
      "  )\n",
      "  (decoder): Decoder(\n",
      "    (decode): Sequential(\n",
      "      (0): ConvTranspose2d(2, 128, kernel_size=(5, 5), stride=(2, 2), padding=(1, 1))\n",
      "      (1): BatchNorm2d(128, eps=1e-05, momentum=0.1, affine=True, track_running_stats=True)\n",
      "      (2): ReLU(inplace=True)\n",
      "      (3): ConvTranspose2d(128, 64, kernel_size=(5, 5), stride=(2, 2), padding=(1, 1))\n",
      "      (4): BatchNorm2d(64, eps=1e-05, momentum=0.1, affine=True, track_running_stats=True)\n",
      "      (5): ReLU(inplace=True)\n",
      "      (6): ConvTranspose2d(64, 32, kernel_size=(5, 5), stride=(2, 2), padding=(1, 1))\n",
      "      (7): BatchNorm2d(32, eps=1e-05, momentum=0.1, affine=True, track_running_stats=True)\n",
      "      (8): ReLU(inplace=True)\n",
      "      (9): ConvTranspose2d(32, 1, kernel_size=(5, 5), stride=(2, 2), padding=(1, 1))\n",
      "      (10): Flatten(start_dim=1, end_dim=-1)\n",
      "    )\n",
      "    (fc_probs): Linear(in_features=961, out_features=784, bias=True)\n",
      "  )\n",
      ")\n"
     ]
    }
   ]
  },
  {
   "cell_type": "code",
   "metadata": {
    "colab": {
     "base_uri": "https://localhost:8080/",
     "height": 381
    },
    "id": "M73UiUda4HjL",
    "outputId": "65abb014-9965-47a0-f1f8-0b9c7ceeff8a"
   },
   "source": [
    "optimizer = torch.optim.Adam(vae.parameters(), lr=1e-3)\n",
    "\n",
    "def train_vae(num_epochs, patience=5):\n",
    "    train_elbos = []\n",
    "    val_elbos = []\n",
    "    best_val_elbo = np.inf\n",
    "    tolerance = 0\n",
    "    epochs = num_epochs\n",
    "    for epoch in tqdm(range(num_epochs)):\n",
    "        overall_train_elbo = 0.0\n",
    "        overall_val_elbo = 0.0\n",
    "        for batch in train_dataloader:\n",
    "            optimizer.zero_grad()\n",
    "            x, _ = batch\n",
    "            x = x.to(DEVICE)\n",
    "            mu_z, log_var_z, probs_x = vae(x)\n",
    "            x = torch.flatten(x, start_dim=1)\n",
    "            log_p = -F.binary_cross_entropy(probs_x, x, reduction='sum')\n",
    "            kl = -0.5 * torch.sum(1 + log_var_z - mu_z.pow(2) - log_var_z.exp())\n",
    "            negative_elbo = -log_p + kl\n",
    "            negative_elbo.backward()\n",
    "            optimizer.step()\n",
    "            overall_train_elbo += negative_elbo.item()\n",
    "\n",
    "        for batch in val_dataloader:\n",
    "            x, _ = batch\n",
    "            x = x.to(DEVICE)\n",
    "            with torch.no_grad():\n",
    "                mu_z, log_var_z, probs_x = vae(x)\n",
    "                x = torch.flatten(x, start_dim=1)\n",
    "                log_p = -F.binary_cross_entropy(probs_x, x, reduction='sum')\n",
    "                kl = -0.5 * torch.sum(1 + log_var_z - mu_z.pow(2) - log_var_z.exp())\n",
    "                negative_elbo = -log_p + kl\n",
    "                overall_val_elbo += negative_elbo.item()\n",
    "        mean_train_elbo = overall_train_elbo / NUM_TRAIN\n",
    "        mean_val_elbo = overall_val_elbo / NUM_VAL\n",
    "        print('Epoch {}, Mean Training ELBO {}, Mean Validation ELBO {}'.format(epoch + 1, mean_train_elbo, mean_val_elbo))\n",
    "        train_elbos.append(mean_train_elbo)\n",
    "        val_elbos.append(mean_val_elbo)\n",
    "        if mean_val_elbo < best_val_elbo:\n",
    "            best_val_elbo = mean_val_elbo\n",
    "            tolerance = 0\n",
    "        else:\n",
    "            tolerance += 1\n",
    "            if tolerance == patience:\n",
    "                print('Early Stopped!')\n",
    "                epochs = epoch + 1\n",
    "                break\n",
    "    plt.plot(range(1, epochs + 1), train_elbos, 'g', label='Training Mean Negative ELBO')\n",
    "    plt.plot(range(1, epochs + 1), val_elbos, 'b', label='Validation Mean Negative ELBO')\n",
    "    plt.title('Training and Validation Mean Negative ELBO')\n",
    "    plt.xlabel('Epochs')\n",
    "    plt.ylabel('Mean Negative ELBO')\n",
    "    plt.legend()\n",
    "    plt.show()\n",
    "train_vae(num_epochs=20)"
   ],
   "execution_count": 6,
   "outputs": [
    {
     "name": "stderr",
     "output_type": "stream",
     "text": [
      "  5%|▌         | 1/20 [00:07<02:23,  7.53s/it]"
     ]
    },
    {
     "name": "stdout",
     "output_type": "stream",
     "text": [
      "Epoch 1, Mean Training ELBO 192.07918671875, Mean Validation ELBO 167.80017404785156\n"
     ]
    },
    {
     "name": "stderr",
     "output_type": "stream",
     "text": [
      " 10%|█         | 2/20 [00:13<01:56,  6.47s/it]"
     ]
    },
    {
     "name": "stdout",
     "output_type": "stream",
     "text": [
      "Epoch 2, Mean Training ELBO 163.544579375, Mean Validation ELBO 158.25801713867187\n"
     ]
    },
    {
     "name": "stderr",
     "output_type": "stream",
     "text": [
      " 15%|█▌        | 3/20 [00:19<01:44,  6.15s/it]"
     ]
    },
    {
     "name": "stdout",
     "output_type": "stream",
     "text": [
      "Epoch 3, Mean Training ELBO 157.835896015625, Mean Validation ELBO 154.99219260253906\n"
     ]
    },
    {
     "name": "stderr",
     "output_type": "stream",
     "text": [
      " 20%|██        | 4/20 [00:24<01:35,  5.99s/it]"
     ]
    },
    {
     "name": "stdout",
     "output_type": "stream",
     "text": [
      "Epoch 4, Mean Training ELBO 155.22400724609375, Mean Validation ELBO 151.9703759765625\n"
     ]
    },
    {
     "name": "stderr",
     "output_type": "stream",
     "text": [
      " 25%|██▌       | 5/20 [00:30<01:28,  5.92s/it]"
     ]
    },
    {
     "name": "stdout",
     "output_type": "stream",
     "text": [
      "Epoch 5, Mean Training ELBO 153.1077202734375, Mean Validation ELBO 151.20324685058594\n"
     ]
    },
    {
     "name": "stderr",
     "output_type": "stream",
     "text": [
      " 30%|███       | 6/20 [00:36<01:22,  5.88s/it]"
     ]
    },
    {
     "name": "stdout",
     "output_type": "stream",
     "text": [
      "Epoch 6, Mean Training ELBO 151.79204423828125, Mean Validation ELBO 149.58462744140624\n"
     ]
    },
    {
     "name": "stderr",
     "output_type": "stream",
     "text": [
      " 35%|███▌      | 7/20 [00:42<01:16,  5.86s/it]"
     ]
    },
    {
     "name": "stdout",
     "output_type": "stream",
     "text": [
      "Epoch 7, Mean Training ELBO 150.66048099609375, Mean Validation ELBO 148.62208972167969\n"
     ]
    },
    {
     "name": "stderr",
     "output_type": "stream",
     "text": [
      " 40%|████      | 8/20 [00:47<01:09,  5.83s/it]"
     ]
    },
    {
     "name": "stdout",
     "output_type": "stream",
     "text": [
      "Epoch 8, Mean Training ELBO 150.01790939453124, Mean Validation ELBO 148.59575991210937\n"
     ]
    },
    {
     "name": "stderr",
     "output_type": "stream",
     "text": [
      " 45%|████▌     | 9/20 [00:53<01:03,  5.82s/it]"
     ]
    },
    {
     "name": "stdout",
     "output_type": "stream",
     "text": [
      "Epoch 9, Mean Training ELBO 149.19282373046875, Mean Validation ELBO 148.71185778808595\n"
     ]
    },
    {
     "name": "stderr",
     "output_type": "stream",
     "text": [
      " 50%|█████     | 10/20 [00:59<00:58,  5.81s/it]"
     ]
    },
    {
     "name": "stdout",
     "output_type": "stream",
     "text": [
      "Epoch 10, Mean Training ELBO 148.53916791015624, Mean Validation ELBO 147.32911794433593\n"
     ]
    },
    {
     "name": "stderr",
     "output_type": "stream",
     "text": [
      " 55%|█████▌    | 11/20 [01:05<00:52,  5.81s/it]"
     ]
    },
    {
     "name": "stdout",
     "output_type": "stream",
     "text": [
      "Epoch 11, Mean Training ELBO 147.8125674609375, Mean Validation ELBO 148.390275\n"
     ]
    },
    {
     "name": "stderr",
     "output_type": "stream",
     "text": [
      " 60%|██████    | 12/20 [01:11<00:46,  5.81s/it]"
     ]
    },
    {
     "name": "stdout",
     "output_type": "stream",
     "text": [
      "Epoch 12, Mean Training ELBO 147.687014921875, Mean Validation ELBO 145.9354548095703\n"
     ]
    },
    {
     "name": "stderr",
     "output_type": "stream",
     "text": [
      " 65%|██████▌   | 13/20 [01:16<00:40,  5.80s/it]"
     ]
    },
    {
     "name": "stdout",
     "output_type": "stream",
     "text": [
      "Epoch 13, Mean Training ELBO 147.10327673828124, Mean Validation ELBO 146.76200590820312\n"
     ]
    },
    {
     "name": "stderr",
     "output_type": "stream",
     "text": [
      " 70%|███████   | 14/20 [01:22<00:34,  5.81s/it]"
     ]
    },
    {
     "name": "stdout",
     "output_type": "stream",
     "text": [
      "Epoch 14, Mean Training ELBO 146.88825037109376, Mean Validation ELBO 146.26984008789063\n"
     ]
    },
    {
     "name": "stderr",
     "output_type": "stream",
     "text": [
      " 75%|███████▌  | 15/20 [01:28<00:29,  5.81s/it]"
     ]
    },
    {
     "name": "stdout",
     "output_type": "stream",
     "text": [
      "Epoch 15, Mean Training ELBO 146.20640521484376, Mean Validation ELBO 144.93709294433594\n"
     ]
    },
    {
     "name": "stderr",
     "output_type": "stream",
     "text": [
      " 80%|████████  | 16/20 [01:34<00:23,  5.82s/it]"
     ]
    },
    {
     "name": "stdout",
     "output_type": "stream",
     "text": [
      "Epoch 16, Mean Training ELBO 146.09181900390624, Mean Validation ELBO 145.53243654785157\n"
     ]
    },
    {
     "name": "stderr",
     "output_type": "stream",
     "text": [
      " 85%|████████▌ | 17/20 [01:40<00:17,  5.81s/it]"
     ]
    },
    {
     "name": "stdout",
     "output_type": "stream",
     "text": [
      "Epoch 17, Mean Training ELBO 145.6616666796875, Mean Validation ELBO 145.74955307617188\n"
     ]
    },
    {
     "name": "stderr",
     "output_type": "stream",
     "text": [
      " 90%|█████████ | 18/20 [01:46<00:11,  5.81s/it]"
     ]
    },
    {
     "name": "stdout",
     "output_type": "stream",
     "text": [
      "Epoch 18, Mean Training ELBO 145.30903046875, Mean Validation ELBO 144.8306147216797\n"
     ]
    },
    {
     "name": "stderr",
     "output_type": "stream",
     "text": [
      " 95%|█████████▌| 19/20 [01:51<00:05,  5.84s/it]"
     ]
    },
    {
     "name": "stdout",
     "output_type": "stream",
     "text": [
      "Epoch 19, Mean Training ELBO 145.41465462890625, Mean Validation ELBO 144.8989861328125\n"
     ]
    },
    {
     "name": "stderr",
     "output_type": "stream",
     "text": [
      "100%|██████████| 20/20 [01:57<00:00,  5.89s/it]"
     ]
    },
    {
     "name": "stdout",
     "output_type": "stream",
     "text": [
      "Epoch 20, Mean Training ELBO 145.0536118359375, Mean Validation ELBO 145.19630063476563\n"
     ]
    },
    {
     "name": "stderr",
     "output_type": "stream",
     "text": [
      "\n"
     ]
    },
    {
     "data": {
      "text/plain": "<Figure size 432x288 with 1 Axes>",
      "image/png": "[encoded data removed]"
     },
     "metadata": {
      "needs_background": "light"
     },
     "output_type": "display_data"
    }
   ]
  },
  {
   "cell_type": "code",
   "metadata": {
    "id": "C6rbozmAOn3d"
   },
   "source": [
    "def test_vae():\n",
    "    x, _ = next(iter(test_dataloader))\n",
    "    x = x.to(DEVICE)\n",
    "    with torch.no_grad():\n",
    "        _, _, probs_x = vae(x)\n",
    "        # x_recon = vae.reconstruct(probs_x)\n",
    "        x_recon = probs_x\n",
    "        return x, x_recon\n",
    "test_batch, test_batch_recon = test_vae()"
   ],
   "execution_count": 7,
   "outputs": []
  },
  {
   "cell_type": "code",
   "execution_count": 8,
   "outputs": [
    {
     "ename": "RuntimeError",
     "evalue": "shape '[256, 28, 28]' is invalid for input of size 784000",
     "output_type": "error",
     "traceback": [
      "\u001B[1;31m---------------------------------------------------------------------------\u001B[0m",
      "\u001B[1;31mRuntimeError\u001B[0m                              Traceback (most recent call last)",
      "\u001B[1;32m<ipython-input-8-d7988f2fb45a>\u001B[0m in \u001B[0;36m<module>\u001B[1;34m\u001B[0m\n\u001B[0;32m     12\u001B[0m             \u001B[0max\u001B[0m\u001B[1;33m[\u001B[0m\u001B[0mi\u001B[0m\u001B[1;33m]\u001B[0m\u001B[1;33m[\u001B[0m\u001B[1;36m2\u001B[0m\u001B[1;33m*\u001B[0m\u001B[0mj\u001B[0m\u001B[1;33m]\u001B[0m\u001B[1;33m.\u001B[0m\u001B[0maxis\u001B[0m\u001B[1;33m(\u001B[0m\u001B[1;34m'off'\u001B[0m\u001B[1;33m)\u001B[0m\u001B[1;33m\u001B[0m\u001B[1;33m\u001B[0m\u001B[0m\n\u001B[0;32m     13\u001B[0m             \u001B[0max\u001B[0m\u001B[1;33m[\u001B[0m\u001B[0mi\u001B[0m\u001B[1;33m]\u001B[0m\u001B[1;33m[\u001B[0m\u001B[1;36m2\u001B[0m\u001B[1;33m*\u001B[0m\u001B[0mj\u001B[0m\u001B[1;33m+\u001B[0m\u001B[1;36m1\u001B[0m\u001B[1;33m]\u001B[0m\u001B[1;33m.\u001B[0m\u001B[0maxis\u001B[0m\u001B[1;33m(\u001B[0m\u001B[1;34m'off'\u001B[0m\u001B[1;33m)\u001B[0m\u001B[1;33m\u001B[0m\u001B[1;33m\u001B[0m\u001B[0m\n\u001B[1;32m---> 14\u001B[1;33m \u001B[0mshow_images\u001B[0m\u001B[1;33m(\u001B[0m\u001B[0mtest_batch\u001B[0m\u001B[1;33m,\u001B[0m \u001B[0mtest_batch_recon\u001B[0m\u001B[1;33m)\u001B[0m\u001B[1;33m\u001B[0m\u001B[1;33m\u001B[0m\u001B[0m\n\u001B[0m\u001B[0;32m     15\u001B[0m \u001B[1;33m\u001B[0m\u001B[0m\n",
      "\u001B[1;32m<ipython-input-8-d7988f2fb45a>\u001B[0m in \u001B[0;36mshow_images\u001B[1;34m(x, x_recon)\u001B[0m\n\u001B[0;32m      1\u001B[0m \u001B[1;32mdef\u001B[0m \u001B[0mshow_images\u001B[0m\u001B[1;33m(\u001B[0m\u001B[0mx\u001B[0m\u001B[1;33m,\u001B[0m \u001B[0mx_recon\u001B[0m\u001B[1;33m)\u001B[0m\u001B[1;33m:\u001B[0m\u001B[1;33m\u001B[0m\u001B[1;33m\u001B[0m\u001B[0m\n\u001B[0;32m      2\u001B[0m     \u001B[1;34m\"\"\" plots first 32 images and reconstructions\"\"\"\u001B[0m\u001B[1;33m\u001B[0m\u001B[1;33m\u001B[0m\u001B[0m\n\u001B[1;32m----> 3\u001B[1;33m     \u001B[0mx\u001B[0m \u001B[1;33m=\u001B[0m \u001B[0mx\u001B[0m\u001B[1;33m.\u001B[0m\u001B[0mview\u001B[0m\u001B[1;33m(\u001B[0m\u001B[0mBATCH_SIZE\u001B[0m\u001B[1;33m,\u001B[0m \u001B[1;36m28\u001B[0m\u001B[1;33m,\u001B[0m \u001B[1;36m28\u001B[0m\u001B[1;33m)\u001B[0m\u001B[1;33m\u001B[0m\u001B[1;33m\u001B[0m\u001B[0m\n\u001B[0m\u001B[0;32m      4\u001B[0m     \u001B[0mx_recon\u001B[0m \u001B[1;33m=\u001B[0m \u001B[0mx_recon\u001B[0m\u001B[1;33m.\u001B[0m\u001B[0mview\u001B[0m\u001B[1;33m(\u001B[0m\u001B[0mBATCH_SIZE\u001B[0m\u001B[1;33m,\u001B[0m \u001B[1;36m28\u001B[0m\u001B[1;33m,\u001B[0m \u001B[1;36m28\u001B[0m\u001B[1;33m)\u001B[0m\u001B[1;33m\u001B[0m\u001B[1;33m\u001B[0m\u001B[0m\n\u001B[0;32m      5\u001B[0m     \u001B[0mfig\u001B[0m\u001B[1;33m,\u001B[0m \u001B[0max\u001B[0m \u001B[1;33m=\u001B[0m \u001B[0mplt\u001B[0m\u001B[1;33m.\u001B[0m\u001B[0msubplots\u001B[0m\u001B[1;33m(\u001B[0m\u001B[1;36m8\u001B[0m\u001B[1;33m,\u001B[0m \u001B[1;36m8\u001B[0m\u001B[1;33m,\u001B[0m \u001B[0mfigsize\u001B[0m\u001B[1;33m=\u001B[0m\u001B[1;33m(\u001B[0m\u001B[1;36m20\u001B[0m\u001B[1;33m,\u001B[0m \u001B[1;36m20\u001B[0m\u001B[1;33m)\u001B[0m\u001B[1;33m)\u001B[0m\u001B[1;33m\u001B[0m\u001B[1;33m\u001B[0m\u001B[0m\n",
      "\u001B[1;31mRuntimeError\u001B[0m: shape '[256, 28, 28]' is invalid for input of size 784000"
     ]
    }
   ],
   "source": [
    "def show_images(x, x_recon):\n",
    "    \"\"\" plots first 32 images and reconstructions\"\"\"\n",
    "    x = x.view(BATCH_SIZE, 28, 28)\n",
    "    x_recon = x_recon.view(BATCH_SIZE, 28, 28)\n",
    "    fig, ax = plt.subplots(8, 8, figsize=(20, 20))\n",
    "    for i in range(8):\n",
    "        for j in range(4):\n",
    "            ax[i][2*j].imshow(x[i*4+j].cpu().numpy(), cmap=\"Greys_r\")\n",
    "            ax[i][2*j+1].imshow(x_recon[i*4+j].cpu().numpy(), cmap=\"Greys_r\")\n",
    "            ax[i][2*j].set_title(f\"Input {i*4+j}\", fontsize=10)\n",
    "            ax[i][2*j+1].set_title(f\"Output {i*4+j}\", fontsize=10)\n",
    "            ax[i][2*j].axis('off')\n",
    "            ax[i][2*j+1].axis('off')\n",
    "show_images(test_batch, test_batch_recon)"
   ],
   "metadata": {
    "collapsed": false,
    "pycharm": {
     "name": "#%%\n"
    }
   }
  },
  {
   "cell_type": "code",
   "execution_count": 9,
   "outputs": [
    {
     "data": {
      "text/plain": "<Figure size 720x576 with 1 Axes>",
      "image/png": "[encoded data removed]"
     },
     "metadata": {
      "needs_background": "light"
     },
     "output_type": "display_data"
    }
   ],
   "source": [
    "def plot_latent_space(path='latent_2d_3a.png', labels=None):\n",
    "    x, y = next(iter(test_dataloader))\n",
    "    x = x.to(DEVICE)\n",
    "    with torch.no_grad():\n",
    "        mu_z, log_var_z, probs_x = vae(x)\n",
    "        plt.figure(figsize=(10, 8))\n",
    "        targets = y.data.cpu().numpy()\n",
    "        latent = mu_z.data.cpu().numpy()\n",
    "        for i in np.unique(targets):\n",
    "            inds = np.where(targets==i)[0]\n",
    "            plt.scatter(latent[inds, 0], latent[inds, 1], alpha=0.5)\n",
    "        plt.legend(labels, fontsize=10)\n",
    "        plt.savefig(path)\n",
    "        plt.show()\n",
    "plot_latent_space(labels=test_metadata.classes)"
   ],
   "metadata": {
    "collapsed": false,
    "pycharm": {
     "name": "#%%\n"
    }
   }
  },
  {
   "cell_type": "code",
   "execution_count": null,
   "outputs": [],
   "source": [],
   "metadata": {
    "collapsed": false,
    "pycharm": {
     "name": "#%%\n"
    }
   }
  }
 ]
}