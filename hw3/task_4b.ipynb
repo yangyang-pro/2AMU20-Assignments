{
 "nbformat": 4,
 "nbformat_minor": 0,
 "metadata": {
  "colab": {
   "name": "task_2.ipynb",
   "provenance": [],
   "collapsed_sections": []
  },
  "kernelspec": {
   "name": "python3",
   "language": "python",
   "display_name": "Python 3"
  },
  "language_info": {
   "name": "python"
  },
  "accelerator": "GPU"
 },
 "cells": [
  {
   "cell_type": "code",
   "metadata": {
    "id": "Ti8034dA0VLR"
   },
   "source": [
    "import torch\n",
    "import torch.nn as nn\n",
    "import torch.nn.functional as F\n",
    "import matplotlib.pyplot as plt\n",
    "import torchvision\n",
    "import numpy as np\n",
    "from tqdm import tqdm\n",
    "from torch.utils.data import TensorDataset\n",
    "from torch.utils.data import DataLoader"
   ],
   "execution_count": 1,
   "outputs": []
  },
  {
   "cell_type": "code",
   "metadata": {
    "id": "S8hHbcps0a9T"
   },
   "source": [
    "train_metadata = torchvision.datasets.MNIST(root='./data', train=True, download=True)\n",
    "test_metadata = torchvision.datasets.MNIST(root='./data', train=False, download=True)\n",
    "\n",
    "train_x = train_metadata.data[:50000].unsqueeze(1) / 255\n",
    "val_x = train_metadata.data[-10000:].unsqueeze(1) / 255\n",
    "test_x = test_metadata.data.unsqueeze(1) / 255\n",
    "train_y = train_metadata.targets[:50000]\n",
    "val_y = train_metadata.targets[-10000:]\n",
    "test_y = test_metadata.targets"
   ],
   "execution_count": 2,
   "outputs": []
  },
  {
   "cell_type": "code",
   "metadata": {
    "id": "zs8dXRYx0bHh"
   },
   "source": [
    "DEVICE = 'cuda' if torch.cuda.is_available() else 'cpu'\n",
    "# DEVICE = 'cpu'\n",
    "BATCH_SIZE = 256\n",
    "NUM_TRAIN = 50000\n",
    "NUM_VAL = 10000\n",
    "IMG_C = train_x.shape[-3]\n",
    "IMG_H = train_x.shape[-2]\n",
    "IMG_W = train_x.shape[-1]\n",
    "\n",
    "train_data = TensorDataset(train_x, train_y)\n",
    "val_data = TensorDataset(val_x, val_y)\n",
    "test_data = TensorDataset(test_x, test_y)\n",
    "\n",
    "train_dataloader = DataLoader(train_data, batch_size=BATCH_SIZE, shuffle=True)\n",
    "val_dataloader = DataLoader(val_data, batch_size=BATCH_SIZE, shuffle=True)\n",
    "test_dataloader = DataLoader(test_data, batch_size=BATCH_SIZE)"
   ],
   "execution_count": 3,
   "outputs": []
  },
  {
   "cell_type": "code",
   "metadata": {
    "id": "7YIqJB2V0r-6"
   },
   "source": [
    "class Encoder(nn.Module):\n",
    "    def __init__(self, input_dim, latent_dim):\n",
    "        super(Encoder, self).__init__()\n",
    "        self.encode = nn.Sequential(\n",
    "          nn.Conv2d(input_dim, 32, kernel_size=(5, 5), stride=(1, 1), padding=(2, 2)),\n",
    "          nn.ReLU(inplace=True),\n",
    "          nn.MaxPool2d(kernel_size=2, stride=2),\n",
    "\n",
    "          nn.Conv2d(32, 64, kernel_size=(5, 5), stride=(1, 1), padding=(2, 2)),\n",
    "          nn.ReLU(inplace=True),\n",
    "          nn.MaxPool2d(kernel_size=2, stride=2),\n",
    "\n",
    "          nn.Conv2d(64, 128, kernel_size=(3, 3), stride=(1, 1), padding=(1, 1)),\n",
    "          nn.ReLU(inplace=True),\n",
    "          nn.MaxPool2d(kernel_size=2, stride=2),\n",
    "\n",
    "          nn.Flatten()\n",
    "        )\n",
    "        self.fc_mu = nn.Linear(128 * 3 * 3, latent_dim)\n",
    "        self.fc_var = nn.Linear(128 * 3 * 3, latent_dim)\n",
    "\n",
    "    def forward(self, x):\n",
    "        encoded = self.encode(x)\n",
    "        mu = self.fc_mu(encoded)\n",
    "        log_var = self.fc_var(encoded)\n",
    "        z = self.reparameterization(mu, log_var)\n",
    "        return z, mu, log_var\n",
    "\n",
    "    def reparameterization(self, mu, log_var):\n",
    "        std = torch.exp(0.5 * log_var)\n",
    "        epsilon = torch.randn_like(std).to(DEVICE)\n",
    "        z = mu + std * epsilon\n",
    "        return z\n",
    "\n",
    "class Decoder(nn.Module):\n",
    "    def __init__(self, latent_dim, output_dim):\n",
    "        super(Decoder, self).__init__()\n",
    "        self.decode = nn.Sequential(\n",
    "            nn.ConvTranspose2d(latent_dim, 128, kernel_size=(5, 5), stride=(2, 2), padding=(1, 1)),\n",
    "            nn.BatchNorm2d(128),\n",
    "            nn.ReLU(inplace=True),\n",
    "\n",
    "            nn.ConvTranspose2d(128, 64, kernel_size=(5, 5), stride=(2, 2), padding=(1, 1)),\n",
    "            nn.BatchNorm2d(64),\n",
    "            nn.ReLU(inplace=True),\n",
    "\n",
    "            nn.ConvTranspose2d(64, 32, kernel_size=(5, 5), stride=(2, 2), padding=(1, 1)),\n",
    "            nn.BatchNorm2d(32),\n",
    "            nn.ReLU(inplace=True),\n",
    "\n",
    "            nn.ConvTranspose2d(32, output_dim, kernel_size=(5, 5), stride=(2, 2), padding=(1, 1)),\n",
    "            nn.Flatten()\n",
    "        )\n",
    "        self.fc_probs = nn.Linear(31 * 31, IMG_H * IMG_W)\n",
    "\n",
    "    def forward(self, x):\n",
    "        x = x.unsqueeze(-1).unsqueeze(-1)\n",
    "        x = self.decode(x)\n",
    "        probs = torch.sigmoid(self.fc_probs(x))\n",
    "        return probs\n",
    "\n",
    "class VAE(nn.Module):\n",
    "    def __init__(self, encoder, decoder):\n",
    "        super(VAE, self).__init__()\n",
    "        self.encoder = encoder\n",
    "        self.decoder = decoder\n",
    "\n",
    "    def forward(self, x):\n",
    "        z, mu_z, log_var_z = self.encoder(x)\n",
    "        probs_x = self.decoder(z)\n",
    "        return mu_z, log_var_z, probs_x\n",
    "\n",
    "    def reconstruct(self, probs_x):\n",
    "        bern_dist = torch.distributions.Bernoulli(probs_x)\n",
    "        x_recon = bern_dist.sample()\n",
    "        return x_recon.view(x_recon.shape[0], IMG_C, IMG_H, IMG_W)"
   ],
   "execution_count": 4,
   "outputs": []
  },
  {
   "cell_type": "code",
   "metadata": {
    "colab": {
     "base_uri": "https://localhost:8080/"
    },
    "id": "X9L31WKJ4FYf",
    "outputId": "fb50a16d-a18b-4e17-f3ac-b4c538588d3f"
   },
   "source": [
    "LATENT_DIM = 16\n",
    "\n",
    "encoder = Encoder(input_dim=IMG_C, latent_dim=LATENT_DIM)\n",
    "decoder = Decoder(latent_dim=LATENT_DIM, output_dim=IMG_C)\n",
    "vae = VAE(encoder, decoder).to(DEVICE)\n",
    "print(vae)"
   ],
   "execution_count": 5,
   "outputs": [
    {
     "name": "stdout",
     "output_type": "stream",
     "text": [
      "VAE(\n",
      "  (encoder): Encoder(\n",
      "    (encode): Sequential(\n",
      "      (0): Conv2d(1, 32, kernel_size=(5, 5), stride=(1, 1), padding=(2, 2))\n",
      "      (1): ReLU(inplace=True)\n",
      "      (2): MaxPool2d(kernel_size=2, stride=2, padding=0, dilation=1, ceil_mode=False)\n",
      "      (3): Conv2d(32, 64, kernel_size=(5, 5), stride=(1, 1), padding=(2, 2))\n",
      "      (4): ReLU(inplace=True)\n",
      "      (5): MaxPool2d(kernel_size=2, stride=2, padding=0, dilation=1, ceil_mode=False)\n",
      "      (6): Conv2d(64, 128, kernel_size=(3, 3), stride=(1, 1), padding=(1, 1))\n",
      "      (7): ReLU(inplace=True)\n",
      "      (8): MaxPool2d(kernel_size=2, stride=2, padding=0, dilation=1, ceil_mode=False)\n",
      "      (9): Flatten(start_dim=1, end_dim=-1)\n",
      "    )\n",
      "    (fc_mu): Linear(in_features=1152, out_features=16, bias=True)\n",
      "    (fc_var): Linear(in_features=1152, out_features=16, bias=True)\n",
      "  )\n",
      "  (decoder): Decoder(\n",
      "    (decode): Sequential(\n",
      "      (0): ConvTranspose2d(16, 128, kernel_size=(5, 5), stride=(2, 2), padding=(1, 1))\n",
      "      (1): BatchNorm2d(128, eps=1e-05, momentum=0.1, affine=True, track_running_stats=True)\n",
      "      (2): ReLU(inplace=True)\n",
      "      (3): ConvTranspose2d(128, 64, kernel_size=(5, 5), stride=(2, 2), padding=(1, 1))\n",
      "      (4): BatchNorm2d(64, eps=1e-05, momentum=0.1, affine=True, track_running_stats=True)\n",
      "      (5): ReLU(inplace=True)\n",
      "      (6): ConvTranspose2d(64, 32, kernel_size=(5, 5), stride=(2, 2), padding=(1, 1))\n",
      "      (7): BatchNorm2d(32, eps=1e-05, momentum=0.1, affine=True, track_running_stats=True)\n",
      "      (8): ReLU(inplace=True)\n",
      "      (9): ConvTranspose2d(32, 1, kernel_size=(5, 5), stride=(2, 2), padding=(1, 1))\n",
      "      (10): Flatten(start_dim=1, end_dim=-1)\n",
      "    )\n",
      "    (fc_probs): Linear(in_features=961, out_features=784, bias=True)\n",
      "  )\n",
      ")\n"
     ]
    }
   ]
  },
  {
   "cell_type": "code",
   "metadata": {
    "colab": {
     "base_uri": "https://localhost:8080/",
     "height": 381
    },
    "id": "M73UiUda4HjL",
    "outputId": "65abb014-9965-47a0-f1f8-0b9c7ceeff8a"
   },
   "source": [
    "optimizer = torch.optim.Adam(vae.parameters(), lr=1e-3)\n",
    "\n",
    "def train_vae(num_epochs, patience=5):\n",
    "    train_elbos = []\n",
    "    val_elbos = []\n",
    "    best_val_elbo = np.inf\n",
    "    tolerance = 0\n",
    "    epochs = num_epochs\n",
    "    for epoch in tqdm(range(num_epochs)):\n",
    "        overall_train_elbo = 0.0\n",
    "        overall_val_elbo = 0.0\n",
    "        for batch in train_dataloader:\n",
    "            optimizer.zero_grad()\n",
    "            x, _ = batch\n",
    "            x = x.to(DEVICE)\n",
    "            mu_z, log_var_z, probs_x = vae(x)\n",
    "            x = torch.flatten(x, start_dim=1)\n",
    "            log_p = -F.binary_cross_entropy(probs_x, x, reduction='sum')\n",
    "            kl = -0.5 * torch.sum(1 + log_var_z - mu_z.pow(2) - log_var_z.exp())\n",
    "            negative_elbo = -log_p + kl\n",
    "            negative_elbo.backward()\n",
    "            optimizer.step()\n",
    "            overall_train_elbo += negative_elbo.item()\n",
    "\n",
    "        for batch in val_dataloader:\n",
    "            x, _ = batch\n",
    "            x = x.to(DEVICE)\n",
    "            with torch.no_grad():\n",
    "                mu_z, log_var_z, probs_x = vae(x)\n",
    "                x = torch.flatten(x, start_dim=1)\n",
    "                log_p = -F.binary_cross_entropy(probs_x, x, reduction='sum')\n",
    "                kl = -0.5 * torch.sum(1 + log_var_z - mu_z.pow(2) - log_var_z.exp())\n",
    "                negative_elbo = -log_p + kl\n",
    "                overall_val_elbo += negative_elbo.item()\n",
    "        mean_train_elbo = overall_train_elbo / NUM_TRAIN\n",
    "        mean_val_elbo = overall_val_elbo / NUM_VAL\n",
    "        print('Epoch {}, Mean Training ELBO {}, Mean Validation ELBO {}'.format(epoch + 1, mean_train_elbo, mean_val_elbo))\n",
    "        train_elbos.append(mean_train_elbo)\n",
    "        val_elbos.append(mean_val_elbo)\n",
    "        if mean_val_elbo < best_val_elbo:\n",
    "            best_val_elbo = mean_val_elbo\n",
    "            tolerance = 0\n",
    "        else:\n",
    "            tolerance += 1\n",
    "            if tolerance == patience:\n",
    "                print('Early Stopped!')\n",
    "                epochs = epoch + 1\n",
    "                break\n",
    "    plt.plot(range(1, epochs + 1), train_elbos, 'g', label='Training Mean Negative ELBO')\n",
    "    plt.plot(range(1, epochs + 1), val_elbos, 'b', label='Validation Mean Negative ELBO')\n",
    "    plt.title('Training and Validation Mean Negative ELBO')\n",
    "    plt.xlabel('Epoch')\n",
    "    plt.ylabel('Mean Negative ELBO')\n",
    "    plt.legend()\n",
    "    plt.show()\n",
    "train_vae(num_epochs=20)"
   ],
   "execution_count": 6,
   "outputs": [
    {
     "name": "stderr",
     "output_type": "stream",
     "text": [
      "  5%|▌         | 1/20 [00:07<02:23,  7.56s/it]"
     ]
    },
    {
     "name": "stdout",
     "output_type": "stream",
     "text": [
      "Epoch 1, Mean Training ELBO 200.51982, Mean Validation ELBO 173.71348481445312\n"
     ]
    },
    {
     "name": "stderr",
     "output_type": "stream",
     "text": [
      " 10%|█         | 2/20 [00:13<01:56,  6.48s/it]"
     ]
    },
    {
     "name": "stdout",
     "output_type": "stream",
     "text": [
      "Epoch 2, Mean Training ELBO 142.39175017578125, Mean Validation ELBO 126.41007648925782\n"
     ]
    },
    {
     "name": "stderr",
     "output_type": "stream",
     "text": [
      " 15%|█▌        | 3/20 [00:19<01:44,  6.14s/it]"
     ]
    },
    {
     "name": "stdout",
     "output_type": "stream",
     "text": [
      "Epoch 3, Mean Training ELBO 118.75851607421875, Mean Validation ELBO 116.91995020751953\n"
     ]
    },
    {
     "name": "stderr",
     "output_type": "stream",
     "text": [
      " 20%|██        | 4/20 [00:24<01:35,  5.98s/it]"
     ]
    },
    {
     "name": "stdout",
     "output_type": "stream",
     "text": [
      "Epoch 4, Mean Training ELBO 111.58811927734375, Mean Validation ELBO 111.22998858642578\n"
     ]
    },
    {
     "name": "stderr",
     "output_type": "stream",
     "text": [
      " 25%|██▌       | 5/20 [00:30<01:28,  5.91s/it]"
     ]
    },
    {
     "name": "stdout",
     "output_type": "stream",
     "text": [
      "Epoch 5, Mean Training ELBO 108.1671506640625, Mean Validation ELBO 109.24222521972656\n"
     ]
    },
    {
     "name": "stderr",
     "output_type": "stream",
     "text": [
      " 30%|███       | 6/20 [00:36<01:22,  5.86s/it]"
     ]
    },
    {
     "name": "stdout",
     "output_type": "stream",
     "text": [
      "Epoch 6, Mean Training ELBO 106.1348048828125, Mean Validation ELBO 107.60910505371093\n"
     ]
    },
    {
     "name": "stderr",
     "output_type": "stream",
     "text": [
      " 35%|███▌      | 7/20 [00:42<01:16,  5.85s/it]"
     ]
    },
    {
     "name": "stdout",
     "output_type": "stream",
     "text": [
      "Epoch 7, Mean Training ELBO 104.89175142578125, Mean Validation ELBO 106.4602547241211\n"
     ]
    },
    {
     "name": "stderr",
     "output_type": "stream",
     "text": [
      " 40%|████      | 8/20 [00:47<01:10,  5.83s/it]"
     ]
    },
    {
     "name": "stdout",
     "output_type": "stream",
     "text": [
      "Epoch 8, Mean Training ELBO 103.915874921875, Mean Validation ELBO 104.94382917480469\n"
     ]
    },
    {
     "name": "stderr",
     "output_type": "stream",
     "text": [
      " 45%|████▌     | 9/20 [00:53<01:04,  5.83s/it]"
     ]
    },
    {
     "name": "stdout",
     "output_type": "stream",
     "text": [
      "Epoch 9, Mean Training ELBO 102.88605515625, Mean Validation ELBO 103.60356749267578\n"
     ]
    },
    {
     "name": "stderr",
     "output_type": "stream",
     "text": [
      " 50%|█████     | 10/20 [00:59<00:58,  5.83s/it]"
     ]
    },
    {
     "name": "stdout",
     "output_type": "stream",
     "text": [
      "Epoch 10, Mean Training ELBO 102.558390625, Mean Validation ELBO 102.69211785888672\n"
     ]
    },
    {
     "name": "stderr",
     "output_type": "stream",
     "text": [
      " 55%|█████▌    | 11/20 [01:05<00:52,  5.83s/it]"
     ]
    },
    {
     "name": "stdout",
     "output_type": "stream",
     "text": [
      "Epoch 11, Mean Training ELBO 101.8551784375, Mean Validation ELBO 102.49770249023437\n"
     ]
    },
    {
     "name": "stderr",
     "output_type": "stream",
     "text": [
      " 60%|██████    | 12/20 [01:11<00:46,  5.84s/it]"
     ]
    },
    {
     "name": "stdout",
     "output_type": "stream",
     "text": [
      "Epoch 12, Mean Training ELBO 101.26429201171875, Mean Validation ELBO 103.08937796630859\n"
     ]
    },
    {
     "name": "stderr",
     "output_type": "stream",
     "text": [
      " 65%|██████▌   | 13/20 [01:17<00:40,  5.85s/it]"
     ]
    },
    {
     "name": "stdout",
     "output_type": "stream",
     "text": [
      "Epoch 13, Mean Training ELBO 101.02132279296875, Mean Validation ELBO 101.94179097900391\n"
     ]
    },
    {
     "name": "stderr",
     "output_type": "stream",
     "text": [
      " 70%|███████   | 14/20 [01:23<00:35,  5.86s/it]"
     ]
    },
    {
     "name": "stdout",
     "output_type": "stream",
     "text": [
      "Epoch 14, Mean Training ELBO 100.31798380859375, Mean Validation ELBO 101.86073562011718\n"
     ]
    },
    {
     "name": "stderr",
     "output_type": "stream",
     "text": [
      " 75%|███████▌  | 15/20 [01:28<00:29,  5.85s/it]"
     ]
    },
    {
     "name": "stdout",
     "output_type": "stream",
     "text": [
      "Epoch 15, Mean Training ELBO 100.04366650390625, Mean Validation ELBO 102.09755544433594\n"
     ]
    },
    {
     "name": "stderr",
     "output_type": "stream",
     "text": [
      " 80%|████████  | 16/20 [01:34<00:23,  5.86s/it]"
     ]
    },
    {
     "name": "stdout",
     "output_type": "stream",
     "text": [
      "Epoch 16, Mean Training ELBO 99.86883190429687, Mean Validation ELBO 102.7555697265625\n"
     ]
    },
    {
     "name": "stderr",
     "output_type": "stream",
     "text": [
      " 85%|████████▌ | 17/20 [01:40<00:17,  5.86s/it]"
     ]
    },
    {
     "name": "stdout",
     "output_type": "stream",
     "text": [
      "Epoch 17, Mean Training ELBO 99.605878359375, Mean Validation ELBO 102.60977067871094\n"
     ]
    },
    {
     "name": "stderr",
     "output_type": "stream",
     "text": [
      " 90%|█████████ | 18/20 [01:46<00:11,  5.86s/it]"
     ]
    },
    {
     "name": "stdout",
     "output_type": "stream",
     "text": [
      "Epoch 18, Mean Training ELBO 99.36705385742188, Mean Validation ELBO 101.57463530273438\n"
     ]
    },
    {
     "name": "stderr",
     "output_type": "stream",
     "text": [
      " 95%|█████████▌| 19/20 [01:52<00:05,  5.86s/it]"
     ]
    },
    {
     "name": "stdout",
     "output_type": "stream",
     "text": [
      "Epoch 19, Mean Training ELBO 99.00961752929688, Mean Validation ELBO 100.84609919433593\n"
     ]
    },
    {
     "name": "stderr",
     "output_type": "stream",
     "text": [
      "100%|██████████| 20/20 [01:58<00:00,  5.91s/it]"
     ]
    },
    {
     "name": "stdout",
     "output_type": "stream",
     "text": [
      "Epoch 20, Mean Training ELBO 98.65775134765624, Mean Validation ELBO 101.12871247558594\n"
     ]
    },
    {
     "name": "stderr",
     "output_type": "stream",
     "text": [
      "\n"
     ]
    },
    {
     "data": {
      "text/plain": "<Figure size 432x288 with 1 Axes>",
      "image/png": "[encoded data removed]"
     },
     "metadata": {
      "needs_background": "light"
     },
     "output_type": "display_data"
    }
   ]
  },
  {
   "cell_type": "code",
   "execution_count": 7,
   "outputs": [],
   "source": [
    "def test_vae():\n",
    "    x, _ = next(iter(test_dataloader))\n",
    "    x = x.to(DEVICE)\n",
    "    with torch.no_grad():\n",
    "        _, _, probs_x = vae(x)\n",
    "        x_recon = vae.reconstruct(probs_x)\n",
    "        # x_recon = probs_x\n",
    "        return x, x_recon\n",
    "test_batch, test_batch_recon = test_vae()"
   ],
   "metadata": {
    "collapsed": false,
    "pycharm": {
     "name": "#%%\n"
    }
   }
  },
  {
   "cell_type": "code",
   "execution_count": 8,
   "outputs": [
    {
     "data": {
      "text/plain": "<Figure size 1440x1440 with 64 Axes>",
      "image/png": "[encoded data removed]"
     },
     "metadata": {
      "needs_background": "light"
     },
     "output_type": "display_data"
    }
   ],
   "source": [
    "def show_images(x, x_recon):\n",
    "    \"\"\" plots first 32 images and reconstructions\"\"\"\n",
    "    x = x.view(BATCH_SIZE, 28, 28)\n",
    "    x_recon = x_recon.view(BATCH_SIZE, 28, 28)\n",
    "    fig, ax = plt.subplots(8, 8, figsize=(20, 20))\n",
    "    for i in range(8):\n",
    "        for j in range(4):\n",
    "            ax[i][2*j].imshow(x[i*4+j].cpu().numpy(), cmap=\"Greys_r\")\n",
    "            ax[i][2*j+1].imshow(x_recon[i*4+j].cpu().numpy(), cmap=\"Greys_r\")\n",
    "            ax[i][2*j].set_title(f\"Input {i*4+j}\", fontsize=10)\n",
    "            ax[i][2*j+1].set_title(f\"Output {i*4+j}\", fontsize=10)\n",
    "            ax[i][2*j].axis('off')\n",
    "            ax[i][2*j+1].axis('off')\n",
    "show_images(test_batch, test_batch_recon)"
   ],
   "metadata": {
    "collapsed": false,
    "pycharm": {
     "name": "#%%\n"
    }
   }
  },
  {
   "cell_type": "code",
   "execution_count": 9,
   "outputs": [],
   "source": [
    "train_x_gauss = test_x[:400]\n",
    "val_x_gauss = test_x[400:500]\n",
    "test_x_gauss = test_x[500:]\n",
    "train_y_gauss = test_y[:400]\n",
    "val_y_gauss = test_y[400:500]\n",
    "test_y_gauss = test_y[500:]\n",
    "\n",
    "train_data_gauss = TensorDataset(train_x_gauss, train_y_gauss)\n",
    "val_data_gauss = TensorDataset(val_x_gauss, val_y_gauss)\n",
    "test_data_gauss = TensorDataset(test_x_gauss, test_y_gauss)\n",
    "\n",
    "train_dataloader_gauss = DataLoader(train_data_gauss, batch_size=1, shuffle=True)\n",
    "val_dataloader_gauss = DataLoader(val_data_gauss, batch_size=1, shuffle=True)\n",
    "test_dataloader_gauss = DataLoader(test_data_gauss, batch_size=BATCH_SIZE)"
   ],
   "metadata": {
    "collapsed": false,
    "pycharm": {
     "name": "#%%\n"
    }
   }
  },
  {
   "cell_type": "code",
   "execution_count": 12,
   "outputs": [
    {
     "name": "stdout",
     "output_type": "stream",
     "text": [
      "torch.Size([1, 1, 28, 28])\n"
     ]
    }
   ],
   "source": [
    "s, _ = next(iter(train_dataloader_gauss))\n",
    "print(s.shape)"
   ],
   "metadata": {
    "collapsed": false,
    "pycharm": {
     "name": "#%%\n"
    }
   }
  },
  {
   "cell_type": "code",
   "execution_count": 13,
   "outputs": [],
   "source": [
    "class Gaussian(nn.Module):\n",
    "    def __init__(self, input_dim, latent_dim):\n",
    "        super().__init__()\n",
    "        self.fc_mu = nn.Linear(input_dim, latent_dim)\n",
    "        self.fc_var = nn.Linear(input_dim, latent_dim)\n",
    "\n",
    "    def forward(self, x):\n",
    "        mu = self.fc_mu(x)\n",
    "        log_var = self.fc_var(x)\n",
    "        z = self.reparameterization(mu, log_var)\n",
    "        return z, mu, log_var\n",
    "\n",
    "    def reparameterization(self, mu, log_var):\n",
    "        std = torch.exp(0.5 * log_var)\n",
    "        epsilon = torch.randn_like(std).to(DEVICE)\n",
    "        z = mu + std * epsilon\n",
    "        return z"
   ],
   "metadata": {
    "collapsed": false,
    "pycharm": {
     "name": "#%%\n"
    }
   }
  },
  {
   "cell_type": "code",
   "execution_count": 35,
   "outputs": [
    {
     "name": "stdout",
     "output_type": "stream",
     "text": [
      "Gaussian(\n",
      "  (fc_mu): Linear(in_features=784, out_features=16, bias=True)\n",
      "  (fc_var): Linear(in_features=784, out_features=16, bias=True)\n",
      ")\n"
     ]
    }
   ],
   "source": [
    "gaussian = Gaussian(input_dim=IMG_C*IMG_H*int(IMG_W/2), latent_dim=LATENT_DIM).to(DEVICE)\n",
    "print(gaussian)\n",
    "for param in decoder.parameters():\n",
    "    param.requires_grad = False"
   ],
   "metadata": {
    "collapsed": false,
    "pycharm": {
     "name": "#%%\n"
    }
   }
  },
  {
   "cell_type": "code",
   "execution_count": 21,
   "outputs": [
    {
     "name": "stderr",
     "output_type": "stream",
     "text": [
      "  5%|▌         | 1/20 [00:01<00:30,  1.63s/it]"
     ]
    },
    {
     "name": "stdout",
     "output_type": "stream",
     "text": [
      "Epoch 1, Mean Training ELBO 103.60573711872101, Mean Validation ELBO 96.11141235351562\n"
     ]
    },
    {
     "name": "stderr",
     "output_type": "stream",
     "text": [
      " 10%|█         | 2/20 [00:03<00:27,  1.54s/it]"
     ]
    },
    {
     "name": "stdout",
     "output_type": "stream",
     "text": [
      "Epoch 2, Mean Training ELBO 81.59089870929718, Mean Validation ELBO 91.29066711425781\n"
     ]
    },
    {
     "name": "stderr",
     "output_type": "stream",
     "text": [
      " 15%|█▌        | 3/20 [00:04<00:25,  1.49s/it]"
     ]
    },
    {
     "name": "stdout",
     "output_type": "stream",
     "text": [
      "Epoch 3, Mean Training ELBO 79.81212822914124, Mean Validation ELBO 85.66981872558594\n"
     ]
    },
    {
     "name": "stderr",
     "output_type": "stream",
     "text": [
      " 20%|██        | 4/20 [00:05<00:23,  1.47s/it]"
     ]
    },
    {
     "name": "stdout",
     "output_type": "stream",
     "text": [
      "Epoch 4, Mean Training ELBO 77.26058329105378, Mean Validation ELBO 85.86735466003418\n"
     ]
    },
    {
     "name": "stderr",
     "output_type": "stream",
     "text": [
      " 25%|██▌       | 5/20 [00:07<00:22,  1.47s/it]"
     ]
    },
    {
     "name": "stdout",
     "output_type": "stream",
     "text": [
      "Epoch 5, Mean Training ELBO 76.10597673416137, Mean Validation ELBO 82.19736320495605\n"
     ]
    },
    {
     "name": "stderr",
     "output_type": "stream",
     "text": [
      " 30%|███       | 6/20 [00:08<00:20,  1.48s/it]"
     ]
    },
    {
     "name": "stdout",
     "output_type": "stream",
     "text": [
      "Epoch 6, Mean Training ELBO 75.05091420650483, Mean Validation ELBO 84.06344675064086\n"
     ]
    },
    {
     "name": "stderr",
     "output_type": "stream",
     "text": [
      " 35%|███▌      | 7/20 [00:10<00:19,  1.51s/it]"
     ]
    },
    {
     "name": "stdout",
     "output_type": "stream",
     "text": [
      "Epoch 7, Mean Training ELBO 74.17519513607026, Mean Validation ELBO 80.07149320602417\n"
     ]
    },
    {
     "name": "stderr",
     "output_type": "stream",
     "text": [
      " 40%|████      | 8/20 [00:12<00:18,  1.56s/it]"
     ]
    },
    {
     "name": "stdout",
     "output_type": "stream",
     "text": [
      "Epoch 8, Mean Training ELBO 72.58283979892731, Mean Validation ELBO 81.04974225997925\n"
     ]
    },
    {
     "name": "stderr",
     "output_type": "stream",
     "text": [
      " 45%|████▌     | 9/20 [00:13<00:16,  1.53s/it]"
     ]
    },
    {
     "name": "stdout",
     "output_type": "stream",
     "text": [
      "Epoch 9, Mean Training ELBO 73.56430232048035, Mean Validation ELBO 84.62120452880859\n"
     ]
    },
    {
     "name": "stderr",
     "output_type": "stream",
     "text": [
      " 50%|█████     | 10/20 [00:15<00:15,  1.51s/it]"
     ]
    },
    {
     "name": "stdout",
     "output_type": "stream",
     "text": [
      "Epoch 10, Mean Training ELBO 72.63153104305268, Mean Validation ELBO 82.33547025680542\n"
     ]
    },
    {
     "name": "stderr",
     "output_type": "stream",
     "text": [
      " 55%|█████▌    | 11/20 [00:16<00:13,  1.48s/it]"
     ]
    },
    {
     "name": "stdout",
     "output_type": "stream",
     "text": [
      "Epoch 11, Mean Training ELBO 72.94197942733764, Mean Validation ELBO 81.54454038619996\n"
     ]
    },
    {
     "name": "stderr",
     "output_type": "stream",
     "text": [
      " 55%|█████▌    | 11/20 [00:17<00:14,  1.63s/it]"
     ]
    },
    {
     "name": "stdout",
     "output_type": "stream",
     "text": [
      "Epoch 12, Mean Training ELBO 73.04869167804718, Mean Validation ELBO 80.34017213821411\n",
      "Early Stopped!\n"
     ]
    },
    {
     "name": "stderr",
     "output_type": "stream",
     "text": [
      "\n"
     ]
    },
    {
     "data": {
      "text/plain": "<Figure size 432x288 with 1 Axes>",
      "image/png": "[encoded data removed]"
     },
     "metadata": {
      "needs_background": "light"
     },
     "output_type": "display_data"
    }
   ],
   "source": [
    "optimizer_gaussian = torch.optim.SGD(gaussian.parameters(), lr=1e-3)\n",
    "\n",
    "def train_gaussian(num_epochs, patience=5):\n",
    "    train_elbos = []\n",
    "    val_elbos = []\n",
    "    best_val_elbo = np.inf\n",
    "    tolerance = 0\n",
    "    epochs = num_epochs\n",
    "    for epoch in tqdm(range(num_epochs)):\n",
    "        overall_train_elbo = 0.0\n",
    "        overall_val_elbo = 0.0\n",
    "        for batch in train_dataloader_gauss:\n",
    "            optimizer_gaussian.zero_grad()\n",
    "            x, _ = batch\n",
    "            x = x.to(DEVICE)\n",
    "            x_left = x[:, :, :, :int(IMG_W / 2)]\n",
    "            x_left = torch.flatten(x_left, start_dim=1)\n",
    "            z, mu_z, log_var_z = gaussian(x_left)\n",
    "            probs_x = decoder(z)\n",
    "            probs_x_squared = probs_x.view(probs_x.shape[0], IMG_H, IMG_W)\n",
    "            probs_x_left = torch.flatten(probs_x_squared[:, :, :int(IMG_W / 2)], start_dim=1)\n",
    "            log_p = -F.binary_cross_entropy(probs_x_left, x_left, reduction='sum')\n",
    "            kl = -0.5 * torch.sum(1 + log_var_z - mu_z.pow(2) - log_var_z.exp())\n",
    "            negative_elbo = -log_p + kl\n",
    "            negative_elbo.backward()\n",
    "            optimizer_gaussian.step()\n",
    "            overall_train_elbo += negative_elbo.item()\n",
    "\n",
    "        for batch in val_dataloader_gauss:\n",
    "            x, _ = batch\n",
    "            x = x.to(DEVICE)\n",
    "            with torch.no_grad():\n",
    "                x_left = x[:, :, :, :int(IMG_W / 2)]\n",
    "                x_left = torch.flatten(x_left, start_dim=1)\n",
    "                z, mu_z, log_var_z = gaussian(x_left)\n",
    "                probs_x = decoder(z)\n",
    "                probs_x_squared = probs_x.view(probs_x.shape[0], IMG_H, IMG_W)\n",
    "                probs_x_left = torch.flatten(probs_x_squared[:, :, :int(IMG_W / 2)], start_dim=1)\n",
    "                log_p = -F.binary_cross_entropy(probs_x_left, x_left, reduction='sum')\n",
    "                kl = -0.5 * torch.sum(1 + log_var_z - mu_z.pow(2) - log_var_z.exp())\n",
    "                negative_elbo = -log_p + kl\n",
    "                overall_val_elbo += negative_elbo.item()\n",
    "        mean_train_elbo = overall_train_elbo / 400\n",
    "        mean_val_elbo = overall_val_elbo / 100\n",
    "        print('Epoch {}, Mean Training ELBO {}, Mean Validation ELBO {}'.format(epoch + 1, mean_train_elbo, mean_val_elbo))\n",
    "        train_elbos.append(mean_train_elbo)\n",
    "        val_elbos.append(mean_val_elbo)\n",
    "        if mean_val_elbo < best_val_elbo:\n",
    "            best_val_elbo = mean_val_elbo\n",
    "            tolerance = 0\n",
    "        else:\n",
    "            tolerance += 1\n",
    "            if tolerance == patience:\n",
    "                print('Early Stopped!')\n",
    "                epochs = epoch + 1\n",
    "                break\n",
    "    plt.plot(range(1, epochs + 1), train_elbos, 'g', label='Training Mean Negative ELBO')\n",
    "    plt.plot(range(1, epochs + 1), val_elbos, 'b', label='Validation Mean Negative ELBO')\n",
    "    plt.title('Training and Validation Mean Negative ELBO')\n",
    "    plt.xlabel('Epoch')\n",
    "    plt.ylabel('Mean Negative ELBO')\n",
    "    plt.legend()\n",
    "    plt.show()\n",
    "train_gaussian(num_epochs=20)"
   ],
   "metadata": {
    "collapsed": false,
    "pycharm": {
     "name": "#%%\n"
    }
   }
  },
  {
   "cell_type": "code",
   "metadata": {
    "id": "C6rbozmAOn3d"
   },
   "source": [
    "def test_image_completion():\n",
    "    x, _ = next(iter(test_dataloader_gauss))\n",
    "    x = x.to(DEVICE)\n",
    "    with torch.no_grad():\n",
    "        x_left = x[:, :, :, :int(IMG_W / 2)]\n",
    "        x_left = torch.flatten(x_left, start_dim=1)\n",
    "        z, _, _ = gaussian(x_left)\n",
    "        probs_x = decoder(z)\n",
    "        probs_x = probs_x.view(probs_x.shape[0], IMG_H, IMG_W)\n",
    "        x_right_recon = probs_x[:, :, int(IMG_W / 2):]\n",
    "        return x, x_right_recon\n",
    "test_batch_ic, test_batch_ic_right_recon = test_image_completion()"
   ],
   "execution_count": 26,
   "outputs": []
  },
  {
   "cell_type": "code",
   "execution_count": 34,
   "outputs": [
    {
     "data": {
      "text/plain": "<Figure size 1080x3240 with 30 Axes>",
      "image/png": "[encoded data removed]"
     },
     "metadata": {
      "needs_background": "light"
     },
     "output_type": "display_data"
    }
   ],
   "source": [
    "def show_image_completion(x, x_right_recon):\n",
    "    \"\"\" plots first 32 images and reconstructions\"\"\"\n",
    "    x = x.view(BATCH_SIZE, IMG_H, IMG_W)\n",
    "    x_left = x[:, :, :int(IMG_W / 2)]\n",
    "    x_right_covered = torch.zeros_like(x_left)\n",
    "    x_covered = torch.cat((x_left, x_right_covered), dim=-1)\n",
    "    x_right_recon = x_right_recon.view(BATCH_SIZE, IMG_H, int(IMG_W / 2))\n",
    "    x_recon = torch.cat((x_left, x_right_recon), dim=-1)\n",
    "    fig, ax = plt.subplots(10, 3, figsize=(15, 45))\n",
    "    for i in range(10):\n",
    "        ax[i][0].imshow(x[i].cpu().numpy(), cmap=\"Greys_r\")\n",
    "        ax[i][1].imshow(x_covered[i].cpu().numpy(), cmap=\"Greys_r\")\n",
    "        ax[i][2].imshow(x_recon[i].cpu().numpy(), cmap=\"Greys_r\")\n",
    "        ax[i][0].set_title(f\"Original {i}\", fontsize=10)\n",
    "        ax[i][1].set_title(f\"Left {i}\", fontsize=10)\n",
    "        ax[i][2].set_title(f\"Reconstructed {i}\", fontsize=10)\n",
    "        ax[i][0].axis('off')\n",
    "        ax[i][1].axis('off')\n",
    "        ax[i][2].axis('off')\n",
    "show_image_completion(test_batch_ic, test_batch_ic_right_recon)"
   ],
   "metadata": {
    "collapsed": false,
    "pycharm": {
     "name": "#%%\n"
    }
   }
  },
  {
   "cell_type": "code",
   "execution_count": null,
   "outputs": [],
   "source": [],
   "metadata": {
    "collapsed": false,
    "pycharm": {
     "name": "#%%\n"
    }
   }
  }
 ]
}