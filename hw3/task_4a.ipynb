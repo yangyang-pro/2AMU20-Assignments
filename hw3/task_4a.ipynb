{
 "nbformat": 4,
 "nbformat_minor": 0,
 "metadata": {
  "colab": {
   "name": "task_2.ipynb",
   "provenance": [],
   "collapsed_sections": []
  },
  "kernelspec": {
   "name": "python3",
   "language": "python",
   "display_name": "Python 3"
  },
  "language_info": {
   "name": "python"
  },
  "accelerator": "GPU"
 },
 "cells": [
  {
   "cell_type": "code",
   "metadata": {
    "id": "Ti8034dA0VLR"
   },
   "source": [
    "import torch\n",
    "import torch.nn as nn\n",
    "import torch.nn.functional as F\n",
    "import matplotlib.pyplot as plt\n",
    "import torchvision\n",
    "import numpy as np\n",
    "from tqdm import tqdm\n",
    "from torch.utils.data import TensorDataset\n",
    "from torch.utils.data import DataLoader"
   ],
   "execution_count": 1,
   "outputs": []
  },
  {
   "cell_type": "code",
   "metadata": {
    "id": "S8hHbcps0a9T"
   },
   "source": [
    "train_metadata = torchvision.datasets.MNIST(root='./data', train=True, download=True)\n",
    "test_metadata = torchvision.datasets.MNIST(root='./data', train=False, download=True)\n",
    "\n",
    "train_x = train_metadata.data[:50000].unsqueeze(1) / 255\n",
    "val_x = train_metadata.data[-10000:].unsqueeze(1) / 255\n",
    "test_x = test_metadata.data.unsqueeze(1) / 255\n",
    "train_y = train_metadata.targets[:50000]\n",
    "val_y = train_metadata.targets[-10000:]\n",
    "test_y = test_metadata.targets"
   ],
   "execution_count": 2,
   "outputs": []
  },
  {
   "cell_type": "code",
   "metadata": {
    "id": "zs8dXRYx0bHh"
   },
   "source": [
    "DEVICE = 'cuda' if torch.cuda.is_available() else 'cpu'\n",
    "# DEVICE = 'cpu'\n",
    "BATCH_SIZE = 256\n",
    "NUM_TRAIN = 50000\n",
    "NUM_VAL = 10000\n",
    "IMG_C = train_x.shape[-3]\n",
    "IMG_H = train_x.shape[-2]\n",
    "IMG_W = train_x.shape[-1]\n",
    "\n",
    "train_data = TensorDataset(train_x, train_y)\n",
    "val_data = TensorDataset(val_x, val_y)\n",
    "test_data = TensorDataset(test_x, test_y)\n",
    "\n",
    "train_dataloader = DataLoader(train_data, batch_size=BATCH_SIZE, shuffle=True)\n",
    "val_dataloader = DataLoader(val_data, batch_size=BATCH_SIZE, shuffle=True)\n",
    "test_dataloader = DataLoader(test_data, batch_size=BATCH_SIZE)"
   ],
   "execution_count": 3,
   "outputs": []
  },
  {
   "cell_type": "code",
   "metadata": {
    "id": "7YIqJB2V0r-6"
   },
   "source": [
    "class Encoder(nn.Module):\n",
    "    def __init__(self, input_dim, latent_dim):\n",
    "        super(Encoder, self).__init__()\n",
    "        self.encode = nn.Sequential(\n",
    "          nn.Conv2d(input_dim, 32, kernel_size=(5, 5), stride=(1, 1), padding=(2, 2)),\n",
    "          nn.ReLU(inplace=True),\n",
    "          nn.MaxPool2d(kernel_size=2, stride=2),\n",
    "\n",
    "          nn.Conv2d(32, 64, kernel_size=(5, 5), stride=(1, 1), padding=(2, 2)),\n",
    "          nn.ReLU(inplace=True),\n",
    "          nn.MaxPool2d(kernel_size=2, stride=2),\n",
    "\n",
    "          nn.Conv2d(64, 128, kernel_size=(3, 3), stride=(1, 1), padding=(1, 1)),\n",
    "          nn.ReLU(inplace=True),\n",
    "          nn.MaxPool2d(kernel_size=2, stride=2),\n",
    "\n",
    "          nn.Flatten()\n",
    "        )\n",
    "        self.fc_mu = nn.Linear(128 * 3 * 3, latent_dim)\n",
    "        self.fc_var = nn.Linear(128 * 3 * 3, latent_dim)\n",
    "\n",
    "    def forward(self, x):\n",
    "        encoded = self.encode(x)\n",
    "        mu = self.fc_mu(encoded)\n",
    "        log_var = self.fc_var(encoded)\n",
    "        z = self.reparameterization(mu, log_var)\n",
    "        return z, mu, log_var\n",
    "\n",
    "    def reparameterization(self, mu, log_var):\n",
    "        std = torch.exp(0.5 * log_var)\n",
    "        epsilon = torch.randn_like(std).to(DEVICE)\n",
    "        z = mu + std * epsilon\n",
    "        return z\n",
    "\n",
    "class Decoder(nn.Module):\n",
    "    def __init__(self, latent_dim, output_dim):\n",
    "        super(Decoder, self).__init__()\n",
    "        self.decode = nn.Sequential(\n",
    "            nn.ConvTranspose2d(latent_dim, 128, kernel_size=(5, 5), stride=(2, 2), padding=(1, 1)),\n",
    "            nn.BatchNorm2d(128),\n",
    "            nn.ReLU(inplace=True),\n",
    "\n",
    "            nn.ConvTranspose2d(128, 64, kernel_size=(5, 5), stride=(2, 2), padding=(1, 1)),\n",
    "            nn.BatchNorm2d(64),\n",
    "            nn.ReLU(inplace=True),\n",
    "\n",
    "            nn.ConvTranspose2d(64, 32, kernel_size=(5, 5), stride=(2, 2), padding=(1, 1)),\n",
    "            nn.BatchNorm2d(32),\n",
    "            nn.ReLU(inplace=True),\n",
    "\n",
    "            nn.ConvTranspose2d(32, output_dim, kernel_size=(5, 5), stride=(2, 2), padding=(1, 1)),\n",
    "            nn.Flatten()\n",
    "        )\n",
    "        self.fc_probs = nn.Linear(31 * 31, IMG_H * IMG_W)\n",
    "\n",
    "    def forward(self, x):\n",
    "        x = x.unsqueeze(-1).unsqueeze(-1)\n",
    "        x = self.decode(x)\n",
    "        probs = torch.sigmoid(self.fc_probs(x))\n",
    "        return probs\n",
    "\n",
    "class VAE(nn.Module):\n",
    "    def __init__(self, encoder, decoder):\n",
    "        super(VAE, self).__init__()\n",
    "        self.encoder = encoder\n",
    "        self.decoder = decoder\n",
    "\n",
    "    def forward(self, x):\n",
    "        z, mu_z, log_var_z = self.encoder(x)\n",
    "        probs_x = self.decoder(z)\n",
    "        return mu_z, log_var_z, probs_x\n",
    "\n",
    "    def reconstruct(self, probs_x):\n",
    "        bern_dist = torch.distributions.Bernoulli(probs_x)\n",
    "        x_recon = bern_dist.sample()\n",
    "        return x_recon.view(x_recon.shape[0], IMG_C, IMG_H, IMG_W)"
   ],
   "execution_count": 4,
   "outputs": []
  },
  {
   "cell_type": "code",
   "metadata": {
    "colab": {
     "base_uri": "https://localhost:8080/"
    },
    "id": "X9L31WKJ4FYf",
    "outputId": "fb50a16d-a18b-4e17-f3ac-b4c538588d3f"
   },
   "source": [
    "LATENT_DIM = 16\n",
    "\n",
    "encoder = Encoder(input_dim=IMG_C, latent_dim=LATENT_DIM)\n",
    "decoder = Decoder(latent_dim=LATENT_DIM, output_dim=IMG_C)\n",
    "vae = VAE(encoder, decoder).to(DEVICE)\n",
    "print(vae)"
   ],
   "execution_count": 5,
   "outputs": [
    {
     "name": "stdout",
     "output_type": "stream",
     "text": [
      "VAE(\n",
      "  (encoder): Encoder(\n",
      "    (encode): Sequential(\n",
      "      (0): Conv2d(1, 32, kernel_size=(5, 5), stride=(1, 1), padding=(2, 2))\n",
      "      (1): ReLU(inplace=True)\n",
      "      (2): MaxPool2d(kernel_size=2, stride=2, padding=0, dilation=1, ceil_mode=False)\n",
      "      (3): Conv2d(32, 64, kernel_size=(5, 5), stride=(1, 1), padding=(2, 2))\n",
      "      (4): ReLU(inplace=True)\n",
      "      (5): MaxPool2d(kernel_size=2, stride=2, padding=0, dilation=1, ceil_mode=False)\n",
      "      (6): Conv2d(64, 128, kernel_size=(3, 3), stride=(1, 1), padding=(1, 1))\n",
      "      (7): ReLU(inplace=True)\n",
      "      (8): MaxPool2d(kernel_size=2, stride=2, padding=0, dilation=1, ceil_mode=False)\n",
      "      (9): Flatten(start_dim=1, end_dim=-1)\n",
      "    )\n",
      "    (fc_mu): Linear(in_features=1152, out_features=16, bias=True)\n",
      "    (fc_var): Linear(in_features=1152, out_features=16, bias=True)\n",
      "  )\n",
      "  (decoder): Decoder(\n",
      "    (decode): Sequential(\n",
      "      (0): ConvTranspose2d(16, 128, kernel_size=(5, 5), stride=(2, 2), padding=(1, 1))\n",
      "      (1): BatchNorm2d(128, eps=1e-05, momentum=0.1, affine=True, track_running_stats=True)\n",
      "      (2): ReLU(inplace=True)\n",
      "      (3): ConvTranspose2d(128, 64, kernel_size=(5, 5), stride=(2, 2), padding=(1, 1))\n",
      "      (4): BatchNorm2d(64, eps=1e-05, momentum=0.1, affine=True, track_running_stats=True)\n",
      "      (5): ReLU(inplace=True)\n",
      "      (6): ConvTranspose2d(64, 32, kernel_size=(5, 5), stride=(2, 2), padding=(1, 1))\n",
      "      (7): BatchNorm2d(32, eps=1e-05, momentum=0.1, affine=True, track_running_stats=True)\n",
      "      (8): ReLU(inplace=True)\n",
      "      (9): ConvTranspose2d(32, 1, kernel_size=(5, 5), stride=(2, 2), padding=(1, 1))\n",
      "      (10): Flatten(start_dim=1, end_dim=-1)\n",
      "    )\n",
      "    (fc_probs): Linear(in_features=961, out_features=784, bias=True)\n",
      "  )\n",
      ")\n"
     ]
    }
   ]
  },
  {
   "cell_type": "code",
   "metadata": {
    "colab": {
     "base_uri": "https://localhost:8080/",
     "height": 381
    },
    "id": "M73UiUda4HjL",
    "outputId": "65abb014-9965-47a0-f1f8-0b9c7ceeff8a"
   },
   "source": [
    "optimizer = torch.optim.Adam(vae.parameters(), lr=1e-3)\n",
    "\n",
    "def train_vae(num_epochs, patience=5):\n",
    "    train_elbos = []\n",
    "    val_elbos = []\n",
    "    best_val_elbo = np.inf\n",
    "    tolerance = 0\n",
    "    epochs = num_epochs\n",
    "    for epoch in tqdm(range(num_epochs)):\n",
    "        overall_train_elbo = 0.0\n",
    "        overall_val_elbo = 0.0\n",
    "        for batch in train_dataloader:\n",
    "            optimizer.zero_grad()\n",
    "            x, _ = batch\n",
    "            x = x.to(DEVICE)\n",
    "            mu_z, log_var_z, probs_x = vae(x)\n",
    "            x = torch.flatten(x, start_dim=1)\n",
    "            log_p = -F.binary_cross_entropy(probs_x, x, reduction='sum')\n",
    "            kl = -0.5 * torch.sum(1 + log_var_z - mu_z.pow(2) - log_var_z.exp())\n",
    "            negative_elbo = -log_p + kl\n",
    "            negative_elbo.backward()\n",
    "            optimizer.step()\n",
    "            overall_train_elbo += negative_elbo.item()\n",
    "\n",
    "        for batch in val_dataloader:\n",
    "            x, _ = batch\n",
    "            x = x.to(DEVICE)\n",
    "            with torch.no_grad():\n",
    "                mu_z, log_var_z, probs_x = vae(x)\n",
    "                x = torch.flatten(x, start_dim=1)\n",
    "                log_p = -F.binary_cross_entropy(probs_x, x, reduction='sum')\n",
    "                kl = -0.5 * torch.sum(1 + log_var_z - mu_z.pow(2) - log_var_z.exp())\n",
    "                negative_elbo = -log_p + kl\n",
    "                overall_val_elbo += negative_elbo.item()\n",
    "        mean_train_elbo = overall_train_elbo / NUM_TRAIN\n",
    "        mean_val_elbo = overall_val_elbo / NUM_VAL\n",
    "        print('Epoch {}, Mean Training ELBO {}, Mean Validation ELBO {}'.format(epoch + 1, mean_train_elbo, mean_val_elbo))\n",
    "        train_elbos.append(mean_train_elbo)\n",
    "        val_elbos.append(mean_val_elbo)\n",
    "        if mean_val_elbo < best_val_elbo:\n",
    "            best_val_elbo = mean_val_elbo\n",
    "            tolerance = 0\n",
    "        else:\n",
    "            tolerance += 1\n",
    "            if tolerance == patience:\n",
    "                print('Early Stopped!')\n",
    "                epochs = epoch + 1\n",
    "                break\n",
    "    plt.plot(range(1, epochs + 1), train_elbos, 'g', label='Training Mean Negative ELBO')\n",
    "    plt.plot(range(1, epochs + 1), val_elbos, 'b', label='Validation Mean Negative ELBO')\n",
    "    plt.title('Training and Validation Mean Negative ELBO')\n",
    "    plt.xlabel('Epoch')\n",
    "    plt.ylabel('Mean Negative ELBO')\n",
    "    plt.legend()\n",
    "    plt.show()\n",
    "train_vae(num_epochs=20)"
   ],
   "execution_count": 6,
   "outputs": [
    {
     "name": "stderr",
     "output_type": "stream",
     "text": [
      "  5%|▌         | 1/20 [00:07<02:22,  7.49s/it]"
     ]
    },
    {
     "name": "stdout",
     "output_type": "stream",
     "text": [
      "Epoch 1, Mean Training ELBO 196.567938046875, Mean Validation ELBO 160.54171826171876\n"
     ]
    },
    {
     "name": "stderr",
     "output_type": "stream",
     "text": [
      " 10%|█         | 2/20 [00:13<01:56,  6.46s/it]"
     ]
    },
    {
     "name": "stdout",
     "output_type": "stream",
     "text": [
      "Epoch 2, Mean Training ELBO 137.36269990234376, Mean Validation ELBO 129.73930710449218\n"
     ]
    },
    {
     "name": "stderr",
     "output_type": "stream",
     "text": [
      " 15%|█▌        | 3/20 [00:19<01:44,  6.16s/it]"
     ]
    },
    {
     "name": "stdout",
     "output_type": "stream",
     "text": [
      "Epoch 3, Mean Training ELBO 119.23423384765626, Mean Validation ELBO 116.42155815429687\n"
     ]
    },
    {
     "name": "stderr",
     "output_type": "stream",
     "text": [
      " 20%|██        | 4/20 [00:24<01:36,  6.03s/it]"
     ]
    },
    {
     "name": "stdout",
     "output_type": "stream",
     "text": [
      "Epoch 4, Mean Training ELBO 112.479592421875, Mean Validation ELBO 111.52158367919922\n"
     ]
    },
    {
     "name": "stderr",
     "output_type": "stream",
     "text": [
      " 25%|██▌       | 5/20 [00:30<01:29,  5.96s/it]"
     ]
    },
    {
     "name": "stdout",
     "output_type": "stream",
     "text": [
      "Epoch 5, Mean Training ELBO 109.49432603515625, Mean Validation ELBO 109.99063776855469\n"
     ]
    },
    {
     "name": "stderr",
     "output_type": "stream",
     "text": [
      " 30%|███       | 6/20 [00:36<01:22,  5.90s/it]"
     ]
    },
    {
     "name": "stdout",
     "output_type": "stream",
     "text": [
      "Epoch 6, Mean Training ELBO 107.0759549609375, Mean Validation ELBO 107.88283605957031\n"
     ]
    },
    {
     "name": "stderr",
     "output_type": "stream",
     "text": [
      " 35%|███▌      | 7/20 [00:42<01:16,  5.87s/it]"
     ]
    },
    {
     "name": "stdout",
     "output_type": "stream",
     "text": [
      "Epoch 7, Mean Training ELBO 105.560262578125, Mean Validation ELBO 106.53851270751953\n"
     ]
    },
    {
     "name": "stderr",
     "output_type": "stream",
     "text": [
      " 40%|████      | 8/20 [00:48<01:10,  5.85s/it]"
     ]
    },
    {
     "name": "stdout",
     "output_type": "stream",
     "text": [
      "Epoch 8, Mean Training ELBO 104.50341349609376, Mean Validation ELBO 105.92266926269531\n"
     ]
    },
    {
     "name": "stderr",
     "output_type": "stream",
     "text": [
      " 45%|████▌     | 9/20 [00:53<01:04,  5.83s/it]"
     ]
    },
    {
     "name": "stdout",
     "output_type": "stream",
     "text": [
      "Epoch 9, Mean Training ELBO 103.574528828125, Mean Validation ELBO 104.77522712402343\n"
     ]
    },
    {
     "name": "stderr",
     "output_type": "stream",
     "text": [
      " 50%|█████     | 10/20 [00:59<00:58,  5.83s/it]"
     ]
    },
    {
     "name": "stdout",
     "output_type": "stream",
     "text": [
      "Epoch 10, Mean Training ELBO 103.00438095703124, Mean Validation ELBO 104.89187573242188\n"
     ]
    },
    {
     "name": "stderr",
     "output_type": "stream",
     "text": [
      " 55%|█████▌    | 11/20 [01:05<00:52,  5.83s/it]"
     ]
    },
    {
     "name": "stdout",
     "output_type": "stream",
     "text": [
      "Epoch 11, Mean Training ELBO 102.27080306640624, Mean Validation ELBO 103.47548420410156\n"
     ]
    },
    {
     "name": "stderr",
     "output_type": "stream",
     "text": [
      " 60%|██████    | 12/20 [01:11<00:46,  5.83s/it]"
     ]
    },
    {
     "name": "stdout",
     "output_type": "stream",
     "text": [
      "Epoch 12, Mean Training ELBO 101.81369823242187, Mean Validation ELBO 102.96071694335937\n"
     ]
    },
    {
     "name": "stderr",
     "output_type": "stream",
     "text": [
      " 65%|██████▌   | 13/20 [01:17<00:40,  5.83s/it]"
     ]
    },
    {
     "name": "stdout",
     "output_type": "stream",
     "text": [
      "Epoch 13, Mean Training ELBO 101.2600607421875, Mean Validation ELBO 102.6894341796875\n"
     ]
    },
    {
     "name": "stderr",
     "output_type": "stream",
     "text": [
      " 70%|███████   | 14/20 [01:23<00:35,  5.83s/it]"
     ]
    },
    {
     "name": "stdout",
     "output_type": "stream",
     "text": [
      "Epoch 14, Mean Training ELBO 100.97379701171874, Mean Validation ELBO 102.53216635742187\n"
     ]
    },
    {
     "name": "stderr",
     "output_type": "stream",
     "text": [
      " 75%|███████▌  | 15/20 [01:28<00:29,  5.83s/it]"
     ]
    },
    {
     "name": "stdout",
     "output_type": "stream",
     "text": [
      "Epoch 15, Mean Training ELBO 100.54462518554688, Mean Validation ELBO 102.11764523925781\n"
     ]
    },
    {
     "name": "stderr",
     "output_type": "stream",
     "text": [
      " 80%|████████  | 16/20 [01:34<00:23,  5.85s/it]"
     ]
    },
    {
     "name": "stdout",
     "output_type": "stream",
     "text": [
      "Epoch 16, Mean Training ELBO 100.10024395507813, Mean Validation ELBO 102.64843063964844\n"
     ]
    },
    {
     "name": "stderr",
     "output_type": "stream",
     "text": [
      " 85%|████████▌ | 17/20 [01:40<00:17,  5.85s/it]"
     ]
    },
    {
     "name": "stdout",
     "output_type": "stream",
     "text": [
      "Epoch 17, Mean Training ELBO 99.882172734375, Mean Validation ELBO 101.64416658935546\n"
     ]
    },
    {
     "name": "stderr",
     "output_type": "stream",
     "text": [
      " 90%|█████████ | 18/20 [01:46<00:11,  5.85s/it]"
     ]
    },
    {
     "name": "stdout",
     "output_type": "stream",
     "text": [
      "Epoch 18, Mean Training ELBO 99.66621228515625, Mean Validation ELBO 101.61988352050781\n"
     ]
    },
    {
     "name": "stderr",
     "output_type": "stream",
     "text": [
      " 95%|█████████▌| 19/20 [01:52<00:05,  5.86s/it]"
     ]
    },
    {
     "name": "stdout",
     "output_type": "stream",
     "text": [
      "Epoch 19, Mean Training ELBO 99.3483465625, Mean Validation ELBO 101.48392962646484\n"
     ]
    },
    {
     "name": "stderr",
     "output_type": "stream",
     "text": [
      "100%|██████████| 20/20 [01:58<00:00,  5.91s/it]"
     ]
    },
    {
     "name": "stdout",
     "output_type": "stream",
     "text": [
      "Epoch 20, Mean Training ELBO 99.09796098632812, Mean Validation ELBO 102.12376688232422\n"
     ]
    },
    {
     "name": "stderr",
     "output_type": "stream",
     "text": [
      "\n"
     ]
    },
    {
     "data": {
      "text/plain": "<Figure size 432x288 with 1 Axes>",
      "image/png": "[encoded data removed]"
     },
     "metadata": {
      "needs_background": "light"
     },
     "output_type": "display_data"
    }
   ]
  },
  {
   "cell_type": "code",
   "execution_count": 46,
   "outputs": [],
   "source": [
    "def test_vae():\n",
    "    x, _ = next(iter(test_dataloader))\n",
    "    x = x.to(DEVICE)\n",
    "    with torch.no_grad():\n",
    "        _, _, probs_x = vae(x)\n",
    "        x_recon = vae.reconstruct(probs_x)\n",
    "        # x_recon = probs_x\n",
    "        return x, x_recon\n",
    "test_batch, test_batch_recon = test_vae()"
   ],
   "metadata": {
    "collapsed": false,
    "pycharm": {
     "name": "#%%\n"
    }
   }
  },
  {
   "cell_type": "code",
   "execution_count": 47,
   "outputs": [
    {
     "data": {
      "text/plain": "<Figure size 1440x1440 with 64 Axes>",
      "image/png": "[encoded data removed]"
     },
     "metadata": {
      "needs_background": "light"
     },
     "output_type": "display_data"
    }
   ],
   "source": [
    "def show_images(x, x_recon):\n",
    "    \"\"\" plots first 32 images and reconstructions\"\"\"\n",
    "    x = x.view(BATCH_SIZE, 28, 28)\n",
    "    x_recon = x_recon.view(BATCH_SIZE, 28, 28)\n",
    "    fig, ax = plt.subplots(8, 8, figsize=(20, 20))\n",
    "    for i in range(8):\n",
    "        for j in range(4):\n",
    "            ax[i][2*j].imshow(x[i*4+j].cpu().numpy(), cmap=\"Greys_r\")\n",
    "            ax[i][2*j+1].imshow(x_recon[i*4+j].cpu().numpy(), cmap=\"Greys_r\")\n",
    "            ax[i][2*j].set_title(f\"Input {i*4+j}\", fontsize=10)\n",
    "            ax[i][2*j+1].set_title(f\"Output {i*4+j}\", fontsize=10)\n",
    "            ax[i][2*j].axis('off')\n",
    "            ax[i][2*j+1].axis('off')\n",
    "show_images(test_batch, test_batch_recon)"
   ],
   "metadata": {
    "collapsed": false,
    "pycharm": {
     "name": "#%%\n"
    }
   }
  },
  {
   "cell_type": "code",
   "execution_count": 30,
   "outputs": [],
   "source": [
    "train_x_gauss = test_x[:400]\n",
    "val_x_gauss = test_x[400:500]\n",
    "test_x_gauss = test_x[500:]\n",
    "train_y_gauss = test_y[:400]\n",
    "val_y_gauss = test_y[400:500]\n",
    "test_y_gauss = test_y[500:]\n",
    "\n",
    "train_data_gauss = TensorDataset(train_x_gauss, train_y_gauss)\n",
    "val_data_gauss = TensorDataset(val_x_gauss, val_y_gauss)\n",
    "test_data_gauss = TensorDataset(test_x_gauss, test_y_gauss)\n",
    "\n",
    "train_dataloader_gauss = DataLoader(train_data_gauss, batch_size=1, shuffle=True)\n",
    "val_dataloader_gauss = DataLoader(val_data_gauss, batch_size=1, shuffle=True)\n",
    "test_dataloader_gauss = DataLoader(test_data_gauss, batch_size=BATCH_SIZE)"
   ],
   "metadata": {
    "collapsed": false,
    "pycharm": {
     "name": "#%%\n"
    }
   }
  },
  {
   "cell_type": "code",
   "execution_count": 52,
   "outputs": [],
   "source": [
    "class Gaussian(nn.Module):\n",
    "    def __init__(self, input_dim, latent_dim):\n",
    "        super().__init__()\n",
    "        self.fc_mu = nn.Linear(input_dim, latent_dim)\n",
    "        self.fc_var = nn.Linear(input_dim, latent_dim)\n",
    "\n",
    "    def forward(self, x):\n",
    "        mu = self.fc_mu(x)\n",
    "        log_var = self.fc_var(x)\n",
    "        z = self.reparameterization(mu, log_var)\n",
    "        return z, mu, log_var\n",
    "\n",
    "    def reparameterization(self, mu, log_var):\n",
    "        std = torch.exp(0.5 * log_var)\n",
    "        epsilon = torch.randn_like(std).to(DEVICE)\n",
    "        z = mu + std * epsilon\n",
    "        return z"
   ],
   "metadata": {
    "collapsed": false,
    "pycharm": {
     "name": "#%%\n"
    }
   }
  },
  {
   "cell_type": "code",
   "execution_count": 57,
   "outputs": [
    {
     "name": "stdout",
     "output_type": "stream",
     "text": [
      "Gaussian(\n",
      "  (fc_mu): Linear(in_features=784, out_features=16, bias=True)\n",
      "  (fc_var): Linear(in_features=784, out_features=16, bias=True)\n",
      ")\n"
     ]
    }
   ],
   "source": [
    "gaussian = Gaussian(input_dim=IMG_C*IMG_H*IMG_W, latent_dim=LATENT_DIM).to(DEVICE)\n",
    "print(gaussian)\n",
    "for param in decoder.parameters():\n",
    "    param.requires_grad = False"
   ],
   "metadata": {
    "collapsed": false,
    "pycharm": {
     "name": "#%%\n"
    }
   }
  },
  {
   "cell_type": "code",
   "execution_count": 58,
   "outputs": [
    {
     "name": "stderr",
     "output_type": "stream",
     "text": [
      "  2%|▏         | 1/50 [00:01<01:20,  1.64s/it]"
     ]
    },
    {
     "name": "stdout",
     "output_type": "stream",
     "text": [
      "Epoch 1, Mean Training ELBO 269.1141206932068, Mean Validation ELBO 200.69698097229005\n"
     ]
    },
    {
     "name": "stderr",
     "output_type": "stream",
     "text": [
      "  4%|▍         | 2/50 [00:03<01:15,  1.57s/it]"
     ]
    },
    {
     "name": "stdout",
     "output_type": "stream",
     "text": [
      "Epoch 2, Mean Training ELBO 168.77697756767273, Mean Validation ELBO 172.99538375854493\n"
     ]
    },
    {
     "name": "stderr",
     "output_type": "stream",
     "text": [
      "  6%|▌         | 3/50 [00:04<01:13,  1.55s/it]"
     ]
    },
    {
     "name": "stdout",
     "output_type": "stream",
     "text": [
      "Epoch 3, Mean Training ELBO 153.65693157196046, Mean Validation ELBO 165.2460279083252\n"
     ]
    },
    {
     "name": "stderr",
     "output_type": "stream",
     "text": [
      "  8%|▊         | 4/50 [00:06<01:11,  1.54s/it]"
     ]
    },
    {
     "name": "stdout",
     "output_type": "stream",
     "text": [
      "Epoch 4, Mean Training ELBO 146.92627240180968, Mean Validation ELBO 163.67630867004394\n"
     ]
    },
    {
     "name": "stderr",
     "output_type": "stream",
     "text": [
      " 10%|█         | 5/50 [00:07<01:09,  1.54s/it]"
     ]
    },
    {
     "name": "stdout",
     "output_type": "stream",
     "text": [
      "Epoch 5, Mean Training ELBO 145.7377199935913, Mean Validation ELBO 167.9720712661743\n"
     ]
    },
    {
     "name": "stderr",
     "output_type": "stream",
     "text": [
      " 12%|█▏        | 6/50 [00:09<01:08,  1.55s/it]"
     ]
    },
    {
     "name": "stdout",
     "output_type": "stream",
     "text": [
      "Epoch 6, Mean Training ELBO 142.90115991592407, Mean Validation ELBO 163.8072234725952\n"
     ]
    },
    {
     "name": "stderr",
     "output_type": "stream",
     "text": [
      " 14%|█▍        | 7/50 [00:10<01:07,  1.57s/it]"
     ]
    },
    {
     "name": "stdout",
     "output_type": "stream",
     "text": [
      "Epoch 7, Mean Training ELBO 141.95281161308287, Mean Validation ELBO 164.65849781036377\n"
     ]
    },
    {
     "name": "stderr",
     "output_type": "stream",
     "text": [
      " 16%|█▌        | 8/50 [00:12<01:06,  1.58s/it]"
     ]
    },
    {
     "name": "stdout",
     "output_type": "stream",
     "text": [
      "Epoch 8, Mean Training ELBO 140.5769463920593, Mean Validation ELBO 161.79826389312746\n"
     ]
    },
    {
     "name": "stderr",
     "output_type": "stream",
     "text": [
      " 18%|█▊        | 9/50 [00:14<01:04,  1.57s/it]"
     ]
    },
    {
     "name": "stdout",
     "output_type": "stream",
     "text": [
      "Epoch 9, Mean Training ELBO 139.9252063369751, Mean Validation ELBO 163.67114597320557\n"
     ]
    },
    {
     "name": "stderr",
     "output_type": "stream",
     "text": [
      " 20%|██        | 10/50 [00:15<01:02,  1.56s/it]"
     ]
    },
    {
     "name": "stdout",
     "output_type": "stream",
     "text": [
      "Epoch 10, Mean Training ELBO 139.5920665740967, Mean Validation ELBO 158.0813483810425\n"
     ]
    },
    {
     "name": "stderr",
     "output_type": "stream",
     "text": [
      " 22%|██▏       | 11/50 [00:17<01:00,  1.55s/it]"
     ]
    },
    {
     "name": "stdout",
     "output_type": "stream",
     "text": [
      "Epoch 11, Mean Training ELBO 137.70038208961486, Mean Validation ELBO 160.03615364074707\n"
     ]
    },
    {
     "name": "stderr",
     "output_type": "stream",
     "text": [
      " 24%|██▍       | 12/50 [00:18<00:58,  1.54s/it]"
     ]
    },
    {
     "name": "stdout",
     "output_type": "stream",
     "text": [
      "Epoch 12, Mean Training ELBO 138.1085398864746, Mean Validation ELBO 164.0591082763672\n"
     ]
    },
    {
     "name": "stderr",
     "output_type": "stream",
     "text": [
      " 26%|██▌       | 13/50 [00:20<00:56,  1.54s/it]"
     ]
    },
    {
     "name": "stdout",
     "output_type": "stream",
     "text": [
      "Epoch 13, Mean Training ELBO 136.67725723266602, Mean Validation ELBO 164.57114627838135\n"
     ]
    },
    {
     "name": "stderr",
     "output_type": "stream",
     "text": [
      " 28%|██▊       | 14/50 [00:21<00:55,  1.54s/it]"
     ]
    },
    {
     "name": "stdout",
     "output_type": "stream",
     "text": [
      "Epoch 14, Mean Training ELBO 136.74311560630798, Mean Validation ELBO 160.3022780609131\n"
     ]
    },
    {
     "name": "stderr",
     "output_type": "stream",
     "text": [
      " 30%|███       | 15/50 [00:23<00:53,  1.54s/it]"
     ]
    },
    {
     "name": "stdout",
     "output_type": "stream",
     "text": [
      "Epoch 15, Mean Training ELBO 136.41706625938414, Mean Validation ELBO 162.70771587371826\n"
     ]
    },
    {
     "name": "stderr",
     "output_type": "stream",
     "text": [
      " 32%|███▏      | 16/50 [00:24<00:53,  1.56s/it]"
     ]
    },
    {
     "name": "stdout",
     "output_type": "stream",
     "text": [
      "Epoch 16, Mean Training ELBO 135.86212062835693, Mean Validation ELBO 165.04786151885986\n"
     ]
    },
    {
     "name": "stderr",
     "output_type": "stream",
     "text": [
      " 34%|███▍      | 17/50 [00:26<00:51,  1.57s/it]"
     ]
    },
    {
     "name": "stdout",
     "output_type": "stream",
     "text": [
      "Epoch 17, Mean Training ELBO 134.73985975265504, Mean Validation ELBO 164.3325360107422\n"
     ]
    },
    {
     "name": "stderr",
     "output_type": "stream",
     "text": [
      " 36%|███▌      | 18/50 [00:28<00:50,  1.57s/it]"
     ]
    },
    {
     "name": "stdout",
     "output_type": "stream",
     "text": [
      "Epoch 18, Mean Training ELBO 135.29149745941163, Mean Validation ELBO 160.71731647491455\n"
     ]
    },
    {
     "name": "stderr",
     "output_type": "stream",
     "text": [
      " 38%|███▊      | 19/50 [00:29<00:48,  1.55s/it]"
     ]
    },
    {
     "name": "stdout",
     "output_type": "stream",
     "text": [
      "Epoch 19, Mean Training ELBO 135.82880235671996, Mean Validation ELBO 161.05129333496095\n"
     ]
    },
    {
     "name": "stderr",
     "output_type": "stream",
     "text": [
      " 40%|████      | 20/50 [00:31<00:47,  1.58s/it]"
     ]
    },
    {
     "name": "stdout",
     "output_type": "stream",
     "text": [
      "Epoch 20, Mean Training ELBO 133.39150021553039, Mean Validation ELBO 165.5871199798584\n"
     ]
    },
    {
     "name": "stderr",
     "output_type": "stream",
     "text": [
      " 42%|████▏     | 21/50 [00:32<00:45,  1.57s/it]"
     ]
    },
    {
     "name": "stdout",
     "output_type": "stream",
     "text": [
      "Epoch 21, Mean Training ELBO 133.67712651252748, Mean Validation ELBO 160.89683429718016\n"
     ]
    },
    {
     "name": "stderr",
     "output_type": "stream",
     "text": [
      " 44%|████▍     | 22/50 [00:34<00:43,  1.56s/it]"
     ]
    },
    {
     "name": "stdout",
     "output_type": "stream",
     "text": [
      "Epoch 22, Mean Training ELBO 133.6375311756134, Mean Validation ELBO 162.78427040100098\n"
     ]
    },
    {
     "name": "stderr",
     "output_type": "stream",
     "text": [
      " 46%|████▌     | 23/50 [00:35<00:41,  1.55s/it]"
     ]
    },
    {
     "name": "stdout",
     "output_type": "stream",
     "text": [
      "Epoch 23, Mean Training ELBO 133.33575352668763, Mean Validation ELBO 164.07882095336913\n"
     ]
    },
    {
     "name": "stderr",
     "output_type": "stream",
     "text": [
      " 48%|████▊     | 24/50 [00:37<00:40,  1.55s/it]"
     ]
    },
    {
     "name": "stdout",
     "output_type": "stream",
     "text": [
      "Epoch 24, Mean Training ELBO 132.2345863342285, Mean Validation ELBO 163.11214550018312\n"
     ]
    },
    {
     "name": "stderr",
     "output_type": "stream",
     "text": [
      " 50%|█████     | 25/50 [00:38<00:38,  1.54s/it]"
     ]
    },
    {
     "name": "stdout",
     "output_type": "stream",
     "text": [
      "Epoch 25, Mean Training ELBO 132.60794445991516, Mean Validation ELBO 163.49132034301758\n"
     ]
    },
    {
     "name": "stderr",
     "output_type": "stream",
     "text": [
      " 52%|█████▏    | 26/50 [00:40<00:38,  1.58s/it]"
     ]
    },
    {
     "name": "stdout",
     "output_type": "stream",
     "text": [
      "Epoch 26, Mean Training ELBO 132.14317833900452, Mean Validation ELBO 163.44296169281006\n"
     ]
    },
    {
     "name": "stderr",
     "output_type": "stream",
     "text": [
      " 54%|█████▍    | 27/50 [00:42<00:36,  1.60s/it]"
     ]
    },
    {
     "name": "stdout",
     "output_type": "stream",
     "text": [
      "Epoch 27, Mean Training ELBO 132.04570757865906, Mean Validation ELBO 162.85134712219238\n"
     ]
    },
    {
     "name": "stderr",
     "output_type": "stream",
     "text": [
      " 56%|█████▌    | 28/50 [00:43<00:34,  1.59s/it]"
     ]
    },
    {
     "name": "stdout",
     "output_type": "stream",
     "text": [
      "Epoch 28, Mean Training ELBO 132.03298728942872, Mean Validation ELBO 165.04797836303712\n"
     ]
    },
    {
     "name": "stderr",
     "output_type": "stream",
     "text": [
      " 58%|█████▊    | 29/50 [00:45<00:33,  1.59s/it]"
     ]
    },
    {
     "name": "stdout",
     "output_type": "stream",
     "text": [
      "Epoch 29, Mean Training ELBO 131.91380352973937, Mean Validation ELBO 163.49229320526123\n"
     ]
    },
    {
     "name": "stderr",
     "output_type": "stream",
     "text": [
      " 60%|██████    | 30/50 [00:46<00:31,  1.57s/it]"
     ]
    },
    {
     "name": "stdout",
     "output_type": "stream",
     "text": [
      "Epoch 30, Mean Training ELBO 133.11702083587647, Mean Validation ELBO 162.99700843811036\n"
     ]
    },
    {
     "name": "stderr",
     "output_type": "stream",
     "text": [
      " 62%|██████▏   | 31/50 [00:48<00:29,  1.56s/it]"
     ]
    },
    {
     "name": "stdout",
     "output_type": "stream",
     "text": [
      "Epoch 31, Mean Training ELBO 130.82486083984375, Mean Validation ELBO 164.0688946533203\n"
     ]
    },
    {
     "name": "stderr",
     "output_type": "stream",
     "text": [
      " 64%|██████▍   | 32/50 [00:49<00:27,  1.55s/it]"
     ]
    },
    {
     "name": "stdout",
     "output_type": "stream",
     "text": [
      "Epoch 32, Mean Training ELBO 130.5013384437561, Mean Validation ELBO 166.3032364654541\n"
     ]
    },
    {
     "name": "stderr",
     "output_type": "stream",
     "text": [
      " 66%|██████▌   | 33/50 [00:51<00:26,  1.55s/it]"
     ]
    },
    {
     "name": "stdout",
     "output_type": "stream",
     "text": [
      "Epoch 33, Mean Training ELBO 130.75443803787232, Mean Validation ELBO 162.2149352645874\n"
     ]
    },
    {
     "name": "stderr",
     "output_type": "stream",
     "text": [
      " 68%|██████▊   | 34/50 [00:53<00:24,  1.55s/it]"
     ]
    },
    {
     "name": "stdout",
     "output_type": "stream",
     "text": [
      "Epoch 34, Mean Training ELBO 130.4011335849762, Mean Validation ELBO 166.99296695709228\n"
     ]
    },
    {
     "name": "stderr",
     "output_type": "stream",
     "text": [
      " 70%|███████   | 35/50 [00:54<00:23,  1.54s/it]"
     ]
    },
    {
     "name": "stdout",
     "output_type": "stream",
     "text": [
      "Epoch 35, Mean Training ELBO 130.63632207870484, Mean Validation ELBO 161.5108679962158\n"
     ]
    },
    {
     "name": "stderr",
     "output_type": "stream",
     "text": [
      " 72%|███████▏  | 36/50 [00:56<00:21,  1.55s/it]"
     ]
    },
    {
     "name": "stdout",
     "output_type": "stream",
     "text": [
      "Epoch 36, Mean Training ELBO 130.36692031860352, Mean Validation ELBO 164.42766159057618\n"
     ]
    },
    {
     "name": "stderr",
     "output_type": "stream",
     "text": [
      " 74%|███████▍  | 37/50 [00:57<00:20,  1.58s/it]"
     ]
    },
    {
     "name": "stdout",
     "output_type": "stream",
     "text": [
      "Epoch 37, Mean Training ELBO 130.4504965019226, Mean Validation ELBO 161.3495434951782\n"
     ]
    },
    {
     "name": "stderr",
     "output_type": "stream",
     "text": [
      " 76%|███████▌  | 38/50 [00:59<00:19,  1.61s/it]"
     ]
    },
    {
     "name": "stdout",
     "output_type": "stream",
     "text": [
      "Epoch 38, Mean Training ELBO 129.83543231010438, Mean Validation ELBO 164.76259769439696\n"
     ]
    },
    {
     "name": "stderr",
     "output_type": "stream",
     "text": [
      " 78%|███████▊  | 39/50 [01:01<00:18,  1.64s/it]"
     ]
    },
    {
     "name": "stdout",
     "output_type": "stream",
     "text": [
      "Epoch 39, Mean Training ELBO 130.15648913383484, Mean Validation ELBO 166.99458068847656\n"
     ]
    },
    {
     "name": "stderr",
     "output_type": "stream",
     "text": [
      " 80%|████████  | 40/50 [01:02<00:16,  1.61s/it]"
     ]
    },
    {
     "name": "stdout",
     "output_type": "stream",
     "text": [
      "Epoch 40, Mean Training ELBO 129.73425943374633, Mean Validation ELBO 164.505671043396\n"
     ]
    },
    {
     "name": "stderr",
     "output_type": "stream",
     "text": [
      " 82%|████████▏ | 41/50 [01:04<00:14,  1.60s/it]"
     ]
    },
    {
     "name": "stdout",
     "output_type": "stream",
     "text": [
      "Epoch 41, Mean Training ELBO 130.12444224357606, Mean Validation ELBO 163.55625102996825\n"
     ]
    },
    {
     "name": "stderr",
     "output_type": "stream",
     "text": [
      " 84%|████████▍ | 42/50 [01:05<00:12,  1.58s/it]"
     ]
    },
    {
     "name": "stdout",
     "output_type": "stream",
     "text": [
      "Epoch 42, Mean Training ELBO 128.9564249229431, Mean Validation ELBO 165.27400943756103\n"
     ]
    },
    {
     "name": "stderr",
     "output_type": "stream",
     "text": [
      " 86%|████████▌ | 43/50 [01:07<00:10,  1.57s/it]"
     ]
    },
    {
     "name": "stdout",
     "output_type": "stream",
     "text": [
      "Epoch 43, Mean Training ELBO 129.29306087493896, Mean Validation ELBO 163.8173854446411\n"
     ]
    },
    {
     "name": "stderr",
     "output_type": "stream",
     "text": [
      " 88%|████████▊ | 44/50 [01:08<00:09,  1.56s/it]"
     ]
    },
    {
     "name": "stdout",
     "output_type": "stream",
     "text": [
      "Epoch 44, Mean Training ELBO 130.12455491065978, Mean Validation ELBO 164.82695266723633\n"
     ]
    },
    {
     "name": "stderr",
     "output_type": "stream",
     "text": [
      " 90%|█████████ | 45/50 [01:10<00:07,  1.55s/it]"
     ]
    },
    {
     "name": "stdout",
     "output_type": "stream",
     "text": [
      "Epoch 45, Mean Training ELBO 129.55706412315368, Mean Validation ELBO 164.77320137023926\n"
     ]
    },
    {
     "name": "stderr",
     "output_type": "stream",
     "text": [
      " 92%|█████████▏| 46/50 [01:11<00:06,  1.55s/it]"
     ]
    },
    {
     "name": "stdout",
     "output_type": "stream",
     "text": [
      "Epoch 46, Mean Training ELBO 129.11765251159667, Mean Validation ELBO 166.25946311950685\n"
     ]
    },
    {
     "name": "stderr",
     "output_type": "stream",
     "text": [
      " 94%|█████████▍| 47/50 [01:13<00:04,  1.55s/it]"
     ]
    },
    {
     "name": "stdout",
     "output_type": "stream",
     "text": [
      "Epoch 47, Mean Training ELBO 128.2064589881897, Mean Validation ELBO 167.1979780960083\n"
     ]
    },
    {
     "name": "stderr",
     "output_type": "stream",
     "text": [
      " 96%|█████████▌| 48/50 [01:15<00:03,  1.55s/it]"
     ]
    },
    {
     "name": "stdout",
     "output_type": "stream",
     "text": [
      "Epoch 48, Mean Training ELBO 128.7382752799988, Mean Validation ELBO 166.43899555206298\n"
     ]
    },
    {
     "name": "stderr",
     "output_type": "stream",
     "text": [
      " 98%|█████████▊| 49/50 [01:16<00:01,  1.55s/it]"
     ]
    },
    {
     "name": "stdout",
     "output_type": "stream",
     "text": [
      "Epoch 49, Mean Training ELBO 128.88083742141723, Mean Validation ELBO 168.8000156021118\n"
     ]
    },
    {
     "name": "stderr",
     "output_type": "stream",
     "text": [
      "100%|██████████| 50/50 [01:18<00:00,  1.56s/it]"
     ]
    },
    {
     "name": "stdout",
     "output_type": "stream",
     "text": [
      "Epoch 50, Mean Training ELBO 128.45002702713012, Mean Validation ELBO 165.88563148498534\n"
     ]
    },
    {
     "name": "stderr",
     "output_type": "stream",
     "text": [
      "\n"
     ]
    },
    {
     "data": {
      "text/plain": "<Figure size 432x288 with 1 Axes>",
      "image/png": "[encoded data removed]"
     },
     "metadata": {
      "needs_background": "light"
     },
     "output_type": "display_data"
    }
   ],
   "source": [
    "optimizer_gaussian = torch.optim.Adam(gaussian.parameters(), lr=1e-3)\n",
    "\n",
    "def train_gaussian(num_epochs, patience=50):\n",
    "    train_elbos = []\n",
    "    val_elbos = []\n",
    "    best_val_elbo = np.inf\n",
    "    tolerance = 0\n",
    "    epochs = num_epochs\n",
    "    for epoch in tqdm(range(num_epochs)):\n",
    "        overall_train_elbo = 0.0\n",
    "        overall_val_elbo = 0.0\n",
    "        for batch in train_dataloader_gauss:\n",
    "            optimizer_gaussian.zero_grad()\n",
    "            x, _ = batch\n",
    "            x = x.to(DEVICE)\n",
    "            x = torch.flatten(x, start_dim=1)\n",
    "            z, mu_z, log_var_z = gaussian(x)\n",
    "            probs_x = decoder(z)\n",
    "            log_p = -F.binary_cross_entropy(probs_x, x, reduction='sum')\n",
    "            kl = -0.5 * torch.sum(1 + log_var_z - mu_z.pow(2) - log_var_z.exp())\n",
    "            negative_elbo = -log_p + kl\n",
    "            negative_elbo.backward()\n",
    "            optimizer_gaussian.step()\n",
    "            overall_train_elbo += negative_elbo.item()\n",
    "\n",
    "        for batch in val_dataloader_gauss:\n",
    "            x, _ = batch\n",
    "            x = x.to(DEVICE)\n",
    "            with torch.no_grad():\n",
    "                x = torch.flatten(x, start_dim=1)\n",
    "                z, mu_z, log_var_z = gaussian(x)\n",
    "                probs_x = decoder(z)\n",
    "                log_p = -F.binary_cross_entropy(probs_x, x, reduction='sum')\n",
    "                kl = -0.5 * torch.sum(1 + log_var_z - mu_z.pow(2) - log_var_z.exp())\n",
    "                negative_elbo = -log_p + kl\n",
    "                overall_val_elbo += negative_elbo.item()\n",
    "        mean_train_elbo = overall_train_elbo / 400\n",
    "        mean_val_elbo = overall_val_elbo / 100\n",
    "        print('Epoch {}, Mean Training ELBO {}, Mean Validation ELBO {}'.format(epoch + 1, mean_train_elbo, mean_val_elbo))\n",
    "        train_elbos.append(mean_train_elbo)\n",
    "        val_elbos.append(mean_val_elbo)\n",
    "        if mean_val_elbo < best_val_elbo:\n",
    "            best_val_elbo = mean_val_elbo\n",
    "            tolerance = 0\n",
    "        else:\n",
    "            tolerance += 1\n",
    "            if tolerance == patience:\n",
    "                print('Early Stopped!')\n",
    "                epochs = epoch + 1\n",
    "                break\n",
    "    plt.plot(range(1, epochs + 1), train_elbos, 'g', label='Training Mean Negative ELBO')\n",
    "    plt.plot(range(1, epochs + 1), val_elbos, 'b', label='Validation Mean Negative ELBO')\n",
    "    plt.title('Training and Validation Mean Negative ELBO')\n",
    "    plt.xlabel('Epoch')\n",
    "    plt.ylabel('Mean Negative ELBO')\n",
    "    plt.legend()\n",
    "    plt.show()\n",
    "train_gaussian(num_epochs=50)"
   ],
   "metadata": {
    "collapsed": false,
    "pycharm": {
     "name": "#%%\n"
    }
   }
  },
  {
   "cell_type": "code",
   "metadata": {
    "id": "C6rbozmAOn3d"
   },
   "source": [
    "def test_gaussian():\n",
    "    x, _ = next(iter(test_dataloader_gauss))\n",
    "    x = x.to(DEVICE)\n",
    "    with torch.no_grad():\n",
    "        x = torch.flatten(x, start_dim=1)\n",
    "        z, _, _ = gaussian(x)\n",
    "        probs_x = decoder(z)\n",
    "        x_recon = probs_x\n",
    "        return x, x_recon\n",
    "test_batch_gauss, test_batch_recon_gauss = test_gaussian()"
   ],
   "execution_count": 1,
   "outputs": [
    {
     "ename": "NameError",
     "evalue": "name 'test_dataloader_gauss' is not defined",
     "output_type": "error",
     "traceback": [
      "\u001B[1;31m---------------------------------------------------------------------------\u001B[0m",
      "\u001B[1;31mNameError\u001B[0m                                 Traceback (most recent call last)",
      "\u001B[1;32m<ipython-input-1-d492c99cf330>\u001B[0m in \u001B[0;36m<module>\u001B[1;34m\u001B[0m\n\u001B[0;32m      8\u001B[0m         \u001B[0mx_recon\u001B[0m \u001B[1;33m=\u001B[0m \u001B[0mprobs_x\u001B[0m\u001B[1;33m\u001B[0m\u001B[1;33m\u001B[0m\u001B[0m\n\u001B[0;32m      9\u001B[0m         \u001B[1;32mreturn\u001B[0m \u001B[0mx\u001B[0m\u001B[1;33m,\u001B[0m \u001B[0mx_recon\u001B[0m\u001B[1;33m\u001B[0m\u001B[1;33m\u001B[0m\u001B[0m\n\u001B[1;32m---> 10\u001B[1;33m \u001B[0mtest_batch_gauss\u001B[0m\u001B[1;33m,\u001B[0m \u001B[0mtest_batch_recon_gauss\u001B[0m \u001B[1;33m=\u001B[0m \u001B[0mtest_gaussian\u001B[0m\u001B[1;33m(\u001B[0m\u001B[1;33m)\u001B[0m\u001B[1;33m\u001B[0m\u001B[1;33m\u001B[0m\u001B[0m\n\u001B[0m\u001B[0;32m     11\u001B[0m \u001B[1;33m\u001B[0m\u001B[0m\n",
      "\u001B[1;32m<ipython-input-1-d492c99cf330>\u001B[0m in \u001B[0;36mtest_gaussian\u001B[1;34m()\u001B[0m\n\u001B[0;32m      1\u001B[0m \u001B[1;32mdef\u001B[0m \u001B[0mtest_gaussian\u001B[0m\u001B[1;33m(\u001B[0m\u001B[1;33m)\u001B[0m\u001B[1;33m:\u001B[0m\u001B[1;33m\u001B[0m\u001B[1;33m\u001B[0m\u001B[0m\n\u001B[1;32m----> 2\u001B[1;33m     \u001B[0mx\u001B[0m\u001B[1;33m,\u001B[0m \u001B[0m_\u001B[0m \u001B[1;33m=\u001B[0m \u001B[0mnext\u001B[0m\u001B[1;33m(\u001B[0m\u001B[0miter\u001B[0m\u001B[1;33m(\u001B[0m\u001B[0mtest_dataloader_gauss\u001B[0m\u001B[1;33m)\u001B[0m\u001B[1;33m)\u001B[0m\u001B[1;33m\u001B[0m\u001B[1;33m\u001B[0m\u001B[0m\n\u001B[0m\u001B[0;32m      3\u001B[0m     \u001B[0mx\u001B[0m \u001B[1;33m=\u001B[0m \u001B[0mx\u001B[0m\u001B[1;33m.\u001B[0m\u001B[0mto\u001B[0m\u001B[1;33m(\u001B[0m\u001B[0mDEVICE\u001B[0m\u001B[1;33m)\u001B[0m\u001B[1;33m\u001B[0m\u001B[1;33m\u001B[0m\u001B[0m\n\u001B[0;32m      4\u001B[0m     \u001B[1;32mwith\u001B[0m \u001B[0mtorch\u001B[0m\u001B[1;33m.\u001B[0m\u001B[0mno_grad\u001B[0m\u001B[1;33m(\u001B[0m\u001B[1;33m)\u001B[0m\u001B[1;33m:\u001B[0m\u001B[1;33m\u001B[0m\u001B[1;33m\u001B[0m\u001B[0m\n\u001B[0;32m      5\u001B[0m         \u001B[0mx\u001B[0m \u001B[1;33m=\u001B[0m \u001B[0mtorch\u001B[0m\u001B[1;33m.\u001B[0m\u001B[0mflatten\u001B[0m\u001B[1;33m(\u001B[0m\u001B[0mx\u001B[0m\u001B[1;33m,\u001B[0m \u001B[0mstart_dim\u001B[0m\u001B[1;33m=\u001B[0m\u001B[1;36m1\u001B[0m\u001B[1;33m)\u001B[0m\u001B[1;33m\u001B[0m\u001B[1;33m\u001B[0m\u001B[0m\n",
      "\u001B[1;31mNameError\u001B[0m: name 'test_dataloader_gauss' is not defined"
     ]
    }
   ]
  },
  {
   "cell_type": "code",
   "execution_count": 60,
   "outputs": [
    {
     "data": {
      "text/plain": "<Figure size 1440x1440 with 64 Axes>",
      "image/png": "[encoded data removed]"
     },
     "metadata": {
      "needs_background": "light"
     },
     "output_type": "display_data"
    }
   ],
   "source": [
    "show_images(test_batch_gauss, test_batch_recon_gauss)"
   ],
   "metadata": {
    "collapsed": false,
    "pycharm": {
     "name": "#%%\n"
    }
   }
  },
  {
   "cell_type": "code",
   "execution_count": null,
   "outputs": [],
   "source": [],
   "metadata": {
    "collapsed": false,
    "pycharm": {
     "name": "#%%\n"
    }
   }
  }
 ]
}