{
  "nbformat": 4,
  "nbformat_minor": 0,
  "metadata": {
    "accelerator": "GPU",
    "anaconda-cloud": {},
    "colab": {
      "name": "task3_dummy.ipynb",
      "provenance": [],
      "collapsed_sections": [],
      "machine_shape": "hm"
    },
    "kernelspec": {
      "display_name": "Python 3",
      "language": "python",
      "name": "python3"
    },
    "language_info": {
      "codemirror_mode": {
        "name": "ipython",
        "version": 3
      },
      "file_extension": ".py",
      "mimetype": "text/x-python",
      "name": "python",
      "nbconvert_exporter": "python",
      "pygments_lexer": "ipython3",
      "version": "3.8.5"
    }
  },
  "cells": [
    {
      "cell_type": "code",
      "metadata": {
        "id": "OHkuDfWDCQL_"
      },
      "source": [
        "import os.path\n",
        "import torch\n",
        "%matplotlib inline\n",
        "import torch\n",
        "import torch.nn as nn\n",
        "from torch.optim import Adam\n",
        "from torchvision.datasets import MNIST\n",
        "import torchvision.transforms as transforms\n",
        "from torch.utils.data import DataLoader, SubsetRandomSampler\n",
        "import numpy as np\n",
        "import matplotlib.pyplot as plt\n",
        "from tqdm import tqdm\n",
        "#!pip install datasets\n",
        "import datasets\n",
        "from keras.datasets import mnist"
      ],
      "execution_count": 41,
      "outputs": []
    },
    {
      "cell_type": "code",
      "metadata": {
        "colab": {
          "base_uri": "https://localhost:8080/",
          "height": 229
        },
        "id": "4fizb_9gCyS5",
        "outputId": "119772af-52b8-4949-8905-06bf16b4346d"
      },
      "source": [
        "#Loading MNIST dataset\n",
        "\n",
        "dataset_path = '~/datasets'\n",
        "batch_size = 100\n",
        "\n",
        "device = 'cuda' if torch.cuda.is_available() else 'cpu'\n",
        "datasets.mkdir_p('img_vae')\n",
        "\n",
        "# training params\n",
        "# MNIST has 784 pixels\n",
        "num_latent = 50\n",
        "num_hidden = [1000, 1000]\n",
        "batch_size = 50\n",
        "num_epochs = 100\n",
        "# we are using a fixed variance for the decoder\n",
        "# the variance can be also made an output of the decoder, see lecture slides,\n",
        "# but training becomes trickier and somewhat \"brittle\"\n",
        "var_x = 0.05\n",
        "\n",
        "# these function download (if needed) and load MNIST or fashion-MNIST\n",
        "# Note: sometimes the websites providing the data are down...\n",
        "#\n",
        "# train_x, train_labels, test_x, test_labels = datasets.load_mnist()\n",
        "train_x, train_labels, test_x, test_labels = datasets.load_fashion_mnist()\n",
        "\n",
        "# normalize data\n",
        "train_x = datasets.normalize_min_max(train_x, 0., 1.)\n",
        "test_x = datasets.normalize_min_max(test_x, 0., 1.)\n",
        "\n",
        "# split off a validation set (not used here, but good practice)\n",
        "valid_x = train_x[-10000:, :]\n",
        "train_x = train_x[:-10000, :]\n",
        "valid_labels = train_labels[-10000:]\n",
        "train_labels = train_labels[:-10000]\n",
        "\n",
        "# generate torch tensors\n",
        "train_x = torch.tensor(train_x).to(device)\n",
        "test_x = torch.tensor(test_x).to(device)\n",
        "\n",
        "train_N, train_D = train_x.shape\n",
        "\n",
        "#NOTE: we can use the code of the proffesor for the same results from train_vae.py"
      ],
      "execution_count": 44,
      "outputs": [
        {
          "output_type": "error",
          "ename": "AttributeError",
          "evalue": "ignored",
          "traceback": [
            "\u001b[0;31m---------------------------------------------------------------------------\u001b[0m",
            "\u001b[0;31mAttributeError\u001b[0m                            Traceback (most recent call last)",
            "\u001b[0;32m<ipython-input-44-c67b48ea6c7b>\u001b[0m in \u001b[0;36m<module>\u001b[0;34m()\u001b[0m\n\u001b[1;32m      5\u001b[0m \u001b[0;34m\u001b[0m\u001b[0m\n\u001b[1;32m      6\u001b[0m \u001b[0mdevice\u001b[0m \u001b[0;34m=\u001b[0m \u001b[0;34m'cuda'\u001b[0m \u001b[0;32mif\u001b[0m \u001b[0mtorch\u001b[0m\u001b[0;34m.\u001b[0m\u001b[0mcuda\u001b[0m\u001b[0;34m.\u001b[0m\u001b[0mis_available\u001b[0m\u001b[0;34m(\u001b[0m\u001b[0;34m)\u001b[0m \u001b[0;32melse\u001b[0m \u001b[0;34m'cpu'\u001b[0m\u001b[0;34m\u001b[0m\u001b[0;34m\u001b[0m\u001b[0m\n\u001b[0;32m----> 7\u001b[0;31m \u001b[0mdatasets\u001b[0m\u001b[0;34m.\u001b[0m\u001b[0mmkdir_p\u001b[0m\u001b[0;34m(\u001b[0m\u001b[0;34m'img_vae'\u001b[0m\u001b[0;34m)\u001b[0m\u001b[0;34m\u001b[0m\u001b[0;34m\u001b[0m\u001b[0m\n\u001b[0m\u001b[1;32m      8\u001b[0m \u001b[0;34m\u001b[0m\u001b[0m\n\u001b[1;32m      9\u001b[0m \u001b[0;31m# training params\u001b[0m\u001b[0;34m\u001b[0m\u001b[0;34m\u001b[0m\u001b[0;34m\u001b[0m\u001b[0m\n",
            "\u001b[0;31mAttributeError\u001b[0m: module 'datasets' has no attribute 'mkdir_p'"
          ]
        }
      ]
    },
    {
      "cell_type": "code",
      "metadata": {
        "id": "XnEk2WBnDHmz"
      },
      "source": [
        "class MLPDecoder(torch.nn.Module):\n",
        "    def __init__(self, num_var, num_latent, num_neurons, var=0.05):\n",
        "        super(MLPDecoder, self).__init__()\n",
        "\n",
        "        self.num_var = num_var\n",
        "        self.num_latent = num_latent\n",
        "        self.num_neurons = num_neurons\n",
        "        self.var = var\n",
        "\n",
        "        # generate hidden layers\n",
        "        # E.g., if num_neurons = [500, 1000, 500], then three hidden layers are generated,\n",
        "        # with 500, 1000 and 400 neurons, respectively.\n",
        "        layers = []\n",
        "        num_units = [num_latent] + num_neurons\n",
        "        for n_prev, n_next in zip(num_units[0:-1], num_units[1:]):\n",
        "            layers.append(torch.nn.Linear(n_prev, n_next))\n",
        "            layers.append(torch.nn.ReLU())\n",
        "            # layers.append(torch.nn.BatchNorm1d(num_features=n_next))\n",
        "        self.layers = torch.nn.ModuleList(layers)\n",
        "\n",
        "        # generate output layers, mu\n",
        "        self.mu = torch.nn.Linear(num_hidden[-1], num_var)\n",
        "\n",
        "    def forward(self, z):\n",
        "        res = z\n",
        "        for layer in self.layers:\n",
        "            res = layer(res)\n",
        "        mu = self.mu(res)\n",
        "        return mu\n",
        "        \n",
        "    def sample(self, N, convert_to_numpy=False, suppress_noise=True):\n",
        "        with torch.no_grad():\n",
        "            z = torch.randn(N, self.num_latent, device=device)\n",
        "            mu = self.forward(z)\n",
        "            x = mu\n",
        "            # the conditional VAE distribution is isotropic Gaussian, hence we just add noise when sampling it\n",
        "            # for images, one might want to suppress this\n",
        "            if not suppress_noise:\n",
        "                x += np.sqrt(self.var) * torch.randn(N, self.num_var, device=device)\n",
        "\n",
        "        if convert_to_numpy:\n",
        "            z = z.cpu().numpy()\n",
        "            x = x.cpu().numpy()\n",
        "        return x, z"
      ],
      "execution_count": 45,
      "outputs": []
    },
    {
      "cell_type": "code",
      "metadata": {
        "id": "3ieHdPA6DU27"
      },
      "source": [
        "class MLPEncoder(torch.nn.Module):\n",
        "    def __init__(self, num_var, num_latent, num_neurons):\n",
        "        super(MLPEncoder, self).__init__()\n",
        "\n",
        "        self.num_var = num_var\n",
        "        self.num_latent = num_latent\n",
        "        self.num_neurons = num_neurons\n",
        "\n",
        "        layers = []\n",
        "        num_units = [num_var] + num_neurons\n",
        "        for n_prev, n_next in zip(num_units[0:-1], num_units[1:]):\n",
        "            layers.append(torch.nn.Linear(n_prev, n_next))\n",
        "            layers.append(torch.nn.ReLU())\n",
        "        self.layers = torch.nn.ModuleList(layers)\n",
        "\n",
        "        # generate output layers, mu and var\n",
        "        self.mu = torch.nn.Linear(num_neurons[-1], num_latent)\n",
        "        self.var = torch.nn.Linear(num_neurons[-1], num_latent)\n",
        "        self.var_act = torch.nn.Softplus()\n",
        "\n",
        "    def forward(self, x):\n",
        "        res = x\n",
        "        for layer in self.layers:\n",
        "            res = layer(res)\n",
        "        mu = self.mu(res)\n",
        "        var = self.var_act(self.var(res))\n",
        "        return mu, var"
      ],
      "execution_count": 4,
      "outputs": []
    },
    {
      "cell_type": "code",
      "metadata": {
        "colab": {
          "base_uri": "https://localhost:8080/"
        },
        "id": "fyyeRynVDXkz",
        "outputId": "6abd1364-6c53-4e0e-b045-6617a338da9c"
      },
      "source": [
        "x_dim  = 784\n",
        "# num_hidden = 100\n",
        "# num_latent = 2 \n",
        "device = 'cuda' if torch.cuda.is_available() else 'cpu'\n",
        "\n",
        "\n",
        "var_x = 0.05\n",
        "num_latent = 50\n",
        "num_hidden = [100, 100]\n",
        "batch_size = 50\n",
        "num_epochs = 2\n",
        "decoder = MLPDecoder(x_dim, num_latent, num_hidden, var=var_x).to(device)\n",
        "encoder = MLPEncoder(x_dim, num_latent, num_hidden).to(device)\n",
        "\n",
        "print(decoder)\n",
        "print(encoder)"
      ],
      "execution_count": 17,
      "outputs": [
        {
          "output_type": "stream",
          "text": [
            "MLPDecoder(\n",
            "  (layers): ModuleList(\n",
            "    (0): Linear(in_features=50, out_features=100, bias=True)\n",
            "    (1): ReLU()\n",
            "    (2): Linear(in_features=100, out_features=100, bias=True)\n",
            "    (3): ReLU()\n",
            "  )\n",
            "  (mu): Linear(in_features=100, out_features=784, bias=True)\n",
            ")\n",
            "MLPEncoder(\n",
            "  (layers): ModuleList(\n",
            "    (0): Linear(in_features=784, out_features=100, bias=True)\n",
            "    (1): ReLU()\n",
            "    (2): Linear(in_features=100, out_features=100, bias=True)\n",
            "    (3): ReLU()\n",
            "  )\n",
            "  (mu): Linear(in_features=100, out_features=50, bias=True)\n",
            "  (var): Linear(in_features=100, out_features=50, bias=True)\n",
            "  (var_act): Softplus(beta=1, threshold=20)\n",
            ")\n"
          ],
          "name": "stdout"
        }
      ]
    },
    {
      "cell_type": "code",
      "metadata": {
        "colab": {
          "base_uri": "https://localhost:8080/",
          "height": 346
        },
        "id": "2gv0htk-ElZP",
        "outputId": "a2753c46-5f9d-4e08-dd1f-4ecf929791df"
      },
      "source": [
        "optimizer = torch.optim.Adam(list(decoder.parameters()) + list(encoder.parameters()), lr=0.0001)\n",
        "\n",
        "ELBO_history = []\n",
        "for epoch in range(num_epochs):\n",
        "    # make batches of training indices\n",
        "    shuffled_idx = torch.randperm(60000)\n",
        "    idx_batches = shuffled_idx.split(batch_size)\n",
        "\n",
        "    sum_neg_ELBO = 0.0\n",
        "    for batch_count, idx in enumerate(idx_batches):\n",
        "        optimizer.zero_grad()\n",
        "\n",
        "        batch_x = train_dataset[idx, :]\n",
        "\n",
        "        # batch_mu_z: batch_size, num_latent\n",
        "        # batch_var_z: batch_size, num_latent\n",
        "        batch_mu_z, batch_var_z = encoder(batch_x)\n",
        "\n",
        "        # sample z, using the \"reparametrization trick\"\n",
        "        batch_z = batch_mu_z + torch.sqrt(batch_var_z) * torch.randn(batch_var_z.shape, device=device)\n",
        "\n",
        "        # mu_x: batch_size, D\n",
        "        mu_x = decoder(batch_z)\n",
        "\n",
        "        # squared distances between mu_x and batch_x\n",
        "        d2 = (mu_x - batch_x) ** 2\n",
        "        # Gaussian likelihood: 1/sqrt(2*pi*var) exp(-0.5 * (mu-x)**2 / var)\n",
        "        # Thus, log-likelihood = -0.5 * ( log(2*pi*var) + (mu-x)**2 / var )\n",
        "        log_p = -0.5 * torch.sum(np.log(decoder.var * 2 * np.pi) + d2 / decoder.var)\n",
        "        KL = -0.5 * torch.sum(1 + torch.log(batch_var_z) - batch_mu_z**2 - batch_var_z)\n",
        "\n",
        "        # we want to maximize the ELBO, hence minimize the negative ELBO\n",
        "        negative_ELBO = -log_p + KL\n",
        "        negative_ELBO.backward()\n",
        "        optimizer.step()\n",
        "\n",
        "        sum_neg_ELBO += negative_ELBO\n",
        "\n",
        "    mean_neg_ELBO = sum_neg_ELBO / train_x.shape[0]\n",
        "    print('epoch {}   mean negative ELBO = {}'.format(epoch, mean_neg_ELBO))\n",
        "    ELBO_history.append(mean_neg_ELBO)\n",
        "\n",
        "    if epoch % 5 == 0:\n",
        "        with torch.no_grad():\n",
        "            # sample from the VAE\n",
        "            x, z = decoder.sample(5)\n",
        "\n",
        "            # encode some samples\n",
        "            mu_z, var_z = encoder(train_x[0:5, :])\n",
        "            z_encoded = mu_z + torch.sqrt(var_z) * torch.randn(5, num_latent, device=device)\n",
        "\n",
        "            # decode the samples\n",
        "            x_decoded = decoder(z_encoded)\n",
        "\n",
        "            # save images\n",
        "            plot_img = np.stack((train_x[0:5, :].detach().cpu().numpy(),\n",
        "                                 x_decoded.detach().cpu().numpy(),\n",
        "                                 x.detach().cpu().numpy()))\n",
        "            plot_img = np.reshape(plot_img, (15, 28, 28))\n",
        "            file_name = os.path.join('img_vae', 'samples_{}.png'.format(epoch))\n",
        "            datasets.save_image_stack(plot_img, 3, 5, file_name, margin = 3)\n",
        "\n",
        "        plt.figure(1)\n",
        "        plt.clf()\n",
        "        plt.plot(ELBO_history)\n",
        "        plt.savefig(os.path.join('img_vae', 'elbo.png'))\n"
      ],
      "execution_count": 20,
      "outputs": [
        {
          "output_type": "error",
          "ename": "IndexError",
          "evalue": "ignored",
          "traceback": [
            "\u001b[0;31m---------------------------------------------------------------------------\u001b[0m",
            "\u001b[0;31mIndexError\u001b[0m                                Traceback (most recent call last)",
            "\u001b[0;32m<ipython-input-20-9479936dc890>\u001b[0m in \u001b[0;36m<module>\u001b[0;34m()\u001b[0m\n\u001b[1;32m     11\u001b[0m         \u001b[0moptimizer\u001b[0m\u001b[0;34m.\u001b[0m\u001b[0mzero_grad\u001b[0m\u001b[0;34m(\u001b[0m\u001b[0;34m)\u001b[0m\u001b[0;34m\u001b[0m\u001b[0;34m\u001b[0m\u001b[0m\n\u001b[1;32m     12\u001b[0m \u001b[0;34m\u001b[0m\u001b[0m\n\u001b[0;32m---> 13\u001b[0;31m         \u001b[0mbatch_x\u001b[0m \u001b[0;34m=\u001b[0m \u001b[0mtrain_dataset\u001b[0m\u001b[0;34m[\u001b[0m\u001b[0midx\u001b[0m\u001b[0;34m,\u001b[0m \u001b[0;34m:\u001b[0m\u001b[0;34m]\u001b[0m\u001b[0;34m\u001b[0m\u001b[0;34m\u001b[0m\u001b[0m\n\u001b[0m\u001b[1;32m     14\u001b[0m \u001b[0;34m\u001b[0m\u001b[0m\n\u001b[1;32m     15\u001b[0m         \u001b[0;31m# batch_mu_z: batch_size, num_latent\u001b[0m\u001b[0;34m\u001b[0m\u001b[0;34m\u001b[0m\u001b[0;34m\u001b[0m\u001b[0m\n",
            "\u001b[0;32m/usr/local/lib/python3.7/dist-packages/torchvision/datasets/mnist.py\u001b[0m in \u001b[0;36m__getitem__\u001b[0;34m(self, index)\u001b[0m\n\u001b[1;32m    103\u001b[0m             \u001b[0mtuple\u001b[0m\u001b[0;34m:\u001b[0m \u001b[0;34m(\u001b[0m\u001b[0mimage\u001b[0m\u001b[0;34m,\u001b[0m \u001b[0mtarget\u001b[0m\u001b[0;34m)\u001b[0m \u001b[0mwhere\u001b[0m \u001b[0mtarget\u001b[0m \u001b[0;32mis\u001b[0m \u001b[0mindex\u001b[0m \u001b[0mof\u001b[0m \u001b[0mthe\u001b[0m \u001b[0mtarget\u001b[0m \u001b[0;32mclass\u001b[0m\u001b[0;34m.\u001b[0m\u001b[0;34m\u001b[0m\u001b[0;34m\u001b[0m\u001b[0m\n\u001b[1;32m    104\u001b[0m         \"\"\"\n\u001b[0;32m--> 105\u001b[0;31m         \u001b[0mimg\u001b[0m\u001b[0;34m,\u001b[0m \u001b[0mtarget\u001b[0m \u001b[0;34m=\u001b[0m \u001b[0mself\u001b[0m\u001b[0;34m.\u001b[0m\u001b[0mdata\u001b[0m\u001b[0;34m[\u001b[0m\u001b[0mindex\u001b[0m\u001b[0;34m]\u001b[0m\u001b[0;34m,\u001b[0m \u001b[0mint\u001b[0m\u001b[0;34m(\u001b[0m\u001b[0mself\u001b[0m\u001b[0;34m.\u001b[0m\u001b[0mtargets\u001b[0m\u001b[0;34m[\u001b[0m\u001b[0mindex\u001b[0m\u001b[0;34m]\u001b[0m\u001b[0;34m)\u001b[0m\u001b[0;34m\u001b[0m\u001b[0;34m\u001b[0m\u001b[0m\n\u001b[0m\u001b[1;32m    106\u001b[0m \u001b[0;34m\u001b[0m\u001b[0m\n\u001b[1;32m    107\u001b[0m         \u001b[0;31m# doing this so that it is consistent with all other datasets\u001b[0m\u001b[0;34m\u001b[0m\u001b[0;34m\u001b[0m\u001b[0;34m\u001b[0m\u001b[0m\n",
            "\u001b[0;31mIndexError\u001b[0m: too many indices for tensor of dimension 1"
          ]
        }
      ]
    }
  ]
}