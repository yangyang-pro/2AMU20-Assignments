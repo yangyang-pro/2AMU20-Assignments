{
  "nbformat": 4,
  "nbformat_minor": 0,
  "metadata": {
    "anaconda-cloud": {},
    "colab": {
      "name": "task_2.ipynb",
      "provenance": [],
      "collapsed_sections": [],
      "machine_shape": "hm"
    },
    "kernelspec": {
      "display_name": "Python 3",
      "language": "python",
      "name": "python3"
    },
    "language_info": {
      "codemirror_mode": {
        "name": "ipython",
        "version": 3
      },
      "file_extension": ".py",
      "mimetype": "text/x-python",
      "name": "python",
      "nbconvert_exporter": "python",
      "pygments_lexer": "ipython3",
      "version": "3.8.5"
    },
    "accelerator": "GPU"
  },
  "cells": [
    {
      "cell_type": "code",
      "metadata": {
        "id": "OHkuDfWDCQL_"
      },
      "source": [
        "%matplotlib inline\n",
        "import torch\n",
        "import torch.nn as nn\n",
        "import torch.nn.functional as F\n",
        "import numpy as np\n",
        "import matplotlib.pyplot as plt\n",
        "import torchvision\n",
        "from tqdm import tqdm\n",
        "from torch.utils.data import TensorDataset\n",
        "from torch.utils.data import DataLoader"
      ],
      "execution_count": 1,
      "outputs": []
    },
    {
      "cell_type": "code",
      "metadata": {
        "pycharm": {
          "name": "#%%\n"
        },
        "id": "3SXypsPpsjNj"
      },
      "source": [
        "train_metadata = torchvision.datasets.MNIST(root='./data', train=True, download=True)\n",
        "test_metadata = torchvision.datasets.MNIST(root='./data', train=False, download=True)"
      ],
      "execution_count": 2,
      "outputs": []
    },
    {
      "cell_type": "code",
      "metadata": {
        "id": "4fizb_9gCyS5"
      },
      "source": [
        "DEVICE = 'cuda' if torch.cuda.is_available() else 'cpu'\n",
        "BATCH_SIZE = 128\n",
        "NUM_TRAIN = 50000\n",
        "NUM_VAL = 10000\n",
        "\n",
        "train_x = train_metadata.data[:50000].unsqueeze(1) / 255\n",
        "val_x = train_metadata.data[-10000:].unsqueeze(1) / 255\n",
        "test_x = test_metadata.data.unsqueeze(1) / 255\n",
        "train_y = train_metadata.targets[:50000]\n",
        "val_y = train_metadata.targets[-10000:]\n",
        "test_y = test_metadata.targets\n",
        "\n",
        "# train_x = train_x.reshape(-1,784)\n",
        "# val_x = val_x.reshape(-1,784)\n",
        "# test_x = test_x.reshape(-1,784)\n",
        "\n",
        "train_data = TensorDataset(train_x, train_y)\n",
        "val_data = TensorDataset(val_x, val_y)\n",
        "test_data = TensorDataset(test_x, test_y)\n",
        "\n",
        "train_dataloader = DataLoader(train_data, batch_size=BATCH_SIZE, shuffle=True)\n",
        "val_dataloader = DataLoader(val_data, batch_size=BATCH_SIZE, shuffle=True)\n",
        "test_dataloader = DataLoader(test_data, batch_size=BATCH_SIZE)"
      ],
      "execution_count": 3,
      "outputs": []
    },
    {
      "cell_type": "code",
      "metadata": {
        "id": "XnEk2WBnDHmz"
      },
      "source": [
        "class Encoder(nn.Module):\n",
        "    def __init__(self, input_dim, hidden_dim, latent_dim):\n",
        "        super(Encoder, self).__init__()\n",
        "        self.encode = nn.Sequential(\n",
        "          nn.Conv2d(input_dim, 32, kernel_size=(3, 3), stride=(1, 1), padding=(2, 2)),\n",
        "          nn.ReLU(inplace=True),\n",
        "          nn.MaxPool2d(kernel_size=2, stride=2),\n",
        "\n",
        "          nn.Conv2d(32, 64, kernel_size=(3, 3), stride=(1, 1), padding=(2, 2)),\n",
        "          nn.ReLU(inplace=True),\n",
        "          nn.MaxPool2d(kernel_size=2, stride=2),\n",
        "\n",
        "          nn.Conv2d(64, 128, kernel_size=(3, 3), stride=(1, 1), padding=(1, 1)),\n",
        "          nn.ReLU(inplace=True),\n",
        "          nn.MaxPool2d(kernel_size=2, stride=2),\n",
        "\n",
        "          nn.Flatten(),\n",
        "\n",
        "          # nn.Linear(128 * 4 * 4, hidden_dim),\n",
        "          # nn.ReLU(inplace=True),\n",
        "        )\n",
        "        self.fc_mu = nn.Linear(128 * 4 * 4, latent_dim)\n",
        "        self.fc_var = nn.Linear(128 * 4 * 4, latent_dim)\n",
        "\n",
        "    def forward(self, x):\n",
        "        encoded = self.encode(x)\n",
        "        mu = self.fc_mu(encoded)\n",
        "        log_var = self.fc_var(encoded)\n",
        "        z = self.reparameterization(mu, log_var)\n",
        "        return z, mu, log_var\n",
        "\n",
        "    def reparameterization(self, mu, log_var):\n",
        "        std = torch.exp(0.5 * log_var)\n",
        "        epsilon = torch.rand_like(std).to(DEVICE)\n",
        "        z = mu + std * epsilon\n",
        "        return z\n",
        "\n",
        "class Decoder(nn.Module):\n",
        "    def __init__(self, latent_dim, output_dim):\n",
        "        super(Decoder, self).__init__()\n",
        "        self.decode = nn.Sequential(\n",
        "            nn.ConvTranspose2d(latent_dim, 128, kernel_size=(4, 4), stride=(1, 1), padding=(0, 0)),\n",
        "            nn.BatchNorm2d(128),\n",
        "            nn.ReLU(inplace=True),\n",
        "\n",
        "            nn.ConvTranspose2d(128, 64, kernel_size=(4, 4), stride=(2, 2), padding=(1, 1)),\n",
        "            nn.BatchNorm2d(64),\n",
        "            nn.ReLU(inplace=True),\n",
        "\n",
        "            nn.ConvTranspose2d(64, 32, kernel_size=(4, 4), stride=(2, 2), padding=(1, 1)),\n",
        "            nn.BatchNorm2d(32),\n",
        "            nn.ReLU(inplace=True),\n",
        "\n",
        "            nn.ConvTranspose2d(32, output_dim, kernel_size=(4, 4), stride=(2, 2), padding=(1, 1)),\n",
        "            nn.Sigmoid()\n",
        "        )\n",
        "\n",
        "    def forward(self, x):\n",
        "        x = x.unsqueeze(-1).unsqueeze(-1)\n",
        "        preds = self.decode(x)\n",
        "        preds = preds[:, :, 1:29, 1:29]\n",
        "        return preds\n",
        "\n",
        "\n",
        "class VAE(nn.Module):\n",
        "    def __init__(self, encoder, decoder, var=0.5):\n",
        "        super(VAE, self).__init__()\n",
        "        self.encoder = encoder\n",
        "        self.decoder = decoder\n",
        "        self.var = var\n",
        "\n",
        "    def forward(self, x):\n",
        "        z, mu, log_var = self.encoder(x)\n",
        "        x_r = self.decoder(z)\n",
        "        return x_r, mu, log_var"
      ],
      "execution_count": 4,
      "outputs": []
    },
    {
      "cell_type": "code",
      "metadata": {
        "colab": {
          "base_uri": "https://localhost:8080/"
        },
        "id": "fyyeRynVDXkz",
        "outputId": "275e67b2-44ae-44ab-8350-5bc691e9822e"
      },
      "source": [
        "num_channels = train_x.shape[1]\n",
        "latent_dim = 16\n",
        "hidden_dim = 128\n",
        "bernulli_dim = 28 * 28\n",
        "encoder = Encoder(input_dim=num_channels, hidden_dim=hidden_dim, latent_dim=latent_dim)\n",
        "decoder = Decoder(latent_dim=latent_dim, output_dim=num_channels)\n",
        "vae = VAE(encoder, decoder).to(DEVICE)\n",
        "print(vae)"
      ],
      "execution_count": 5,
      "outputs": [
        {
          "output_type": "stream",
          "text": [
            "VAE(\n",
            "  (encoder): Encoder(\n",
            "    (encode): Sequential(\n",
            "      (0): Conv2d(1, 32, kernel_size=(3, 3), stride=(1, 1), padding=(2, 2))\n",
            "      (1): ReLU(inplace=True)\n",
            "      (2): MaxPool2d(kernel_size=2, stride=2, padding=0, dilation=1, ceil_mode=False)\n",
            "      (3): Conv2d(32, 64, kernel_size=(3, 3), stride=(1, 1), padding=(2, 2))\n",
            "      (4): ReLU(inplace=True)\n",
            "      (5): MaxPool2d(kernel_size=2, stride=2, padding=0, dilation=1, ceil_mode=False)\n",
            "      (6): Conv2d(64, 128, kernel_size=(3, 3), stride=(1, 1), padding=(1, 1))\n",
            "      (7): ReLU(inplace=True)\n",
            "      (8): MaxPool2d(kernel_size=2, stride=2, padding=0, dilation=1, ceil_mode=False)\n",
            "      (9): Flatten(start_dim=1, end_dim=-1)\n",
            "    )\n",
            "    (fc_mu): Linear(in_features=2048, out_features=16, bias=True)\n",
            "    (fc_var): Linear(in_features=2048, out_features=16, bias=True)\n",
            "  )\n",
            "  (decoder): Decoder(\n",
            "    (decode): Sequential(\n",
            "      (0): ConvTranspose2d(16, 128, kernel_size=(4, 4), stride=(1, 1))\n",
            "      (1): BatchNorm2d(128, eps=1e-05, momentum=0.1, affine=True, track_running_stats=True)\n",
            "      (2): ReLU(inplace=True)\n",
            "      (3): ConvTranspose2d(128, 64, kernel_size=(4, 4), stride=(2, 2), padding=(1, 1))\n",
            "      (4): BatchNorm2d(64, eps=1e-05, momentum=0.1, affine=True, track_running_stats=True)\n",
            "      (5): ReLU(inplace=True)\n",
            "      (6): ConvTranspose2d(64, 32, kernel_size=(4, 4), stride=(2, 2), padding=(1, 1))\n",
            "      (7): BatchNorm2d(32, eps=1e-05, momentum=0.1, affine=True, track_running_stats=True)\n",
            "      (8): ReLU(inplace=True)\n",
            "      (9): ConvTranspose2d(32, 1, kernel_size=(4, 4), stride=(2, 2), padding=(1, 1))\n",
            "      (10): Sigmoid()\n",
            "    )\n",
            "  )\n",
            ")\n"
          ],
          "name": "stdout"
        }
      ]
    },
    {
      "cell_type": "code",
      "metadata": {
        "colab": {
          "base_uri": "https://localhost:8080/"
        },
        "id": "2gv0htk-ElZP",
        "pycharm": {
          "name": "#%%\n"
        },
        "outputId": "5866d09c-1eb0-4dc6-a26f-24a0f4b531e9"
      },
      "source": [
        "optimizer = torch.optim.Adam(vae.parameters(), lr=1e-4)\n",
        "\n",
        "def train_vae(num_epochs, dist= 'bernulli'):\n",
        "    for epoch in tqdm(range(num_epochs)):\n",
        "        train_elbos = 0.0\n",
        "        val_elbos = 0.0\n",
        "        for batch in train_dataloader:\n",
        "            x, _ = batch\n",
        "            x = x.to(DEVICE)\n",
        "            x_recon, mu, log_var = vae(x)\n",
        "\n",
        "            if 'gauss':\n",
        "              distances = F.mse_loss(x, x_recon, reduction='none')\n",
        "              log_p = -0.5 * torch.sum(np.log(vae.var * 2 * np.pi) + distances / vae.var)\n",
        "              kl = -0.5 * torch.sum(1 + log_var - mu.pow(2) - log_var.exp())\n",
        "              negative_elbo = -log_p + kl\n",
        "\n",
        "            if 'bernulli':\n",
        "              bce = F.binary_cross_entropy(x_recon.reshape(-1, 784), x.view(-1, 784), reduction='sum')\n",
        "              kl = -0.5 * torch.sum(1 + log_var - mu.pow(2) - log_var.exp())\n",
        "              negative_elbo = bce + kl\n",
        "              \n",
        "            negative_elbo.backward()\n",
        "            optimizer.step()\n",
        "            train_elbos += negative_elbo.item()\n",
        "\n",
        "        for batch in val_dataloader:\n",
        "            x, _ = batch\n",
        "            x = x.to(DEVICE)\n",
        "            with torch.no_grad():\n",
        "                x_recon, mu, log_var = vae(x)\n",
        "                distances = F.mse_loss(x, x_recon, reduction='none')\n",
        "                log_p = -0.5 * torch.sum(np.log(vae.var * 2 * np.pi) + distances / vae.var)\n",
        "                kl = -0.5 * torch.sum(1 + log_var - mu.pow(2) - log_var.exp())\n",
        "                negative_elbo = -log_p + kl\n",
        "                val_elbos += negative_elbo.item()\n",
        "        print('Epoch {}, Mean Training ELBO {}, Mean Validation ELBO {}'.format(epoch + 1, train_elbos / NUM_TRAIN, val_elbos / NUM_VAL))\n",
        "train_vae(num_epochs=20, dist = 'bernulli')"
      ],
      "execution_count": 6,
      "outputs": [
        {
          "output_type": "stream",
          "text": [
            "  5%|▌         | 1/20 [00:04<01:29,  4.71s/it]"
          ],
          "name": "stderr"
        },
        {
          "output_type": "stream",
          "text": [
            "Epoch 1, Mean Training ELBO 289.405103046875, Mean Validation ELBO 501.88667612304687\n"
          ],
          "name": "stdout"
        },
        {
          "output_type": "stream",
          "text": [
            "\r 10%|█         | 2/20 [00:09<01:24,  4.68s/it]"
          ],
          "name": "stderr"
        },
        {
          "output_type": "stream",
          "text": [
            "Epoch 2, Mean Training ELBO 208.239734296875, Mean Validation ELBO 501.8373683105469\n"
          ],
          "name": "stdout"
        },
        {
          "output_type": "stream",
          "text": [
            "\r 15%|█▌        | 3/20 [00:13<01:19,  4.67s/it]"
          ],
          "name": "stderr"
        },
        {
          "output_type": "stream",
          "text": [
            "Epoch 3, Mean Training ELBO 204.4188241015625, Mean Validation ELBO 499.8151728515625\n"
          ],
          "name": "stdout"
        },
        {
          "output_type": "stream",
          "text": [
            "\r 20%|██        | 4/20 [00:18<01:14,  4.67s/it]"
          ],
          "name": "stderr"
        },
        {
          "output_type": "stream",
          "text": [
            "Epoch 4, Mean Training ELBO 199.84594314453125, Mean Validation ELBO 499.2928270019531\n"
          ],
          "name": "stdout"
        },
        {
          "output_type": "stream",
          "text": [
            "\r 25%|██▌       | 5/20 [00:23<01:10,  4.67s/it]"
          ],
          "name": "stderr"
        },
        {
          "output_type": "stream",
          "text": [
            "Epoch 5, Mean Training ELBO 199.30156689453125, Mean Validation ELBO 499.40277709960935\n"
          ],
          "name": "stdout"
        },
        {
          "output_type": "stream",
          "text": [
            "\r 30%|███       | 6/20 [00:28<01:05,  4.68s/it]"
          ],
          "name": "stderr"
        },
        {
          "output_type": "stream",
          "text": [
            "Epoch 6, Mean Training ELBO 199.1715320703125, Mean Validation ELBO 499.4160084472656\n"
          ],
          "name": "stdout"
        },
        {
          "output_type": "stream",
          "text": [
            "\r 35%|███▌      | 7/20 [00:32<01:01,  4.69s/it]"
          ],
          "name": "stderr"
        },
        {
          "output_type": "stream",
          "text": [
            "Epoch 7, Mean Training ELBO 198.9515210546875, Mean Validation ELBO 499.63689858398436\n"
          ],
          "name": "stdout"
        },
        {
          "output_type": "stream",
          "text": [
            "\r 40%|████      | 8/20 [00:37<00:56,  4.71s/it]"
          ],
          "name": "stderr"
        },
        {
          "output_type": "stream",
          "text": [
            "Epoch 8, Mean Training ELBO 198.670109765625, Mean Validation ELBO 498.79908784179685\n"
          ],
          "name": "stdout"
        },
        {
          "output_type": "stream",
          "text": [
            "\r 45%|████▌     | 9/20 [00:42<00:51,  4.71s/it]"
          ],
          "name": "stderr"
        },
        {
          "output_type": "stream",
          "text": [
            "Epoch 9, Mean Training ELBO 196.91853044921876, Mean Validation ELBO 498.36227841796875\n"
          ],
          "name": "stdout"
        },
        {
          "output_type": "stream",
          "text": [
            "\r 50%|█████     | 10/20 [00:46<00:47,  4.71s/it]"
          ],
          "name": "stderr"
        },
        {
          "output_type": "stream",
          "text": [
            "Epoch 10, Mean Training ELBO 194.55412587890626, Mean Validation ELBO 498.1206348632812\n"
          ],
          "name": "stdout"
        },
        {
          "output_type": "stream",
          "text": [
            "\r 55%|█████▌    | 11/20 [00:51<00:42,  4.70s/it]"
          ],
          "name": "stderr"
        },
        {
          "output_type": "stream",
          "text": [
            "Epoch 11, Mean Training ELBO 192.508725546875, Mean Validation ELBO 498.59844389648435\n"
          ],
          "name": "stdout"
        },
        {
          "output_type": "stream",
          "text": [
            "\r 60%|██████    | 12/20 [00:56<00:37,  4.69s/it]"
          ],
          "name": "stderr"
        },
        {
          "output_type": "stream",
          "text": [
            "Epoch 12, Mean Training ELBO 191.4470888671875, Mean Validation ELBO 497.898608203125\n"
          ],
          "name": "stdout"
        },
        {
          "output_type": "stream",
          "text": [
            "\r 65%|██████▌   | 13/20 [01:00<00:32,  4.68s/it]"
          ],
          "name": "stderr"
        },
        {
          "output_type": "stream",
          "text": [
            "Epoch 13, Mean Training ELBO 190.3352187109375, Mean Validation ELBO 497.4912175292969\n"
          ],
          "name": "stdout"
        },
        {
          "output_type": "stream",
          "text": [
            "\r 70%|███████   | 14/20 [01:05<00:27,  4.67s/it]"
          ],
          "name": "stderr"
        },
        {
          "output_type": "stream",
          "text": [
            "Epoch 14, Mean Training ELBO 189.20937896484375, Mean Validation ELBO 497.51701591796876\n"
          ],
          "name": "stdout"
        },
        {
          "output_type": "stream",
          "text": [
            "\r 75%|███████▌  | 15/20 [01:10<00:23,  4.65s/it]"
          ],
          "name": "stderr"
        },
        {
          "output_type": "stream",
          "text": [
            "Epoch 15, Mean Training ELBO 188.27038513671874, Mean Validation ELBO 497.3140143066406\n"
          ],
          "name": "stdout"
        },
        {
          "output_type": "stream",
          "text": [
            "\r 80%|████████  | 16/20 [01:14<00:18,  4.64s/it]"
          ],
          "name": "stderr"
        },
        {
          "output_type": "stream",
          "text": [
            "Epoch 16, Mean Training ELBO 187.554882109375, Mean Validation ELBO 497.1154435546875\n"
          ],
          "name": "stdout"
        },
        {
          "output_type": "stream",
          "text": [
            "\r 85%|████████▌ | 17/20 [01:19<00:13,  4.64s/it]"
          ],
          "name": "stderr"
        },
        {
          "output_type": "stream",
          "text": [
            "Epoch 17, Mean Training ELBO 186.1917924609375, Mean Validation ELBO 497.1708158691406\n"
          ],
          "name": "stdout"
        },
        {
          "output_type": "stream",
          "text": [
            "\r 90%|█████████ | 18/20 [01:24<00:09,  4.63s/it]"
          ],
          "name": "stderr"
        },
        {
          "output_type": "stream",
          "text": [
            "Epoch 18, Mean Training ELBO 184.9641455859375, Mean Validation ELBO 496.45919140625\n"
          ],
          "name": "stdout"
        },
        {
          "output_type": "stream",
          "text": [
            "\r 95%|█████████▌| 19/20 [01:28<00:04,  4.62s/it]"
          ],
          "name": "stderr"
        },
        {
          "output_type": "stream",
          "text": [
            "Epoch 19, Mean Training ELBO 183.0970673828125, Mean Validation ELBO 495.619157421875\n"
          ],
          "name": "stdout"
        },
        {
          "output_type": "stream",
          "text": [
            "100%|██████████| 20/20 [01:33<00:00,  4.66s/it]"
          ],
          "name": "stderr"
        },
        {
          "output_type": "stream",
          "text": [
            "Epoch 20, Mean Training ELBO 181.29536615234375, Mean Validation ELBO 495.711440625\n"
          ],
          "name": "stdout"
        },
        {
          "output_type": "stream",
          "text": [
            "\n"
          ],
          "name": "stderr"
        }
      ]
    },
    {
      "cell_type": "code",
      "metadata": {
        "pycharm": {
          "name": "#%%\n"
        },
        "id": "ZzWbX9TOsjNo"
      },
      "source": [
        "def test_vae():\n",
        "    x, _ = next(iter(test_dataloader))\n",
        "    x = x.to(DEVICE)\n",
        "    x_recons = []\n",
        "    with torch.no_grad():\n",
        "        x_recon, _, _ = vae(x)\n",
        "        x_recons.append(x_recon)\n",
        "    return [x], x_recons\n",
        "test_batch, test_batch_r = test_vae()"
      ],
      "execution_count": 7,
      "outputs": []
    },
    {
      "cell_type": "code",
      "metadata": {
        "pycharm": {
          "name": "#%%\n"
        },
        "colab": {
          "base_uri": "https://localhost:8080/",
          "height": 111
        },
        "id": "G2ECgFtAsjNo",
        "outputId": "bf65c7fa-6a84-4f19-f072-ffa889c47948"
      },
      "source": [
        "def show_images(x, ncols=20):\n",
        "    \"\"\" plots first ncols images in a batch \"\"\"\n",
        "    x = x.view(BATCH_SIZE, 28, 28)\n",
        "\n",
        "    fig, ax = plt.subplots(1, ncols, figsize=(20, 2))\n",
        "    for idx in range(ncols):\n",
        "        ax[idx].imshow(x[idx].cpu().numpy(), cmap=\"Greys_r\")\n",
        "        ax[idx].axis('off')\n",
        "show_images(test_batch[0])\n",
        "show_images(test_batch_r[0])"
      ],
      "execution_count": 8,
      "outputs": [
        {
          "output_type": "display_data",
          "data": {
            "image/png": "[encoded data removed]",
            "text/plain": [
              "<Figure size 1440x144 with 20 Axes>"
            ]
          },
          "metadata": {
            "tags": [],
            "needs_background": "light"
          }
        },
        {
          "output_type": "display_data",
          "data": {
            "image/png": "[encoded data removed]",
            "text/plain": [
              "<Figure size 1440x144 with 20 Axes>"
            ]
          },
          "metadata": {
            "tags": [],
            "needs_background": "light"
          }
        }
      ]
    },
    {
      "cell_type": "code",
      "metadata": {
        "pycharm": {
          "name": "#%%\n"
        },
        "id": "X3YR3kWusjNp"
      },
      "source": [
        ""
      ],
      "execution_count": 8,
      "outputs": []
    }
  ]
}