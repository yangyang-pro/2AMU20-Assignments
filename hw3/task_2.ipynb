{
  "nbformat": 4,
  "nbformat_minor": 0,
  "metadata": {
    "anaconda-cloud": {},
    "colab": {
      "name": "task_2.ipynb",
      "provenance": [],
      "collapsed_sections": [],
      "machine_shape": "hm"
    },
    "kernelspec": {
      "display_name": "Python 3",
      "language": "python",
      "name": "python3"
    },
    "language_info": {
      "codemirror_mode": {
        "name": "ipython",
        "version": 3
      },
      "file_extension": ".py",
      "mimetype": "text/x-python",
      "name": "python",
      "nbconvert_exporter": "python",
      "pygments_lexer": "ipython3",
      "version": "3.8.5"
    },
    "accelerator": "GPU"
  },
  "cells": [
    {
      "cell_type": "code",
      "metadata": {
        "id": "OHkuDfWDCQL_"
      },
      "source": [
        "%matplotlib inline\n",
        "import torch\n",
        "import torch.nn as nn\n",
        "import torch.nn.functional as F\n",
        "import numpy as np\n",
        "import matplotlib.pyplot as plt\n",
        "import torchvision\n",
        "from tqdm import tqdm\n",
        "from torch.utils.data import TensorDataset\n",
        "from torch.utils.data import DataLoader\n",
        "from mpl_toolkits.axes_grid1 import ImageGrid\n",
        "from torch.distributions.multivariate_normal import MultivariateNormal\n",
        "import os\n",
        "from PIL import Image"
      ],
      "execution_count": 1,
      "outputs": []
    },
    {
      "cell_type": "code",
      "metadata": {
        "pycharm": {
          "name": "#%%\n"
        },
        "id": "3SXypsPpsjNj"
      },
      "source": [
        "train_metadata = torchvision.datasets.MNIST(root='./data', train=True, download=True)\n",
        "test_metadata = torchvision.datasets.MNIST(root='./data', train=False, download=True)"
      ],
      "execution_count": 2,
      "outputs": []
    },
    {
      "cell_type": "code",
      "metadata": {
        "id": "4fizb_9gCyS5"
      },
      "source": [
        "DEVICE = 'cuda' if torch.cuda.is_available() else 'cpu'\n",
        "BATCH_SIZE = 128\n",
        "NUM_TRAIN = 50000\n",
        "NUM_VAL = 10000\n",
        "\n",
        "train_x = train_metadata.data[:50000].unsqueeze(1) / 255\n",
        "val_x = train_metadata.data[-10000:].unsqueeze(1) / 255\n",
        "test_x = test_metadata.data.unsqueeze(1) / 255\n",
        "train_y = train_metadata.targets[:50000]\n",
        "val_y = train_metadata.targets[-10000:]\n",
        "test_y = test_metadata.targets\n",
        "\n",
        "# train_x = train_x.reshape(-1,784)\n",
        "# val_x = val_x.reshape(-1,784)\n",
        "# test_x = test_x.reshape(-1,784)\n",
        "\n",
        "train_data = TensorDataset(train_x, train_y)\n",
        "val_data = TensorDataset(val_x, val_y)\n",
        "test_data = TensorDataset(test_x, test_y)\n",
        "\n",
        "train_dataloader = DataLoader(train_data, batch_size=BATCH_SIZE, shuffle=True)\n",
        "val_dataloader = DataLoader(val_data, batch_size=BATCH_SIZE, shuffle=True)\n",
        "test_dataloader = DataLoader(test_data, batch_size=BATCH_SIZE)"
      ],
      "execution_count": 3,
      "outputs": []
    },
    {
      "cell_type": "code",
      "metadata": {
        "id": "XnEk2WBnDHmz",
        "colab": {
          "base_uri": "https://localhost:8080/"
        },
        "outputId": "183006ff-3fb7-4cc2-88e9-484822b2c28c"
      },
      "source": [
        "class Encoder(nn.Module):\n",
        "    def __init__(self, input_dim, hidden_dim, latent_dim, dist):\n",
        "        super(Encoder, self).__init__()\n",
        "       \n",
        "        self.normal_dist = MultivariateNormal(torch.zeros(latent_dim),\n",
        "                                              torch.eye(latent_dim))\n",
        "        self.encode = nn.Sequential(\n",
        "          nn.Conv2d(input_dim, 32, kernel_size=(3, 3), stride=(1, 1), padding=(2, 2)),\n",
        "          nn.ReLU(inplace=True),\n",
        "          nn.MaxPool2d(kernel_size=2, stride=2),\n",
        "\n",
        "          nn.Conv2d(32, 64, kernel_size=(3, 3), stride=(1, 1), padding=(2, 2)),\n",
        "          nn.ReLU(inplace=True),\n",
        "          nn.MaxPool2d(kernel_size=2, stride=2),\n",
        "\n",
        "          nn.Conv2d(64, 128, kernel_size=(3, 3), stride=(1, 1), padding=(1, 1)),\n",
        "          nn.ReLU(inplace=True),\n",
        "          nn.MaxPool2d(kernel_size=2, stride=2),\n",
        "\n",
        "          nn.Flatten(),\n",
        "\n",
        "          # nn.Linear(128 * 4 * 4, hidden_dim),\n",
        "          # nn.ReLU(inplace=True),\n",
        "        )\n",
        "        self.fc_mu = nn.Linear(128 * 4 * 4, latent_dim)\n",
        "        self.fc_var = nn.Linear(128 * 4 * 4, latent_dim)\n",
        "\n",
        "    def forward(self, x):\n",
        "        encoded = self.encode(x)\n",
        "        mu = self.fc_mu(encoded)\n",
        "        log_var = self.fc_var(encoded)\n",
        "        if 'bernulli': \n",
        "          z = self.reparameterization1(x, mu, log_var)\n",
        "        if 'gauss':   \n",
        "          z = self.reparameterization(mu, log_var)\n",
        "        return z, mu, log_var\n",
        "\n",
        "    def reparameterization(self, mu, log_var):\n",
        "        std = torch.exp(0.5 * log_var)\n",
        "        epsilon = torch.rand_like(std).to(DEVICE)\n",
        "        z = mu + std * epsilon\n",
        "        return z\n",
        "\n",
        "    def reparameterization1(self, x, mu, log_var):\n",
        "    # Get a latent variable sample with the reparameterization trick\n",
        "        epsilon = self.normal_dist.sample((x.shape[0],)).to(DEVICE)\n",
        "        z = mu + torch.sqrt(torch.exp(log_var)) * epsilon\n",
        "        return z\n",
        "\n",
        "class Decoder(nn.Module):\n",
        "    def __init__(self, latent_dim, output_dim, num_var, var=0.05):\n",
        "        super(Decoder, self).__init__()\n",
        "        self.var = var\n",
        "        self.num_var = num_var\n",
        "        self.latent_dim = latent_dim\n",
        "        self.decode = nn.Sequential(\n",
        "            nn.ConvTranspose2d(latent_dim, 128, kernel_size=(4, 4), stride=(1, 1), padding=(0, 0)),\n",
        "            nn.BatchNorm2d(128),\n",
        "            nn.ReLU(inplace=True),\n",
        "\n",
        "            nn.ConvTranspose2d(128, 64, kernel_size=(4, 4), stride=(2, 2), padding=(1, 1)),\n",
        "            nn.BatchNorm2d(64),\n",
        "            nn.ReLU(inplace=True),\n",
        "\n",
        "            nn.ConvTranspose2d(64, 32, kernel_size=(4, 4), stride=(2, 2), padding=(1, 1)),\n",
        "            nn.BatchNorm2d(32),\n",
        "            nn.ReLU(inplace=True),\n",
        "\n",
        "            nn.ConvTranspose2d(32, output_dim, kernel_size=(4, 4), stride=(2, 2), padding=(1, 1)),\n",
        "            nn.Sigmoid()\n",
        "        )\n",
        "\n",
        "    def forward(self, x):\n",
        "        x = x.unsqueeze(-1).unsqueeze(-1)\n",
        "        preds = self.decode(x)\n",
        "        preds = preds[:, :, 1:29, 1:29]\n",
        "        return preds\n",
        "\n",
        "    def sample(self, N, convert_to_numpy=False, suppress_noise=True):\n",
        "      with torch.no_grad():\n",
        "          \n",
        "          z = torch.randn(N, 16, device=DEVICE)\n",
        "          preds = self.forward(z)\n",
        "          x = preds\n",
        "          # the conditional VAE distribution is isotropic Gaussian, hence we just add noise when sampling it\n",
        "          # for images, one might want to suppress this\n",
        "          if not suppress_noise:\n",
        "              x += np.sqrt(self.var) * torch.randn(N, self.num_var, device=DEVICE)   \n",
        "      if convert_to_numpy:\n",
        "            z = z.cpu().numpy()\n",
        "            x = x.cpu().numpy()\n",
        "            \n",
        "      return x, z \n",
        "\n",
        "            \n",
        "        \n",
        "class VAE(nn.Module):\n",
        "    def __init__(self, encoder, decoder, var=0.5):\n",
        "        super(VAE, self).__init__()\n",
        "        self.encoder = encoder\n",
        "        self.decoder = decoder\n",
        "        self.var = var\n",
        "\n",
        "    def forward(self, x):\n",
        "        z, mu, log_var = self.encoder(x)\n",
        "        x_r = self.decoder(z)\n",
        "        return x_r, mu, log_var\n",
        "\n",
        "num_channels = train_x.shape[1]\n",
        "latent_dim = 16\n",
        "hidden_dim = 128\n",
        "bernulli_dim = 28 * 28\n",
        "dist= 'bernulli'\n",
        "encoder = Encoder(input_dim=num_channels, hidden_dim=hidden_dim, latent_dim=latent_dim, dist = dist).to(DEVICE)\n",
        "decoder = Decoder(latent_dim=latent_dim, output_dim=num_channels, num_var = train_x.shape[1]).to(DEVICE)\n",
        "vae = VAE(encoder, decoder).to(DEVICE)\n",
        "print(vae)"
      ],
      "execution_count": 4,
      "outputs": [
        {
          "output_type": "stream",
          "text": [
            "VAE(\n",
            "  (encoder): Encoder(\n",
            "    (encode): Sequential(\n",
            "      (0): Conv2d(1, 32, kernel_size=(3, 3), stride=(1, 1), padding=(2, 2))\n",
            "      (1): ReLU(inplace=True)\n",
            "      (2): MaxPool2d(kernel_size=2, stride=2, padding=0, dilation=1, ceil_mode=False)\n",
            "      (3): Conv2d(32, 64, kernel_size=(3, 3), stride=(1, 1), padding=(2, 2))\n",
            "      (4): ReLU(inplace=True)\n",
            "      (5): MaxPool2d(kernel_size=2, stride=2, padding=0, dilation=1, ceil_mode=False)\n",
            "      (6): Conv2d(64, 128, kernel_size=(3, 3), stride=(1, 1), padding=(1, 1))\n",
            "      (7): ReLU(inplace=True)\n",
            "      (8): MaxPool2d(kernel_size=2, stride=2, padding=0, dilation=1, ceil_mode=False)\n",
            "      (9): Flatten(start_dim=1, end_dim=-1)\n",
            "    )\n",
            "    (fc_mu): Linear(in_features=2048, out_features=16, bias=True)\n",
            "    (fc_var): Linear(in_features=2048, out_features=16, bias=True)\n",
            "  )\n",
            "  (decoder): Decoder(\n",
            "    (decode): Sequential(\n",
            "      (0): ConvTranspose2d(16, 128, kernel_size=(4, 4), stride=(1, 1))\n",
            "      (1): BatchNorm2d(128, eps=1e-05, momentum=0.1, affine=True, track_running_stats=True)\n",
            "      (2): ReLU(inplace=True)\n",
            "      (3): ConvTranspose2d(128, 64, kernel_size=(4, 4), stride=(2, 2), padding=(1, 1))\n",
            "      (4): BatchNorm2d(64, eps=1e-05, momentum=0.1, affine=True, track_running_stats=True)\n",
            "      (5): ReLU(inplace=True)\n",
            "      (6): ConvTranspose2d(64, 32, kernel_size=(4, 4), stride=(2, 2), padding=(1, 1))\n",
            "      (7): BatchNorm2d(32, eps=1e-05, momentum=0.1, affine=True, track_running_stats=True)\n",
            "      (8): ReLU(inplace=True)\n",
            "      (9): ConvTranspose2d(32, 1, kernel_size=(4, 4), stride=(2, 2), padding=(1, 1))\n",
            "      (10): Sigmoid()\n",
            "    )\n",
            "  )\n",
            ")\n"
          ],
          "name": "stdout"
        }
      ]
    },
    {
      "cell_type": "code",
      "metadata": {
        "colab": {
          "base_uri": "https://localhost:8080/"
        },
        "id": "2gv0htk-ElZP",
        "pycharm": {
          "name": "#%%\n"
        },
        "outputId": "c99d0e81-0a6f-4e9a-b65d-d6af8e1a09e1"
      },
      "source": [
        "optimizer = torch.optim.Adam(vae.parameters(), lr=1e-4)\n",
        "\n",
        "def train_vae(num_epochs, dist= 'bernulli'):\n",
        "    for epoch in tqdm(range(num_epochs)):\n",
        "        train_elbos = 0.0\n",
        "        val_elbos = 0.0\n",
        "        for batch in train_dataloader:\n",
        "            x, _ = batch\n",
        "            x = x.to(DEVICE)\n",
        "            x_recon, mu, log_var = vae(x)\n",
        "\n",
        "            if dist == 'gauss':\n",
        "              distances = F.mse_loss(x, x_recon, reduction='none')\n",
        "              log_p = -0.5 * torch.sum(np.log(vae.var * 2 * np.pi) + distances / vae.var)\n",
        "              kl = -0.5 * torch.sum(1 + log_var - mu.pow(2) - log_var.exp())\n",
        "              negative_elbo = -log_p + kl\n",
        "\n",
        "            if dist == 'bernulli':\n",
        "              bce = F.binary_cross_entropy(x_recon.reshape(-1, 784), x.view(-1, 784), reduction='sum')\n",
        "              kl = -0.5 * torch.sum(1 + log_var - mu.pow(2) - log_var.exp())\n",
        "              negative_elbo = bce + kl\n",
        "              \n",
        "            negative_elbo.backward()\n",
        "            optimizer.step()\n",
        "            train_elbos += negative_elbo.item()\n",
        "\n",
        "        for batch in val_dataloader:\n",
        "            x, _ = batch\n",
        "            x = x.to(DEVICE)\n",
        "            with torch.no_grad():\n",
        "                x_recon, mu, log_var = vae(x)\n",
        "\n",
        "                if 'gauss':\n",
        "                  distances = F.mse_loss(x, x_recon, reduction='none')\n",
        "                  log_p = -0.5 * torch.sum(np.log(vae.var * 2 * np.pi) + distances / vae.var)\n",
        "                  kl = -0.5 * torch.sum(1 + log_var - mu.pow(2) - log_var.exp())\n",
        "                  negative_elbo = -log_p + kl\n",
        "\n",
        "                if 'bernulli':\n",
        "                  bce = F.binary_cross_entropy(x_recon.reshape(-1, 784), x.view(-1, 784), reduction='sum')\n",
        "                  kl = -0.5 * torch.sum(1 + log_var - mu.pow(2) - log_var.exp())\n",
        "                  negative_elbo = bce + kl\n",
        "\n",
        "                val_elbos += negative_elbo.item()\n",
        "        print('Epoch {}, Mean Training ELBO {}, Mean Validation ELBO {}'.format(epoch + 1, train_elbos / NUM_TRAIN, val_elbos / NUM_VAL))\n",
        "train_vae(num_epochs=20, dist = dist)"
      ],
      "execution_count": 6,
      "outputs": [
        {
          "output_type": "stream",
          "text": [
            "  5%|▌         | 1/20 [00:04<01:28,  4.68s/it]"
          ],
          "name": "stderr"
        },
        {
          "output_type": "stream",
          "text": [
            "Epoch 1, Mean Training ELBO 290.171586953125, Mean Validation ELBO 210.9207707763672\n"
          ],
          "name": "stdout"
        },
        {
          "output_type": "stream",
          "text": [
            "\r 10%|█         | 2/20 [00:09<01:23,  4.64s/it]"
          ],
          "name": "stderr"
        },
        {
          "output_type": "stream",
          "text": [
            "Epoch 2, Mean Training ELBO 207.8714362109375, Mean Validation ELBO 205.82569030761718\n"
          ],
          "name": "stdout"
        },
        {
          "output_type": "stream",
          "text": [
            "\r 15%|█▌        | 3/20 [00:13<01:18,  4.62s/it]"
          ],
          "name": "stderr"
        },
        {
          "output_type": "stream",
          "text": [
            "Epoch 3, Mean Training ELBO 205.0291333984375, Mean Validation ELBO 201.76219067382812\n"
          ],
          "name": "stdout"
        },
        {
          "output_type": "stream",
          "text": [
            "\r 20%|██        | 4/20 [00:18<01:13,  4.61s/it]"
          ],
          "name": "stderr"
        },
        {
          "output_type": "stream",
          "text": [
            "Epoch 4, Mean Training ELBO 202.0523230078125, Mean Validation ELBO 200.26196135253906\n"
          ],
          "name": "stdout"
        },
        {
          "output_type": "stream",
          "text": [
            "\r 25%|██▌       | 5/20 [00:22<01:09,  4.61s/it]"
          ],
          "name": "stderr"
        },
        {
          "output_type": "stream",
          "text": [
            "Epoch 5, Mean Training ELBO 201.3107291796875, Mean Validation ELBO 198.89734985351564\n"
          ],
          "name": "stdout"
        },
        {
          "output_type": "stream",
          "text": [
            "\r 30%|███       | 6/20 [00:27<01:04,  4.60s/it]"
          ],
          "name": "stderr"
        },
        {
          "output_type": "stream",
          "text": [
            "Epoch 6, Mean Training ELBO 200.64243234375, Mean Validation ELBO 198.5372880126953\n"
          ],
          "name": "stdout"
        },
        {
          "output_type": "stream",
          "text": [
            "\r 35%|███▌      | 7/20 [00:32<00:59,  4.59s/it]"
          ],
          "name": "stderr"
        },
        {
          "output_type": "stream",
          "text": [
            "Epoch 7, Mean Training ELBO 199.86081515625, Mean Validation ELBO 198.4684569580078\n"
          ],
          "name": "stdout"
        },
        {
          "output_type": "stream",
          "text": [
            "\r 40%|████      | 8/20 [00:36<00:55,  4.60s/it]"
          ],
          "name": "stderr"
        },
        {
          "output_type": "stream",
          "text": [
            "Epoch 8, Mean Training ELBO 199.13131587890626, Mean Validation ELBO 197.11782626953126\n"
          ],
          "name": "stdout"
        },
        {
          "output_type": "stream",
          "text": [
            "\r 45%|████▌     | 9/20 [00:41<00:50,  4.59s/it]"
          ],
          "name": "stderr"
        },
        {
          "output_type": "stream",
          "text": [
            "Epoch 9, Mean Training ELBO 197.35255728515625, Mean Validation ELBO 195.70599106445312\n"
          ],
          "name": "stdout"
        },
        {
          "output_type": "stream",
          "text": [
            "\r 50%|█████     | 10/20 [00:45<00:45,  4.60s/it]"
          ],
          "name": "stderr"
        },
        {
          "output_type": "stream",
          "text": [
            "Epoch 10, Mean Training ELBO 194.73485021484376, Mean Validation ELBO 192.22618981933593\n"
          ],
          "name": "stdout"
        },
        {
          "output_type": "stream",
          "text": [
            "\r 55%|█████▌    | 11/20 [00:50<00:41,  4.60s/it]"
          ],
          "name": "stderr"
        },
        {
          "output_type": "stream",
          "text": [
            "Epoch 11, Mean Training ELBO 191.6931339453125, Mean Validation ELBO 190.25481547851564\n"
          ],
          "name": "stdout"
        },
        {
          "output_type": "stream",
          "text": [
            "\r 60%|██████    | 12/20 [00:55<00:36,  4.61s/it]"
          ],
          "name": "stderr"
        },
        {
          "output_type": "stream",
          "text": [
            "Epoch 12, Mean Training ELBO 190.3070347265625, Mean Validation ELBO 189.64439221191407\n"
          ],
          "name": "stdout"
        },
        {
          "output_type": "stream",
          "text": [
            "\r 65%|██████▌   | 13/20 [00:59<00:32,  4.61s/it]"
          ],
          "name": "stderr"
        },
        {
          "output_type": "stream",
          "text": [
            "Epoch 13, Mean Training ELBO 188.81791828125, Mean Validation ELBO 187.84499946289063\n"
          ],
          "name": "stdout"
        },
        {
          "output_type": "stream",
          "text": [
            "\r 70%|███████   | 14/20 [01:04<00:27,  4.61s/it]"
          ],
          "name": "stderr"
        },
        {
          "output_type": "stream",
          "text": [
            "Epoch 14, Mean Training ELBO 187.30936765625, Mean Validation ELBO 185.8932810546875\n"
          ],
          "name": "stdout"
        },
        {
          "output_type": "stream",
          "text": [
            "\r 75%|███████▌  | 15/20 [01:09<00:23,  4.62s/it]"
          ],
          "name": "stderr"
        },
        {
          "output_type": "stream",
          "text": [
            "Epoch 15, Mean Training ELBO 186.32857814453126, Mean Validation ELBO 184.29810556640626\n"
          ],
          "name": "stdout"
        },
        {
          "output_type": "stream",
          "text": [
            "\r 80%|████████  | 16/20 [01:13<00:18,  4.62s/it]"
          ],
          "name": "stderr"
        },
        {
          "output_type": "stream",
          "text": [
            "Epoch 16, Mean Training ELBO 184.1658051171875, Mean Validation ELBO 182.98996325683595\n"
          ],
          "name": "stdout"
        },
        {
          "output_type": "stream",
          "text": [
            "\r 85%|████████▌ | 17/20 [01:18<00:13,  4.62s/it]"
          ],
          "name": "stderr"
        },
        {
          "output_type": "stream",
          "text": [
            "Epoch 17, Mean Training ELBO 182.76593265625, Mean Validation ELBO 180.69324504394532\n"
          ],
          "name": "stdout"
        },
        {
          "output_type": "stream",
          "text": [
            "\r 90%|█████████ | 18/20 [01:22<00:09,  4.62s/it]"
          ],
          "name": "stderr"
        },
        {
          "output_type": "stream",
          "text": [
            "Epoch 18, Mean Training ELBO 180.99680474609374, Mean Validation ELBO 179.13627626953124\n"
          ],
          "name": "stdout"
        },
        {
          "output_type": "stream",
          "text": [
            "\r 95%|█████████▌| 19/20 [01:27<00:04,  4.63s/it]"
          ],
          "name": "stderr"
        },
        {
          "output_type": "stream",
          "text": [
            "Epoch 19, Mean Training ELBO 179.250135390625, Mean Validation ELBO 176.9292671875\n"
          ],
          "name": "stdout"
        },
        {
          "output_type": "stream",
          "text": [
            "100%|██████████| 20/20 [01:32<00:00,  4.61s/it]"
          ],
          "name": "stderr"
        },
        {
          "output_type": "stream",
          "text": [
            "Epoch 20, Mean Training ELBO 177.77359056640626, Mean Validation ELBO 175.26509438476563\n"
          ],
          "name": "stdout"
        },
        {
          "output_type": "stream",
          "text": [
            "\n"
          ],
          "name": "stderr"
        }
      ]
    },
    {
      "cell_type": "code",
      "metadata": {
        "pycharm": {
          "name": "#%%\n"
        },
        "id": "ZzWbX9TOsjNo"
      },
      "source": [
        "def test_vae():\n",
        "    x, _ = next(iter(test_dataloader))\n",
        "    x = x.to(DEVICE)\n",
        "    x_recons = []\n",
        "    with torch.no_grad():\n",
        "        x_recon, _, _ = vae(x)\n",
        "        x_recons.append(x_recon)\n",
        "    return [x], x_recons\n",
        "test_batch, test_batch_r = test_vae()"
      ],
      "execution_count": 7,
      "outputs": []
    },
    {
      "cell_type": "code",
      "metadata": {
        "pycharm": {
          "name": "#%%\n"
        },
        "colab": {
          "base_uri": "https://localhost:8080/",
          "height": 629
        },
        "id": "G2ECgFtAsjNo",
        "outputId": "0dfd32c4-3255-4c02-c879-6c4bf126a8e8"
      },
      "source": [
        "def show_images(x, ncols=64):\n",
        "    \"\"\" plots first ncols images in a batch \"\"\"\n",
        "    x = x.view(BATCH_SIZE, 28, 28)\n",
        "    img_arr = []\n",
        "    for image in x:\n",
        "      img_arr.append(image)\n",
        "    fig = plt.figure(figsize=(5., 5.))\n",
        "    grid = ImageGrid(fig, 111, \n",
        "                 nrows_ncols=(8, 8),  # creates 2x2 grid of axes\n",
        "                 axes_pad=0.1,  # pad between axes\n",
        "                 )\n",
        "\n",
        "    for ax, im in zip(grid, img_arr):\n",
        "        \n",
        "        ax.imshow(im.cpu().numpy(), cmap=\"Greys_r\")\n",
        "        \n",
        "show_images(test_batch[0])\n",
        "show_images(test_batch_r[0])"
      ],
      "execution_count": 8,
      "outputs": [
        {
          "output_type": "display_data",
          "data": {
            "image/png": "[encoded data removed]",
            "text/plain": [
              "<Figure size 360x360 with 128 Axes>"
            ]
          },
          "metadata": {
            "tags": [],
            "needs_background": "light"
          }
        },
        {
          "output_type": "display_data",
          "data": {
            "image/png": "[encoded data removed]",
            "text/plain": [
              "<Figure size 360x360 with 128 Axes>"
            ]
          },
          "metadata": {
            "tags": [],
            "needs_background": "light"
          }
        }
      ]
    },
    {
      "cell_type": "code",
      "metadata": {
        "id": "6O3_tYPtu6gI"
      },
      "source": [
        "# optimizer = torch.optim.Adam(vae.parameters(), lr=1e-4)\n",
        "\n",
        "# def train_vae(num_epochs, dist):\n",
        "#     for epoch in tqdm(range(num_epochs)):\n",
        "#         train_elbos = 0.0\n",
        "#         val_elbos = 0.0\n",
        "#         for batch in train_dataloader:\n",
        "#             #vae.zero_grad()\n",
        "#             x, _ = batch\n",
        "#             x = x.to(DEVICE)\n",
        "#             x_recon, mu, log_var = vae(x)\n",
        "\n",
        "#             if 'gauss':\n",
        "#               distances = F.mse_loss(x, x_recon, reduction='none')\n",
        "#               log_p = -0.5 * torch.sum(np.log(vae.var * 2 * np.pi) + distances / vae.var)\n",
        "#               kl = -0.5 * torch.sum(1 + log_var - mu.pow(2) - log_var.exp())\n",
        "#               negative_elbo = -log_p + kl\n",
        "\n",
        "#             if 'bernulli':\n",
        "#               bce = F.binary_cross_entropy(x_recon.reshape(-1, 784), x.view(-1, 784), reduction='sum')\n",
        "#               kl = -0.5 * torch.sum(1 + log_var - mu.pow(2) - log_var.exp())\n",
        "#               negative_elbo = bce + kl\n",
        "              \n",
        "#             negative_elbo.backward()\n",
        "#             optimizer.step()\n",
        "#             train_elbos += negative_elbo.item()\n",
        "\n",
        "#         for batch in val_dataloader:\n",
        "#             x, _ = batch\n",
        "#             x = x.to(DEVICE)\n",
        "#             with torch.no_grad():\n",
        "#                 x_recon, mu, log_var = vae(x)\n",
        "\n",
        "#                 if 'gauss':\n",
        "#                   distances = F.mse_loss(x, x_recon, reduction='none')\n",
        "#                   log_p = -0.5 * torch.sum(np.log(vae.var * 2 * np.pi) + distances / vae.var)\n",
        "#                   kl = -0.5 * torch.sum(1 + log_var - mu.pow(2) - log_var.exp())\n",
        "#                   negative_elbo = -log_p + kl\n",
        "\n",
        "#                 if 'bernulli':\n",
        "#                   bce = F.binary_cross_entropy(x_recon.reshape(-1, 784), x.view(-1, 784), reduction='sum')\n",
        "#                   kl = -0.5 * torch.sum(1 + log_var - mu.pow(2) - log_var.exp())\n",
        "#                   negative_elbo = bce + kl\n",
        "\n",
        "#                 val_elbos += negative_elbo.item()\n",
        "#         if epoch % 5 == 0:\n",
        "#           with torch.no_grad():\n",
        "#             # sample from the VAE\n",
        "#             x, z = decoder.sample(5)\n",
        "#             zoo = train_x.to(DEVICE)\n",
        "#             mu_z, var_z, s = encoder(zoo[0:5,:])\n",
        "\n",
        "#             z_encoded = mu_z + torch.sqrt(var_z) * torch.randn(5, latent_dim, device=DEVICE)\n",
        "\n",
        "#             # decode the samples\n",
        "#             x_decoded = decoder(z_encoded)\n",
        "\n",
        "#             # save images\n",
        "#             plot_img = np.stack((zoo[0:5, :].detach().cpu().numpy(),\n",
        "#                                 x_decoded.detach().cpu().numpy(),\n",
        "#                                 x.detach().cpu().numpy()))\n",
        "#             plot_img = np.reshape(plot_img, (15, 28, 28))\n",
        "#             file_name = os.path.join('img_vae', 'samples_{}.png'.format(epoch))\n",
        "#             save_image_stack(plot_img, 3, 5, file_name, margin = 3)\n",
        "\n",
        "#         plt.figure(1)\n",
        "#         plt.clf()\n",
        "#         plt.plot(ELBO_history)\n",
        "#         plt.savefig(os.path.join('img_vae', 'elbo.png'))\n",
        "#         print('Epoch {}, Mean Training ELBO {}, Mean Validation ELBO {}'.format(epoch + 1, train_elbos / NUM_TRAIN, val_elbos / NUM_VAL))\n",
        "# train_vae(num_epochs=20, dist = dist)\n",
        "\n",
        "\n",
        "# class Encoder(nn.Module):\n",
        "#     def __init__(self, input_dim, hidden_dim, latent_dim, dist):\n",
        "#         super(Encoder, self).__init__()\n",
        "       \n",
        "#         self.normal_dist = MultivariateNormal(torch.zeros(latent_dim),\n",
        "#                                               torch.eye(latent_dim))\n",
        "#         self.encode = nn.Sequential(\n",
        "#           nn.Conv2d(input_dim, 32, kernel_size=(3, 3), stride=(1, 1), padding=(2, 2)),\n",
        "#           nn.ReLU(inplace=True),\n",
        "#           nn.MaxPool2d(kernel_size=2, stride=2),\n",
        "\n",
        "#           nn.Conv2d(32, 64, kernel_size=(3, 3), stride=(1, 1), padding=(2, 2)),\n",
        "#           nn.ReLU(inplace=True),\n",
        "#           nn.MaxPool2d(kernel_size=2, stride=2),\n",
        "\n",
        "#           nn.Conv2d(64, 128, kernel_size=(3, 3), stride=(1, 1), padding=(1, 1)),\n",
        "#           nn.ReLU(inplace=True),\n",
        "#           nn.MaxPool2d(kernel_size=2, stride=2),\n",
        "\n",
        "#           nn.Flatten(),\n",
        "\n",
        "#           # nn.Linear(128 * 4 * 4, hidden_dim),\n",
        "#           # nn.ReLU(inplace=True),\n",
        "#         )\n",
        "#         self.fc_mu = nn.Linear(128 * 4 * 4, latent_dim)\n",
        "#         self.fc_var = nn.Linear(128 * 4 * 4, latent_dim)\n",
        "\n",
        "#     def forward(self, x):\n",
        "#         encoded = self.encode(x)\n",
        "#         mu = self.fc_mu(encoded)\n",
        "#         log_var = self.fc_var(encoded)\n",
        "#         if 'bernulli': \n",
        "#           z = self.reparameterization1(x, mu, log_var)\n",
        "#         if 'gauss':   \n",
        "#           z = self.reparameterization(mu, log_var)\n",
        "#         return z, mu, log_var\n",
        "\n",
        "#     def reparameterization(self, mu, log_var):\n",
        "#         std = torch.exp(0.5 * log_var)\n",
        "#         epsilon = torch.rand_like(std).to(DEVICE)\n",
        "#         z = mu + std * epsilon\n",
        "#         return z\n",
        "\n",
        "#     def reparameterization1(self, x, mu, log_var):\n",
        "#     # Get a latent variable sample with the reparameterization trick\n",
        "#         epsilon = self.normal_dist.sample((x.shape[0],)).to(DEVICE)\n",
        "#         z = mu + torch.sqrt(torch.exp(log_var)) * epsilon\n",
        "#         return z\n",
        "\n",
        "# class Decoder(nn.Module):\n",
        "#     def __init__(self, latent_dim, output_dim, num_var, var=0.05):\n",
        "#         super(Decoder, self).__init__()\n",
        "#         self.var = var\n",
        "#         self.num_var = num_var\n",
        "#         self.latent_dim = latent_dim\n",
        "#         self.decode = nn.Sequential(\n",
        "#             nn.ConvTranspose2d(latent_dim, 128, kernel_size=(4, 4), stride=(1, 1), padding=(0, 0)),\n",
        "#             nn.BatchNorm2d(128),\n",
        "#             nn.ReLU(inplace=True),\n",
        "\n",
        "#             nn.ConvTranspose2d(128, 64, kernel_size=(4, 4), stride=(2, 2), padding=(1, 1)),\n",
        "#             nn.BatchNorm2d(64),\n",
        "#             nn.ReLU(inplace=True),\n",
        "\n",
        "#             nn.ConvTranspose2d(64, 32, kernel_size=(4, 4), stride=(2, 2), padding=(1, 1)),\n",
        "#             nn.BatchNorm2d(32),\n",
        "#             nn.ReLU(inplace=True),\n",
        "\n",
        "#             nn.ConvTranspose2d(32, output_dim, kernel_size=(4, 4), stride=(2, 2), padding=(1, 1)),\n",
        "#             nn.Sigmoid()\n",
        "#         )\n",
        "\n",
        "#     def forward(self, x):\n",
        "#         x = x.unsqueeze(-1).unsqueeze(-1)\n",
        "#         preds = self.decode(x)\n",
        "#         preds = preds[:, :, 1:29, 1:29]\n",
        "#         return preds\n",
        "\n",
        "#     def sample(self, N, convert_to_numpy=False, suppress_noise=True):\n",
        "#       with torch.no_grad():\n",
        "          \n",
        "#           z = torch.randn(N, 16, device=DEVICE)\n",
        "#           preds = self.forward(z)\n",
        "#           x = preds\n",
        "          \n",
        "#           # the conditional VAE distribution is isotropic Gaussian, hence we just add noise when sampling it\n",
        "#           # for images, one might want to suppress this\n",
        "#           if not suppress_noise:\n",
        "#               x += np.sqrt(self.var) * torch.randn(N, self.num_var, device=DEVICE)\n",
        "              \n",
        "#       if convert_to_numpy:\n",
        "#             z = z.cpu().numpy()\n",
        "#             x = x.cpu().numpy()\n",
        "            \n",
        "#       return x, z \n",
        "\n",
        "            \n",
        "        \n",
        "# class VAE(nn.Module):\n",
        "#     def __init__(self, encoder, decoder, var=0.5):\n",
        "#         super(VAE, self).__init__()\n",
        "#         self.encoder = encoder\n",
        "#         self.decoder = decoder\n",
        "#         self.var = var\n",
        "\n",
        "#     def forward(self, x):\n",
        "#         z, mu, log_var = self.encoder(x)\n",
        "#         x_r = self.decoder(z)\n",
        "#         return x_r, mu, log_var\n",
        "\n",
        "# num_channels = train_x.shape[1]\n",
        "# latent_dim = 16\n",
        "# hidden_dim = 128\n",
        "# bernulli_dim = 28 * 28\n",
        "# dist= 'gauss'\n",
        "# encoder = Encoder(input_dim=num_channels, hidden_dim=hidden_dim, latent_dim=latent_dim, dist = dist).to(DEVICE)\n",
        "# decoder = Decoder(latent_dim=latent_dim, output_dim=num_channels, num_var = train_x.shape[1]).to(DEVICE)\n",
        "# vae = VAE(encoder, decoder).to(DEVICE)\n",
        "# print(vae)\n",
        "\n",
        "# def save_image_stack(samples, num_rows, num_columns, filename, margin=5, margin_gray_val=1., frame=0, frame_gray_val=0.0):\n",
        "#     \"\"\"Save image stack in a tiled image\"\"\"\n",
        "\n",
        "#     # for gray scale, convert to rgb\n",
        "#     if len(samples.shape) == 3:\n",
        "#         samples = np.stack((samples,) * 3, -1)\n",
        "\n",
        "#     height = samples.shape[1]\n",
        "#     width = samples.shape[2]\n",
        "\n",
        "#     samples -= samples.min()\n",
        "#     samples /= samples.max()\n",
        "\n",
        "#     img = margin_gray_val * np.ones((height*num_rows + (num_rows-1)*margin, width*num_columns + (num_columns-1)*margin, 3))\n",
        "#     for h in range(num_rows):\n",
        "#         for w in range(num_columns):\n",
        "#             img[h*(height+margin):h*(height+margin)+height, w*(width+margin):w*(width+margin)+width, :] = samples[h*num_columns + w, :]\n",
        "\n",
        "#     framed_img = frame_gray_val * np.ones((img.shape[0] + 2*frame, img.shape[1] + 2*frame, 3))\n",
        "#     framed_img[frame:(frame+img.shape[0]), frame:(frame+img.shape[1]), :] = img\n",
        "\n",
        "#     img = Image.fromarray(np.round(framed_img * 255.).astype(np.uint8))\n",
        "\n",
        "#     img.save(filename)"
      ],
      "execution_count": 9,
      "outputs": []
    },
    {
      "cell_type": "code",
      "metadata": {
        "pycharm": {
          "name": "#%%\n"
        },
        "id": "X3YR3kWusjNp"
      },
      "source": [
        ""
      ],
      "execution_count": 9,
      "outputs": []
    }
  ]
}