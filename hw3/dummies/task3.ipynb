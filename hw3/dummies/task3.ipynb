{
  "nbformat": 4,
  "nbformat_minor": 0,
  "metadata": {
    "anaconda-cloud": {},
    "colab": {
      "name": "task3.ipynb",
      "provenance": [],
      "collapsed_sections": [],
      "machine_shape": "hm"
    },
    "kernelspec": {
      "display_name": "Python 3",
      "language": "python",
      "name": "python3"
    },
    "language_info": {
      "codemirror_mode": {
        "name": "ipython",
        "version": 3
      },
      "file_extension": ".py",
      "mimetype": "text/x-python",
      "name": "python",
      "nbconvert_exporter": "python",
      "pygments_lexer": "ipython3",
      "version": "3.8.5"
    },
    "accelerator": "GPU"
  },
  "cells": [
    {
      "cell_type": "code",
      "metadata": {
        "id": "-iTn6RmNMuLT"
      },
      "source": [
        "%matplotlib inline\n",
        "import numpy as np\n",
        "import matplotlib.pyplot as plt\n",
        "import sklearn\n",
        "import seaborn\n",
        "import torch\n",
        "import torch.nn as nn\n",
        "from torch.optim import Adam\n",
        "from torchvision.datasets import MNIST\n",
        "import torchvision.transforms as transforms\n",
        "from torch.utils.data import DataLoader, SubsetRandomSampler\n",
        "import numpy as np\n",
        "import matplotlib.pyplot as plt\n",
        "import seaborn as sns\n",
        "from tqdm import tqdm\n",
        "from sklearn.metrics import roc_curve, precision_recall_curve, auc"
      ],
      "execution_count": 1,
      "outputs": []
    },
    {
      "cell_type": "code",
      "metadata": {
        "id": "Fo5GUsOyXj4A",
        "colab": {
          "base_uri": "https://localhost:8080/"
        },
        "outputId": "db29d7a1-f99c-4fb6-fdfc-374ec3ea2927"
      },
      "source": [
        "#Loading MNIST dataset\n",
        "\n",
        "dataset_path = '~/datasets'\n",
        "batch_size = 100\n",
        "\n",
        "#transform the data into tensor\n",
        "mnist_transform = transforms.Compose([\n",
        "        transforms.ToTensor(),\n",
        "])\n",
        "\n",
        "kwargs = {'num_workers': 1, 'pin_memory': True} \n",
        "\n",
        "#split the dataset into 60000 training and 10000 validation samples\n",
        "#they are already normalized\n",
        "train_dataset = MNIST(dataset_path, transform=mnist_transform, train=True, download=True)\n",
        "test_dataset  = MNIST(dataset_path, transform=mnist_transform, train=False, download=True)\n",
        "\n",
        "train_loader = DataLoader(dataset=train_dataset, batch_size=batch_size, shuffle=True, **kwargs)\n",
        "test_loader  = DataLoader(dataset=test_dataset,  batch_size=batch_size, shuffle=True,  **kwargs)\n",
        "\n",
        "print(len(train_dataset))\n",
        "print(len(test_dataset))\n",
        "print(type(train_dataset))\n",
        "\n",
        "#NOTE: we can use the code of the proffesor for the same results from train_vae.py"
      ],
      "execution_count": 2,
      "outputs": [
        {
          "output_type": "stream",
          "text": [
            "60000\n",
            "10000\n",
            "<class 'torchvision.datasets.mnist.MNIST'>\n"
          ],
          "name": "stdout"
        }
      ]
    },
    {
      "cell_type": "code",
      "metadata": {
        "id": "fNjd4miSYlXW"
      },
      "source": [
        "#create an Encoder\n",
        "class Encoder(nn.Module):\n",
        "    def __init__(self, input_dim, hidden_dim, latent_dim):\n",
        "        super(Encoder, self).__init__()\n",
        "        self.fc_input = nn.Linear(input_dim, hidden_dim)\n",
        "        self.fc_hidden = nn.Linear(hidden_dim, hidden_dim)\n",
        "        self.fc_mu = nn.Linear(hidden_dim, latent_dim)\n",
        "        self.fc_sigma = nn.Linear (hidden_dim, latent_dim)\n",
        "        \n",
        "    def forward(self, x):\n",
        "        h = torch.relu(self.fc_input(x))\n",
        "        h = torch.relu(self.fc_hidden(h))\n",
        "        mu = self.fc_mu(h)\n",
        "        log_sigma = self.fc_sigma(h)\n",
        "        z = self.reparameterization(mu, log_sigma)\n",
        "\n",
        "        return z, mu, log_sigma\n",
        "    \n",
        "    def reparameterization(self, mu, log_sigma):\n",
        "        sigma = torch.exp(log_sigma)\n",
        "        epsilon = torch.rand_like(sigma).to(DEVICE)\n",
        "        z = mu + sigma * epsilon\n",
        "        \n",
        "        return z"
      ],
      "execution_count": 3,
      "outputs": []
    },
    {
      "cell_type": "code",
      "metadata": {
        "id": "H2jpEcq0atgI"
      },
      "source": [
        "#create an Encoder\n",
        "class Decoder(nn.Module):\n",
        "    def __init__(self, latent_dim, hidden_dim, output_dim):\n",
        "        super(Decoder, self).__init__()\n",
        "        self.fc_hidden1 = nn.Linear(latent_dim, hidden_dim)\n",
        "        self.fc_hidden2 = nn.Linear(hidden_dim, hidden_dim)\n",
        "        self.fc_output = nn.Linear(hidden_dim, output_dim)\n",
        "        \n",
        "    def forward(self, x):\n",
        "        h = torch.relu(self.fc_hidden1(x))\n",
        "        h = torch.relu(self.fc_hidden2(h))\n",
        "        x_reconstr = torch.sigmoid(self.fc_output(h))\n",
        "        return x_reconstr"
      ],
      "execution_count": 4,
      "outputs": []
    },
    {
      "cell_type": "code",
      "metadata": {
        "id": "8YJ1qxqMaw1w"
      },
      "source": [
        "#create the VAE\n",
        "class VAE(nn.Module):\n",
        "    def __init__(self, encoder, decoder):\n",
        "        super(VAE, self).__init__()\n",
        "        self.encoder = encoder\n",
        "        self.decoder = decoder\n",
        "                \n",
        "    def forward(self, x):\n",
        "        z, mu, log_sigma = self.encoder(x)\n",
        "        x_reconstr = self.decoder(z)\n",
        "        \n",
        "        return x_reconstr, mu, log_sigma"
      ],
      "execution_count": 5,
      "outputs": []
    },
    {
      "cell_type": "code",
      "metadata": {
        "id": "w5dmJPDkayiW"
      },
      "source": [
        "x_dim  = 784\n",
        "hidden_dim = 100\n",
        "latent_dim = 2  #is too low-dimensional to perform well \n",
        "\n",
        "cuda = True \n",
        "DEVICE = torch.device(\"cuda\" if cuda else \"cpu\")\n",
        "\n",
        "encoder = Encoder(input_dim=x_dim, hidden_dim=hidden_dim, latent_dim=latent_dim)\n",
        "decoder = Decoder(latent_dim=latent_dim, hidden_dim=hidden_dim, output_dim=x_dim)\n",
        "\n",
        "vae = VAE(encoder=encoder, decoder=decoder).to(DEVICE)"
      ],
      "execution_count": 6,
      "outputs": []
    },
    {
      "cell_type": "code",
      "metadata": {
        "id": "B0tFgoILa5C2"
      },
      "source": [
        "#Elbo loss\n",
        "lr = 1e-3\n",
        "\n",
        "def loss_function(x, x_reconstr, mu, log_sigma):\n",
        "    #     d2 = (mu - x) ** 2\n",
        "    #     log_p = -0.5 * torch.sum(np.log(x_reconstr * 2 * np.pi) + d2 / x_reconstr)\n",
        "    #     KL = -0.5 * torch.sum(1 + torch.log(z) - mu**2 - z)\n",
        "    #     negative_ELBO = -log_p + KL\n",
        "    #     return negative_ELBO\n",
        "    reconstr_loss = nn.functional.mse_loss(x_reconstr, x, reduction='sum')\n",
        "    kl_loss = 0.5 * torch.sum(mu.pow(2) + (2*log_sigma).exp() - 2*log_sigma - 1)\n",
        "    total_loss = reconstr_loss + kl_loss\n",
        "    return total_loss, reconstr_loss, kl_loss\n",
        "\n",
        "optimizer = Adam(vae.parameters(), lr=lr)"
      ],
      "execution_count": 7,
      "outputs": []
    },
    {
      "cell_type": "code",
      "metadata": {
        "colab": {
          "base_uri": "https://localhost:8080/"
        },
        "id": "O-uGn8GdbbMF",
        "outputId": "82095456-cef1-480e-8962-593e9259529f"
      },
      "source": [
        "#Training the VAE\n",
        "epochs = 5\n",
        "\n",
        "print(\"Start training VAE...\")\n",
        "vae.train()\n",
        "\n",
        "elbo = []\n",
        "best_elbo = 1\n",
        "elb = 0\n",
        "es = 0\n",
        "print(type(elb))\n",
        "print(type(best_elbo))\n",
        "\n",
        "\n",
        "for epoch in range(epochs):\n",
        "    overall_loss = 0\n",
        "    overall_reconstr_loss = 0\n",
        "    overall_kl_loss = 0\n",
        "    for batch_idx, (x, _) in enumerate(train_loader):\n",
        "        x = x.view(batch_size, x_dim)\n",
        "        x = x.to(DEVICE)\n",
        "\n",
        "        optimizer.zero_grad()\n",
        "   \n",
        "        x_reconstr, mu, log_sigma = vae(x)\n",
        "        loss, reconstr_loss, kl_loss = loss_function(x, x_reconstr, mu, log_sigma)\n",
        "        \n",
        "        overall_loss += loss.item()\n",
        "        overall_reconstr_loss += reconstr_loss.item()\n",
        "        overall_kl_loss += kl_loss.item()\n",
        "        \n",
        "        loss.backward()\n",
        "        optimizer.step()\n",
        "        \n",
        "\n",
        "    n_datapoints = batch_idx * batch_size\n",
        "    elb = overall_loss / n_datapoints\n",
        "    elbo.append(elb)\n",
        "\n",
        "    # initialize the early stopping creterion\n",
        "    #dummy criterion. Maybe we can use something like if the absolute difference is smaller than...\n",
        "    if elb > best_elbo:\n",
        "      best_elbo == elbo \n",
        "      es = 0\n",
        "      torch.save(vae.state_dict(), \"model_\" + 'weight.pt')\n",
        "    else:\n",
        "      es +=1\n",
        "      print(\"Counter {} of 5\".format(es))\n",
        "\n",
        "      if es > 4:\n",
        "          print(\"Early stopping with best_acc: \", best_elbo, \"and val_acc for this epoch: \", elbo, \"...\")\n",
        "          break\n",
        "    \n",
        "    print(\"\\tEpoch\", epoch + 1, \"\\tAverage Loss: \", overall_loss / n_datapoints, \"\\tReconstruction Loss:\", overall_reconstr_loss / n_datapoints, \"\\tKL Loss:\", overall_kl_loss / n_datapoints)\n",
        "    \n",
        "print(\"Training complete!\")"
      ],
      "execution_count": 8,
      "outputs": [
        {
          "output_type": "stream",
          "text": [
            "Start training VAE...\n",
            "<class 'int'>\n",
            "<class 'int'>\n",
            "\tEpoch 1 \tAverage Loss:  49.233995302228976 \tReconstruction Loss: 48.11855176514894 \tKL Loss: 1.115443561180605\n",
            "\tEpoch 2 \tAverage Loss:  40.23011498249035 \tReconstruction Loss: 38.803273025028695 \tKL Loss: 1.4268419211615306\n",
            "\tEpoch 3 \tAverage Loss:  38.33759565503052 \tReconstruction Loss: 36.61916840160033 \tKL Loss: 1.7184272182763916\n",
            "\tEpoch 4 \tAverage Loss:  37.302937663847295 \tReconstruction Loss: 35.42924117507043 \tKL Loss: 1.8736964997305894\n",
            "\tEpoch 5 \tAverage Loss:  36.653841289845055 \tReconstruction Loss: 34.670059017633555 \tKL Loss: 1.983782268899908\n",
            "Training complete!\n"
          ],
          "name": "stdout"
        }
      ]
    },
    {
      "cell_type": "code",
      "metadata": {
        "colab": {
          "base_uri": "https://localhost:8080/"
        },
        "id": "oSeZvFqjdtse",
        "outputId": "2e25c493-c76c-41f9-f7be-a950239be38e"
      },
      "source": [
        "#Evaluate the VAE and reconstruct the data\n",
        "vae.eval()\n",
        "\n",
        "x_original_list = []\n",
        "y_list = []\n",
        "x_reconstr_list = []\n",
        "mu_list = []\n",
        "log_sigma_list = []\n",
        "with torch.no_grad():\n",
        "    for batch_idx, (x, y) in enumerate(tqdm(test_loader)):\n",
        "        x = x.view(batch_size, x_dim)\n",
        "        x = x.to(DEVICE)\n",
        "        \n",
        "        x_reconstr, mu, log_sigma = vae(x)\n",
        "        x_original_list.append(x)\n",
        "        y_list.append(y)\n",
        "        x_reconstr_list.append(x_reconstr)\n",
        "        mu_list.append(mu)\n",
        "        log_sigma_list.append(log_sigma)"
      ],
      "execution_count": 9,
      "outputs": [
        {
          "output_type": "stream",
          "text": [
            "100%|██████████| 100/100 [00:01<00:00, 98.36it/s]\n"
          ],
          "name": "stderr"
        }
      ]
    },
    {
      "cell_type": "code",
      "metadata": {
        "colab": {
          "base_uri": "https://localhost:8080/",
          "height": 415
        },
        "id": "S6kfBiNvdw7b",
        "outputId": "b52e9a79-9b70-4e0e-c95d-8ce1a4b4a667"
      },
      "source": [
        "#plotting Loss\n",
        "\n",
        "'''\n",
        "To get an overview of the accuracy over the training period, we define a simple function\n",
        "to plot the saved accuracies.\n",
        "'''\n",
        "def plot_train(train, test):\n",
        "    fig, ax = plt.subplots(figsize=(8,6))\n",
        "    fnt=16\n",
        "    ax.plot(train, color='blue', label='Train')\n",
        "    ax.plot(test, color='orange', linestyle='--', label='Test')\n",
        "    ax.legend(fontsize=fnt)\n",
        "    ax.tick_params(axis='both', labelsize=fnt)\n",
        "    ax.set_xlabel('Epoch', fontsize=fnt)\n",
        "    ax.set_ylabel('Accuracy', fontsize=fnt)\n",
        "\n",
        "plot_train(0, elbo)\n",
        "print(elbo)"
      ],
      "execution_count": 10,
      "outputs": [
        {
          "output_type": "stream",
          "text": [
            "[49.233995302228976, 40.23011498249035, 38.33759565503052, 37.302937663847295, 36.653841289845055]\n"
          ],
          "name": "stdout"
        },
        {
          "output_type": "display_data",
          "data": {
            "image/png": "[encoded data removed]",
            "text/plain": [
              "<Figure size 576x432 with 1 Axes>"
            ]
          },
          "metadata": {
            "tags": [],
            "needs_background": "light"
          }
        }
      ]
    },
    {
      "cell_type": "code",
      "metadata": {
        "colab": {
          "base_uri": "https://localhost:8080/",
          "height": 188
        },
        "id": "jcbeejA3e1n3",
        "outputId": "69e6cde6-f647-4c4c-b757-4475589c4824"
      },
      "source": [
        "#Plotting the reconstructions\n",
        "def show_image(x, idx):\n",
        "    x = x.view(batch_size, 28, 28)\n",
        "\n",
        "    fig = plt.figure()\n",
        "    plt.imshow(x[idx].cpu().numpy(), cmap=\"Greys_r\")\n",
        "def show_images(x, ncols=10):\n",
        "    \"\"\" plots first ncols images in a batch \"\"\"\n",
        "    x = x.view(batch_size, 28, 28)\n",
        "\n",
        "    fig, ax = plt.subplots(1, ncols, figsize=(20, 2))\n",
        "    for idx in range(ncols):\n",
        "        ax[idx].imshow(x[idx].cpu().numpy(), cmap=\"Greys_r\")\n",
        "        ax[idx].axis('off')\n",
        "batch_idx = 0\n",
        "show_images(x_original_list[batch_idx])\n",
        "show_images(x_reconstr_list[batch_idx])"
      ],
      "execution_count": 11,
      "outputs": [
        {
          "output_type": "display_data",
          "data": {
            "image/png": "[encoded data removed]",
            "text/plain": [
              "<Figure size 1440x144 with 10 Axes>"
            ]
          },
          "metadata": {
            "tags": [],
            "needs_background": "light"
          }
        },
        {
          "output_type": "display_data",
          "data": {
            "image/png": "[encoded data removed]",
            "text/plain": [
              "<Figure size 1440x144 with 10 Axes>"
            ]
          },
          "metadata": {
            "tags": [],
            "needs_background": "light"
          }
        }
      ]
    }
  ]
}