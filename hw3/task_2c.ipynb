{
 "nbformat": 4,
 "nbformat_minor": 0,
 "metadata": {
  "colab": {
   "name": "task_2.ipynb",
   "provenance": [],
   "collapsed_sections": []
  },
  "kernelspec": {
   "name": "python3",
   "language": "python",
   "display_name": "Python 3"
  },
  "language_info": {
   "name": "python"
  },
  "accelerator": "GPU"
 },
 "cells": [
  {
   "cell_type": "code",
   "metadata": {
    "id": "Ti8034dA0VLR"
   },
   "source": [
    "import torch\n",
    "import torch.nn as nn\n",
    "import torch.nn.functional as F\n",
    "import matplotlib.pyplot as plt\n",
    "import torchvision\n",
    "import numpy as np\n",
    "from tqdm import tqdm\n",
    "from torch.utils.data import TensorDataset\n",
    "from torch.utils.data import DataLoader"
   ],
   "execution_count": 1,
   "outputs": []
  },
  {
   "cell_type": "code",
   "metadata": {
    "id": "S8hHbcps0a9T"
   },
   "source": [
    "train_metadata = torchvision.datasets.MNIST(root='./data', train=True, download=True)\n",
    "test_metadata = torchvision.datasets.MNIST(root='./data', train=False, download=True)\n",
    "\n",
    "train_x = train_metadata.data[:50000].unsqueeze(1) / 255\n",
    "val_x = train_metadata.data[-10000:].unsqueeze(1) / 255\n",
    "test_x = test_metadata.data.unsqueeze(1) / 255\n",
    "train_y = train_metadata.targets[:50000]\n",
    "val_y = train_metadata.targets[-10000:]\n",
    "test_y = test_metadata.targets"
   ],
   "execution_count": 2,
   "outputs": []
  },
  {
   "cell_type": "code",
   "metadata": {
    "id": "zs8dXRYx0bHh"
   },
   "source": [
    "DEVICE = 'cuda' if torch.cuda.is_available() else 'cpu'\n",
    "BATCH_SIZE = 256\n",
    "NUM_TRAIN = 50000\n",
    "NUM_VAL = 10000\n",
    "IMG_C = train_x.shape[-3]\n",
    "IMG_H = train_x.shape[-2]\n",
    "IMG_W = train_x.shape[-1]\n",
    "\n",
    "train_data = TensorDataset(train_x, train_y)\n",
    "val_data = TensorDataset(val_x, val_y)\n",
    "test_data = TensorDataset(test_x, test_y)\n",
    "\n",
    "train_dataloader = DataLoader(train_data, batch_size=BATCH_SIZE, shuffle=True)\n",
    "val_dataloader = DataLoader(val_data, batch_size=BATCH_SIZE, shuffle=True)\n",
    "test_dataloader = DataLoader(test_data, batch_size=BATCH_SIZE)"
   ],
   "execution_count": 3,
   "outputs": []
  },
  {
   "cell_type": "code",
   "metadata": {
    "id": "7YIqJB2V0r-6"
   },
   "source": [
    "class Encoder(nn.Module):\n",
    "    def __init__(self, input_dim, latent_dim):\n",
    "        super(Encoder, self).__init__()\n",
    "        self.encode = nn.Sequential(\n",
    "          nn.Conv2d(input_dim, 32, kernel_size=(5, 5), stride=(1, 1), padding=(2, 2)),\n",
    "          nn.ReLU(inplace=True),\n",
    "          nn.MaxPool2d(kernel_size=2, stride=2),\n",
    "\n",
    "          nn.Conv2d(32, 64, kernel_size=(5, 5), stride=(1, 1), padding=(2, 2)),\n",
    "          nn.ReLU(inplace=True),\n",
    "          nn.MaxPool2d(kernel_size=2, stride=2),\n",
    "\n",
    "          nn.Conv2d(64, 128, kernel_size=(3, 3), stride=(1, 1), padding=(1, 1)),\n",
    "          nn.ReLU(inplace=True),\n",
    "          nn.MaxPool2d(kernel_size=2, stride=2),\n",
    "\n",
    "          nn.Flatten()\n",
    "        )\n",
    "        self.fc_mu = nn.Linear(128 * 3 * 3, latent_dim)\n",
    "        self.fc_var = nn.Linear(128 * 3 * 3, latent_dim)\n",
    "\n",
    "    def forward(self, x):\n",
    "        encoded = self.encode(x)\n",
    "        mu = self.fc_mu(encoded)\n",
    "        log_var = self.fc_var(encoded)\n",
    "        z = self.reparameterization(mu, log_var)\n",
    "        return z, mu, log_var\n",
    "\n",
    "    def reparameterization(self, mu, log_var):\n",
    "        std = torch.exp(0.5 * log_var)\n",
    "        epsilon = torch.randn_like(std).to(DEVICE)\n",
    "        z = mu + std * epsilon\n",
    "        return z\n",
    "\n",
    "class Decoder(nn.Module):\n",
    "    def __init__(self, latent_dim, output_dim, k=10):\n",
    "        super(Decoder, self).__init__()\n",
    "        self.k = k\n",
    "        self.decode = nn.Sequential(\n",
    "            nn.ConvTranspose2d(latent_dim, 128, kernel_size=(5, 5), stride=(2, 2), padding=(1, 1)),\n",
    "            nn.BatchNorm2d(128),\n",
    "            nn.ReLU(inplace=True),\n",
    "\n",
    "            nn.ConvTranspose2d(128, 64, kernel_size=(5, 5), stride=(2, 2), padding=(1, 1)),\n",
    "            nn.BatchNorm2d(64),\n",
    "            nn.ReLU(inplace=True),\n",
    "\n",
    "            nn.ConvTranspose2d(64, 32, kernel_size=(5, 5), stride=(2, 2), padding=(1, 1)),\n",
    "            nn.BatchNorm2d(32),\n",
    "            nn.ReLU(inplace=True),\n",
    "\n",
    "            nn.ConvTranspose2d(32, output_dim, kernel_size=(5, 5), stride=(2, 2), padding=(1, 1)),\n",
    "            nn.Flatten()\n",
    "        )\n",
    "        self.fc_probs = nn.Linear(31 * 31, IMG_H * IMG_W * k)\n",
    "\n",
    "    def forward(self, x):\n",
    "        x = x.unsqueeze(-1).unsqueeze(-1)\n",
    "        x = self.decode(x)\n",
    "        probs = self.fc_probs(x)\n",
    "        probs = probs.view(probs.shape[0], IMG_H * IMG_W, self.k)\n",
    "        probs = torch.softmax(probs, dim=-1)\n",
    "        return probs\n",
    "\n",
    "class VAE(nn.Module):\n",
    "    def __init__(self, encoder, decoder):\n",
    "        super(VAE, self).__init__()\n",
    "        self.encoder = encoder\n",
    "        self.decoder = decoder\n",
    "\n",
    "    def forward(self, x):\n",
    "        z, mu_z, log_var_z = self.encoder(x)\n",
    "        probs_x = self.decoder(z)\n",
    "        return mu_z, log_var_z, probs_x\n",
    "\n",
    "    def reconstruct(self, probs_x):\n",
    "        cate_dist = torch.distributions.categorical.Categorical(probs_x)\n",
    "        x_recon = cate_dist.sample() / (self.decoder.k - 1)\n",
    "        return x_recon.view(x_recon.shape[0], IMG_C, IMG_H, IMG_W)"
   ],
   "execution_count": 37,
   "outputs": []
  },
  {
   "cell_type": "code",
   "metadata": {
    "colab": {
     "base_uri": "https://localhost:8080/"
    },
    "id": "X9L31WKJ4FYf",
    "outputId": "fb50a16d-a18b-4e17-f3ac-b4c538588d3f"
   },
   "source": [
    "LATENT_DIM = 16\n",
    "NUM_BINS = 4\n",
    "\n",
    "encoder = Encoder(input_dim=IMG_C, latent_dim=LATENT_DIM)\n",
    "decoder = Decoder(latent_dim=LATENT_DIM, output_dim=IMG_C, k=NUM_BINS)\n",
    "vae = VAE(encoder, decoder).to(DEVICE)\n",
    "print(vae)"
   ],
   "execution_count": 38,
   "outputs": [
    {
     "name": "stdout",
     "output_type": "stream",
     "text": [
      "VAE(\n",
      "  (encoder): Encoder(\n",
      "    (encode): Sequential(\n",
      "      (0): Conv2d(1, 32, kernel_size=(5, 5), stride=(1, 1), padding=(2, 2))\n",
      "      (1): ReLU(inplace=True)\n",
      "      (2): MaxPool2d(kernel_size=2, stride=2, padding=0, dilation=1, ceil_mode=False)\n",
      "      (3): Conv2d(32, 64, kernel_size=(5, 5), stride=(1, 1), padding=(2, 2))\n",
      "      (4): ReLU(inplace=True)\n",
      "      (5): MaxPool2d(kernel_size=2, stride=2, padding=0, dilation=1, ceil_mode=False)\n",
      "      (6): Conv2d(64, 128, kernel_size=(3, 3), stride=(1, 1), padding=(1, 1))\n",
      "      (7): ReLU(inplace=True)\n",
      "      (8): MaxPool2d(kernel_size=2, stride=2, padding=0, dilation=1, ceil_mode=False)\n",
      "      (9): Flatten(start_dim=1, end_dim=-1)\n",
      "    )\n",
      "    (fc_mu): Linear(in_features=1152, out_features=16, bias=True)\n",
      "    (fc_var): Linear(in_features=1152, out_features=16, bias=True)\n",
      "  )\n",
      "  (decoder): Decoder(\n",
      "    (decode): Sequential(\n",
      "      (0): ConvTranspose2d(16, 128, kernel_size=(5, 5), stride=(2, 2), padding=(1, 1))\n",
      "      (1): BatchNorm2d(128, eps=1e-05, momentum=0.1, affine=True, track_running_stats=True)\n",
      "      (2): ReLU(inplace=True)\n",
      "      (3): ConvTranspose2d(128, 64, kernel_size=(5, 5), stride=(2, 2), padding=(1, 1))\n",
      "      (4): BatchNorm2d(64, eps=1e-05, momentum=0.1, affine=True, track_running_stats=True)\n",
      "      (5): ReLU(inplace=True)\n",
      "      (6): ConvTranspose2d(64, 32, kernel_size=(5, 5), stride=(2, 2), padding=(1, 1))\n",
      "      (7): BatchNorm2d(32, eps=1e-05, momentum=0.1, affine=True, track_running_stats=True)\n",
      "      (8): ReLU(inplace=True)\n",
      "      (9): ConvTranspose2d(32, 1, kernel_size=(5, 5), stride=(2, 2), padding=(1, 1))\n",
      "      (10): Flatten(start_dim=1, end_dim=-1)\n",
      "    )\n",
      "    (fc_probs): Linear(in_features=961, out_features=3136, bias=True)\n",
      "  )\n",
      ")\n"
     ]
    }
   ]
  },
  {
   "cell_type": "code",
   "metadata": {
    "colab": {
     "base_uri": "https://localhost:8080/",
     "height": 381
    },
    "id": "M73UiUda4HjL",
    "outputId": "65abb014-9965-47a0-f1f8-0b9c7ceeff8a"
   },
   "source": [
    "optimizer = torch.optim.Adam(vae.parameters(), lr=1e-3)\n",
    "\n",
    "def train_vae(num_epochs, patience=5):\n",
    "    train_elbos = []\n",
    "    val_elbos = []\n",
    "    best_val_elbo = np.inf\n",
    "    tolerance = 0\n",
    "    epochs = num_epochs\n",
    "    for epoch in tqdm(range(num_epochs)):\n",
    "        overall_train_elbo = 0.0\n",
    "        overall_val_elbo = 0.0\n",
    "        for batch in train_dataloader:\n",
    "            optimizer.zero_grad()\n",
    "            x, _ = batch\n",
    "            x = x.to(DEVICE)\n",
    "            mu_z, log_var_z, probs_x = vae(x)\n",
    "            x = torch.flatten(x, start_dim=1)\n",
    "            x = torch.clamp(torch.round(x * NUM_BINS), min=0, max=NUM_BINS - 1)\n",
    "            x = F.one_hot(x.long())\n",
    "            log_p = torch.sum(torch.log(probs_x * x + 1e-7))\n",
    "            kl = -0.5 * torch.sum(1 + log_var_z - mu_z.pow(2) - log_var_z.exp())\n",
    "            negative_elbo = -log_p + kl\n",
    "            negative_elbo.backward()\n",
    "            optimizer.step()\n",
    "            overall_train_elbo += negative_elbo.item()\n",
    "\n",
    "        for batch in val_dataloader:\n",
    "            x, _ = batch\n",
    "            x = x.to(DEVICE)\n",
    "            with torch.no_grad():\n",
    "                mu_z, log_var_z, probs_x = vae(x)\n",
    "                x = torch.flatten(x, start_dim=1)\n",
    "                x = torch.clamp(torch.round(x * NUM_BINS), min=0, max=NUM_BINS - 1)\n",
    "                x = F.one_hot(x.long())\n",
    "                log_p = torch.sum(torch.log(probs_x * x + 1e-7))\n",
    "                kl = -0.5 * torch.sum(1 + log_var_z - mu_z.pow(2) - log_var_z.exp())\n",
    "                negative_elbo = -log_p + kl\n",
    "                overall_val_elbo += negative_elbo.item()\n",
    "        mean_train_elbo = overall_train_elbo / NUM_TRAIN\n",
    "        mean_val_elbo = overall_val_elbo / NUM_VAL\n",
    "        print('Epoch {}, Mean Training ELBO {}, Mean Validation ELBO {}'.format(epoch + 1, mean_train_elbo, mean_val_elbo))\n",
    "        train_elbos.append(mean_train_elbo)\n",
    "        val_elbos.append(mean_val_elbo)\n",
    "        if mean_val_elbo < best_val_elbo:\n",
    "            best_val_elbo = mean_val_elbo\n",
    "            tolerance = 0\n",
    "        else:\n",
    "            tolerance += 1\n",
    "            if tolerance == patience:\n",
    "                print('Early Stopped!')\n",
    "                epochs = epoch + 1\n",
    "                break\n",
    "    plt.plot(range(1, epochs + 1), train_elbos, 'g', label='Training Mean Negative ELBO')\n",
    "    plt.plot(range(1, epochs + 1), val_elbos, 'b', label='Validation Mean Negative ELBO')\n",
    "    plt.title('Training and Validation Mean Negative ELBO')\n",
    "    plt.xlabel('Epochs')\n",
    "    plt.ylabel('Mean Negative ELBO')\n",
    "    plt.legend()\n",
    "    plt.show()\n",
    "train_vae(num_epochs=20)"
   ],
   "execution_count": 39,
   "outputs": [
    {
     "name": "stderr",
     "output_type": "stream",
     "text": [
      "  5%|▌         | 1/20 [00:06<02:02,  6.46s/it]"
     ]
    },
    {
     "name": "stdout",
     "output_type": "stream",
     "text": [
      "Epoch 1, Mean Training ELBO 38246.65559, Mean Validation ELBO 38215.82119375\n"
     ]
    },
    {
     "name": "stderr",
     "output_type": "stream",
     "text": [
      " 10%|█         | 2/20 [00:12<01:56,  6.46s/it]"
     ]
    },
    {
     "name": "stdout",
     "output_type": "stream",
     "text": [
      "Epoch 2, Mean Training ELBO 38162.00721, Mean Validation ELBO 38131.7372\n"
     ]
    },
    {
     "name": "stderr",
     "output_type": "stream",
     "text": [
      " 15%|█▌        | 3/20 [00:19<01:49,  6.46s/it]"
     ]
    },
    {
     "name": "stdout",
     "output_type": "stream",
     "text": [
      "Epoch 3, Mean Training ELBO 38116.352315, Mean Validation ELBO 38106.59595625\n"
     ]
    },
    {
     "name": "stderr",
     "output_type": "stream",
     "text": [
      " 20%|██        | 4/20 [00:25<01:43,  6.47s/it]"
     ]
    },
    {
     "name": "stdout",
     "output_type": "stream",
     "text": [
      "Epoch 4, Mean Training ELBO 38098.655285, Mean Validation ELBO 38096.54806875\n"
     ]
    },
    {
     "name": "stderr",
     "output_type": "stream",
     "text": [
      " 25%|██▌       | 5/20 [00:32<01:37,  6.50s/it]"
     ]
    },
    {
     "name": "stdout",
     "output_type": "stream",
     "text": [
      "Epoch 5, Mean Training ELBO 38089.437975, Mean Validation ELBO 38088.66819375\n"
     ]
    },
    {
     "name": "stderr",
     "output_type": "stream",
     "text": [
      " 30%|███       | 6/20 [00:38<01:30,  6.49s/it]"
     ]
    },
    {
     "name": "stdout",
     "output_type": "stream",
     "text": [
      "Epoch 6, Mean Training ELBO 38083.459045, Mean Validation ELBO 38084.98254375\n"
     ]
    },
    {
     "name": "stderr",
     "output_type": "stream",
     "text": [
      " 35%|███▌      | 7/20 [00:45<01:24,  6.50s/it]"
     ]
    },
    {
     "name": "stdout",
     "output_type": "stream",
     "text": [
      "Epoch 7, Mean Training ELBO 38079.29487, Mean Validation ELBO 38080.58383125\n"
     ]
    },
    {
     "name": "stderr",
     "output_type": "stream",
     "text": [
      " 40%|████      | 8/20 [00:51<01:18,  6.51s/it]"
     ]
    },
    {
     "name": "stdout",
     "output_type": "stream",
     "text": [
      "Epoch 8, Mean Training ELBO 38076.64155, Mean Validation ELBO 38079.51506875\n"
     ]
    },
    {
     "name": "stderr",
     "output_type": "stream",
     "text": [
      " 45%|████▌     | 9/20 [00:58<01:11,  6.52s/it]"
     ]
    },
    {
     "name": "stdout",
     "output_type": "stream",
     "text": [
      "Epoch 9, Mean Training ELBO 38073.752255, Mean Validation ELBO 38077.27725\n"
     ]
    },
    {
     "name": "stderr",
     "output_type": "stream",
     "text": [
      " 50%|█████     | 10/20 [01:05<01:05,  6.55s/it]"
     ]
    },
    {
     "name": "stdout",
     "output_type": "stream",
     "text": [
      "Epoch 10, Mean Training ELBO 38071.73682, Mean Validation ELBO 38080.51801875\n"
     ]
    },
    {
     "name": "stderr",
     "output_type": "stream",
     "text": [
      " 55%|█████▌    | 11/20 [01:11<00:58,  6.54s/it]"
     ]
    },
    {
     "name": "stdout",
     "output_type": "stream",
     "text": [
      "Epoch 11, Mean Training ELBO 38070.39929, Mean Validation ELBO 38076.70963125\n"
     ]
    },
    {
     "name": "stderr",
     "output_type": "stream",
     "text": [
      " 60%|██████    | 12/20 [01:18<00:52,  6.54s/it]"
     ]
    },
    {
     "name": "stdout",
     "output_type": "stream",
     "text": [
      "Epoch 12, Mean Training ELBO 38068.15972, Mean Validation ELBO 38078.1646375\n"
     ]
    },
    {
     "name": "stderr",
     "output_type": "stream",
     "text": [
      " 65%|██████▌   | 13/20 [01:24<00:45,  6.54s/it]"
     ]
    },
    {
     "name": "stdout",
     "output_type": "stream",
     "text": [
      "Epoch 13, Mean Training ELBO 38067.00714, Mean Validation ELBO 38073.82113125\n"
     ]
    },
    {
     "name": "stderr",
     "output_type": "stream",
     "text": [
      " 70%|███████   | 14/20 [01:31<00:39,  6.55s/it]"
     ]
    },
    {
     "name": "stdout",
     "output_type": "stream",
     "text": [
      "Epoch 14, Mean Training ELBO 38065.089355, Mean Validation ELBO 38074.28445\n"
     ]
    },
    {
     "name": "stderr",
     "output_type": "stream",
     "text": [
      " 75%|███████▌  | 15/20 [01:37<00:32,  6.57s/it]"
     ]
    },
    {
     "name": "stdout",
     "output_type": "stream",
     "text": [
      "Epoch 15, Mean Training ELBO 38064.346115, Mean Validation ELBO 38072.9667125\n"
     ]
    },
    {
     "name": "stderr",
     "output_type": "stream",
     "text": [
      " 80%|████████  | 16/20 [01:44<00:26,  6.56s/it]"
     ]
    },
    {
     "name": "stdout",
     "output_type": "stream",
     "text": [
      "Epoch 16, Mean Training ELBO 38063.555335, Mean Validation ELBO 38073.07985625\n"
     ]
    },
    {
     "name": "stderr",
     "output_type": "stream",
     "text": [
      " 85%|████████▌ | 17/20 [01:51<00:19,  6.56s/it]"
     ]
    },
    {
     "name": "stdout",
     "output_type": "stream",
     "text": [
      "Epoch 17, Mean Training ELBO 38062.88067, Mean Validation ELBO 38071.23756875\n"
     ]
    },
    {
     "name": "stderr",
     "output_type": "stream",
     "text": [
      " 90%|█████████ | 18/20 [01:57<00:13,  6.56s/it]"
     ]
    },
    {
     "name": "stdout",
     "output_type": "stream",
     "text": [
      "Epoch 18, Mean Training ELBO 38061.425315, Mean Validation ELBO 38072.608325\n"
     ]
    },
    {
     "name": "stderr",
     "output_type": "stream",
     "text": [
      " 95%|█████████▌| 19/20 [02:04<00:06,  6.58s/it]"
     ]
    },
    {
     "name": "stdout",
     "output_type": "stream",
     "text": [
      "Epoch 19, Mean Training ELBO 38060.77558, Mean Validation ELBO 38071.864025\n"
     ]
    },
    {
     "name": "stderr",
     "output_type": "stream",
     "text": [
      "100%|██████████| 20/20 [02:10<00:00,  6.54s/it]"
     ]
    },
    {
     "name": "stdout",
     "output_type": "stream",
     "text": [
      "Epoch 20, Mean Training ELBO 38059.94237, Mean Validation ELBO 38071.98151875\n"
     ]
    },
    {
     "name": "stderr",
     "output_type": "stream",
     "text": [
      "\n"
     ]
    },
    {
     "data": {
      "text/plain": "<Figure size 432x288 with 1 Axes>",
      "image/png": "[encoded data removed]"
     },
     "metadata": {
      "needs_background": "light"
     },
     "output_type": "display_data"
    }
   ]
  },
  {
   "cell_type": "code",
   "metadata": {
    "id": "C6rbozmAOn3d"
   },
   "source": [
    "def test_vae():\n",
    "    x, _ = next(iter(test_dataloader))\n",
    "    x = x.to(DEVICE)\n",
    "    with torch.no_grad():\n",
    "        _, _, probs_x = vae(x)\n",
    "        x_recon = vae.reconstruct(probs_x)\n",
    "        return x, x_recon\n",
    "test_batch, test_batch_recon = test_vae()"
   ],
   "execution_count": 40,
   "outputs": []
  },
  {
   "cell_type": "code",
   "execution_count": 41,
   "outputs": [
    {
     "data": {
      "text/plain": "<Figure size 1440x1440 with 64 Axes>",
      "image/png": "[encoded data removed]"
     },
     "metadata": {
      "needs_background": "light"
     },
     "output_type": "display_data"
    }
   ],
   "source": [
    "def show_images(x, x_recon):\n",
    "    \"\"\" plots first 32 images and reconstructions\"\"\"\n",
    "    x = x.view(BATCH_SIZE, 28, 28)\n",
    "    x_recon = x_recon.view(BATCH_SIZE, 28, 28)\n",
    "    fig, ax = plt.subplots(8, 8, figsize=(20, 20))\n",
    "    for i in range(8):\n",
    "        for j in range(4):\n",
    "            ax[i][2*j].imshow(x[i*4+j].cpu().numpy(), cmap=\"Greys_r\")\n",
    "            ax[i][2*j+1].imshow(x_recon[i*4+j].cpu().numpy(), cmap=\"Greys_r\")\n",
    "            ax[i][2*j].set_title(f\"Input {i*4+j}\", fontsize=10)\n",
    "            ax[i][2*j+1].set_title(f\"Output {i*4+j}\", fontsize=10)\n",
    "            ax[i][2*j].axis('off')\n",
    "            ax[i][2*j+1].axis('off')\n",
    "show_images(test_batch, test_batch_recon)"
   ],
   "metadata": {
    "collapsed": false,
    "pycharm": {
     "name": "#%%\n"
    }
   }
  },
  {
   "cell_type": "code",
   "execution_count": null,
   "outputs": [],
   "source": [],
   "metadata": {
    "collapsed": false,
    "pycharm": {
     "name": "#%%\n"
    }
   }
  }
 ]
}